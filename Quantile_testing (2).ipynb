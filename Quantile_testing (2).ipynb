{
  "nbformat": 4,
  "nbformat_minor": 0,
  "metadata": {
    "colab": {
      "provenance": []
    },
    "kernelspec": {
      "name": "python3",
      "display_name": "Python 3"
    },
    "language_info": {
      "name": "python"
    }
  },
  "cells": [
    {
      "cell_type": "code",
      "execution_count": 134,
      "metadata": {
        "id": "lbu9efRrm8rB"
      },
      "outputs": [],
      "source": [
        "import numpy as np\n",
        "import pandas as pd\n",
        "import yfinance as yf\n",
        "import matplotlib.pyplot as plt"
      ]
    },
    {
      "cell_type": "code",
      "source": [
        "import scipy\n",
        "from scipy.stats import norm"
      ],
      "metadata": {
        "id": "_bFybhox26tc"
      },
      "execution_count": 135,
      "outputs": []
    },
    {
      "cell_type": "code",
      "source": [
        "stock='AXISBANK.NS'\n",
        "data = yf.download(stock,'2005-01-01','2023-05-05')"
      ],
      "metadata": {
        "colab": {
          "base_uri": "https://localhost:8080/"
        },
        "id": "sLp6mSkQm9ZS",
        "outputId": "a34e6b29-d191-4be9-e03d-03bfbbce2922"
      },
      "execution_count": 136,
      "outputs": [
        {
          "output_type": "stream",
          "name": "stdout",
          "text": [
            "\r[*********************100%***********************]  1 of 1 completed\n"
          ]
        }
      ]
    },
    {
      "cell_type": "code",
      "source": [
        "data"
      ],
      "metadata": {
        "colab": {
          "base_uri": "https://localhost:8080/",
          "height": 455
        },
        "id": "re200cTwnAnm",
        "outputId": "f7cda8cf-8b0e-45b8-afa2-0964918bdb62"
      },
      "execution_count": 137,
      "outputs": [
        {
          "output_type": "execute_result",
          "data": {
            "text/plain": [
              "                  Open        High         Low       Close   Adj Close  \\\n",
              "Date                                                                     \n",
              "2005-01-03   37.000000   38.200001   37.000000   38.040001   32.853146   \n",
              "2005-01-04   38.220001   38.400002   37.400002   37.939999   32.766777   \n",
              "2005-01-05   37.990002   37.990002   35.509998   36.849998   31.825399   \n",
              "2005-01-06   36.820000   38.000000   35.400002   37.029999   31.980860   \n",
              "2005-01-07   36.130001   38.380001   36.130001   38.020000   32.835873   \n",
              "...                ...         ...         ...         ...         ...   \n",
              "2023-04-27  888.000000  890.000000  877.500000  881.400024  879.590515   \n",
              "2023-04-28  885.099976  890.049988  853.650024  860.000000  858.234375   \n",
              "2023-05-02  870.000000  876.400024  864.250000  870.650024  868.862549   \n",
              "2023-05-03  863.849976  866.849976  854.049988  859.849976  858.084717   \n",
              "2023-05-04  860.000000  867.150024  857.500000  865.950012  864.172180   \n",
              "\n",
              "              Volume  \n",
              "Date                  \n",
              "2005-01-03   1421010  \n",
              "2005-01-04   1115825  \n",
              "2005-01-05   1163085  \n",
              "2005-01-06   1192610  \n",
              "2005-01-07   1530260  \n",
              "...              ...  \n",
              "2023-04-27  15992383  \n",
              "2023-04-28  23004117  \n",
              "2023-05-02  12947953  \n",
              "2023-05-03  15103015  \n",
              "2023-05-04   9756391  \n",
              "\n",
              "[4525 rows x 6 columns]"
            ],
            "text/html": [
              "\n",
              "\n",
              "  <div id=\"df-964bed3f-01ad-48b8-a865-03fcd13ae3da\">\n",
              "    <div class=\"colab-df-container\">\n",
              "      <div>\n",
              "<style scoped>\n",
              "    .dataframe tbody tr th:only-of-type {\n",
              "        vertical-align: middle;\n",
              "    }\n",
              "\n",
              "    .dataframe tbody tr th {\n",
              "        vertical-align: top;\n",
              "    }\n",
              "\n",
              "    .dataframe thead th {\n",
              "        text-align: right;\n",
              "    }\n",
              "</style>\n",
              "<table border=\"1\" class=\"dataframe\">\n",
              "  <thead>\n",
              "    <tr style=\"text-align: right;\">\n",
              "      <th></th>\n",
              "      <th>Open</th>\n",
              "      <th>High</th>\n",
              "      <th>Low</th>\n",
              "      <th>Close</th>\n",
              "      <th>Adj Close</th>\n",
              "      <th>Volume</th>\n",
              "    </tr>\n",
              "    <tr>\n",
              "      <th>Date</th>\n",
              "      <th></th>\n",
              "      <th></th>\n",
              "      <th></th>\n",
              "      <th></th>\n",
              "      <th></th>\n",
              "      <th></th>\n",
              "    </tr>\n",
              "  </thead>\n",
              "  <tbody>\n",
              "    <tr>\n",
              "      <th>2005-01-03</th>\n",
              "      <td>37.000000</td>\n",
              "      <td>38.200001</td>\n",
              "      <td>37.000000</td>\n",
              "      <td>38.040001</td>\n",
              "      <td>32.853146</td>\n",
              "      <td>1421010</td>\n",
              "    </tr>\n",
              "    <tr>\n",
              "      <th>2005-01-04</th>\n",
              "      <td>38.220001</td>\n",
              "      <td>38.400002</td>\n",
              "      <td>37.400002</td>\n",
              "      <td>37.939999</td>\n",
              "      <td>32.766777</td>\n",
              "      <td>1115825</td>\n",
              "    </tr>\n",
              "    <tr>\n",
              "      <th>2005-01-05</th>\n",
              "      <td>37.990002</td>\n",
              "      <td>37.990002</td>\n",
              "      <td>35.509998</td>\n",
              "      <td>36.849998</td>\n",
              "      <td>31.825399</td>\n",
              "      <td>1163085</td>\n",
              "    </tr>\n",
              "    <tr>\n",
              "      <th>2005-01-06</th>\n",
              "      <td>36.820000</td>\n",
              "      <td>38.000000</td>\n",
              "      <td>35.400002</td>\n",
              "      <td>37.029999</td>\n",
              "      <td>31.980860</td>\n",
              "      <td>1192610</td>\n",
              "    </tr>\n",
              "    <tr>\n",
              "      <th>2005-01-07</th>\n",
              "      <td>36.130001</td>\n",
              "      <td>38.380001</td>\n",
              "      <td>36.130001</td>\n",
              "      <td>38.020000</td>\n",
              "      <td>32.835873</td>\n",
              "      <td>1530260</td>\n",
              "    </tr>\n",
              "    <tr>\n",
              "      <th>...</th>\n",
              "      <td>...</td>\n",
              "      <td>...</td>\n",
              "      <td>...</td>\n",
              "      <td>...</td>\n",
              "      <td>...</td>\n",
              "      <td>...</td>\n",
              "    </tr>\n",
              "    <tr>\n",
              "      <th>2023-04-27</th>\n",
              "      <td>888.000000</td>\n",
              "      <td>890.000000</td>\n",
              "      <td>877.500000</td>\n",
              "      <td>881.400024</td>\n",
              "      <td>879.590515</td>\n",
              "      <td>15992383</td>\n",
              "    </tr>\n",
              "    <tr>\n",
              "      <th>2023-04-28</th>\n",
              "      <td>885.099976</td>\n",
              "      <td>890.049988</td>\n",
              "      <td>853.650024</td>\n",
              "      <td>860.000000</td>\n",
              "      <td>858.234375</td>\n",
              "      <td>23004117</td>\n",
              "    </tr>\n",
              "    <tr>\n",
              "      <th>2023-05-02</th>\n",
              "      <td>870.000000</td>\n",
              "      <td>876.400024</td>\n",
              "      <td>864.250000</td>\n",
              "      <td>870.650024</td>\n",
              "      <td>868.862549</td>\n",
              "      <td>12947953</td>\n",
              "    </tr>\n",
              "    <tr>\n",
              "      <th>2023-05-03</th>\n",
              "      <td>863.849976</td>\n",
              "      <td>866.849976</td>\n",
              "      <td>854.049988</td>\n",
              "      <td>859.849976</td>\n",
              "      <td>858.084717</td>\n",
              "      <td>15103015</td>\n",
              "    </tr>\n",
              "    <tr>\n",
              "      <th>2023-05-04</th>\n",
              "      <td>860.000000</td>\n",
              "      <td>867.150024</td>\n",
              "      <td>857.500000</td>\n",
              "      <td>865.950012</td>\n",
              "      <td>864.172180</td>\n",
              "      <td>9756391</td>\n",
              "    </tr>\n",
              "  </tbody>\n",
              "</table>\n",
              "<p>4525 rows × 6 columns</p>\n",
              "</div>\n",
              "      <button class=\"colab-df-convert\" onclick=\"convertToInteractive('df-964bed3f-01ad-48b8-a865-03fcd13ae3da')\"\n",
              "              title=\"Convert this dataframe to an interactive table.\"\n",
              "              style=\"display:none;\">\n",
              "\n",
              "  <svg xmlns=\"http://www.w3.org/2000/svg\" height=\"24px\"viewBox=\"0 0 24 24\"\n",
              "       width=\"24px\">\n",
              "    <path d=\"M0 0h24v24H0V0z\" fill=\"none\"/>\n",
              "    <path d=\"M18.56 5.44l.94 2.06.94-2.06 2.06-.94-2.06-.94-.94-2.06-.94 2.06-2.06.94zm-11 1L8.5 8.5l.94-2.06 2.06-.94-2.06-.94L8.5 2.5l-.94 2.06-2.06.94zm10 10l.94 2.06.94-2.06 2.06-.94-2.06-.94-.94-2.06-.94 2.06-2.06.94z\"/><path d=\"M17.41 7.96l-1.37-1.37c-.4-.4-.92-.59-1.43-.59-.52 0-1.04.2-1.43.59L10.3 9.45l-7.72 7.72c-.78.78-.78 2.05 0 2.83L4 21.41c.39.39.9.59 1.41.59.51 0 1.02-.2 1.41-.59l7.78-7.78 2.81-2.81c.8-.78.8-2.07 0-2.86zM5.41 20L4 18.59l7.72-7.72 1.47 1.35L5.41 20z\"/>\n",
              "  </svg>\n",
              "      </button>\n",
              "\n",
              "\n",
              "\n",
              "    <div id=\"df-f0b6b3b9-f546-475a-98f5-366d22a98d93\">\n",
              "      <button class=\"colab-df-quickchart\" onclick=\"quickchart('df-f0b6b3b9-f546-475a-98f5-366d22a98d93')\"\n",
              "              title=\"Suggest charts.\"\n",
              "              style=\"display:none;\">\n",
              "\n",
              "<svg xmlns=\"http://www.w3.org/2000/svg\" height=\"24px\"viewBox=\"0 0 24 24\"\n",
              "     width=\"24px\">\n",
              "    <g>\n",
              "        <path d=\"M19 3H5c-1.1 0-2 .9-2 2v14c0 1.1.9 2 2 2h14c1.1 0 2-.9 2-2V5c0-1.1-.9-2-2-2zM9 17H7v-7h2v7zm4 0h-2V7h2v10zm4 0h-2v-4h2v4z\"/>\n",
              "    </g>\n",
              "</svg>\n",
              "      </button>\n",
              "    </div>\n",
              "\n",
              "<style>\n",
              "  .colab-df-quickchart {\n",
              "    background-color: #E8F0FE;\n",
              "    border: none;\n",
              "    border-radius: 50%;\n",
              "    cursor: pointer;\n",
              "    display: none;\n",
              "    fill: #1967D2;\n",
              "    height: 32px;\n",
              "    padding: 0 0 0 0;\n",
              "    width: 32px;\n",
              "  }\n",
              "\n",
              "  .colab-df-quickchart:hover {\n",
              "    background-color: #E2EBFA;\n",
              "    box-shadow: 0px 1px 2px rgba(60, 64, 67, 0.3), 0px 1px 3px 1px rgba(60, 64, 67, 0.15);\n",
              "    fill: #174EA6;\n",
              "  }\n",
              "\n",
              "  [theme=dark] .colab-df-quickchart {\n",
              "    background-color: #3B4455;\n",
              "    fill: #D2E3FC;\n",
              "  }\n",
              "\n",
              "  [theme=dark] .colab-df-quickchart:hover {\n",
              "    background-color: #434B5C;\n",
              "    box-shadow: 0px 1px 3px 1px rgba(0, 0, 0, 0.15);\n",
              "    filter: drop-shadow(0px 1px 2px rgba(0, 0, 0, 0.3));\n",
              "    fill: #FFFFFF;\n",
              "  }\n",
              "</style>\n",
              "\n",
              "    <script>\n",
              "      async function quickchart(key) {\n",
              "        const containerElement = document.querySelector('#' + key);\n",
              "        const charts = await google.colab.kernel.invokeFunction(\n",
              "            'suggestCharts', [key], {});\n",
              "      }\n",
              "    </script>\n",
              "\n",
              "      <script>\n",
              "\n",
              "function displayQuickchartButton(domScope) {\n",
              "  let quickchartButtonEl =\n",
              "    domScope.querySelector('#df-f0b6b3b9-f546-475a-98f5-366d22a98d93 button.colab-df-quickchart');\n",
              "  quickchartButtonEl.style.display =\n",
              "    google.colab.kernel.accessAllowed ? 'block' : 'none';\n",
              "}\n",
              "\n",
              "        displayQuickchartButton(document);\n",
              "      </script>\n",
              "      <style>\n",
              "    .colab-df-container {\n",
              "      display:flex;\n",
              "      flex-wrap:wrap;\n",
              "      gap: 12px;\n",
              "    }\n",
              "\n",
              "    .colab-df-convert {\n",
              "      background-color: #E8F0FE;\n",
              "      border: none;\n",
              "      border-radius: 50%;\n",
              "      cursor: pointer;\n",
              "      display: none;\n",
              "      fill: #1967D2;\n",
              "      height: 32px;\n",
              "      padding: 0 0 0 0;\n",
              "      width: 32px;\n",
              "    }\n",
              "\n",
              "    .colab-df-convert:hover {\n",
              "      background-color: #E2EBFA;\n",
              "      box-shadow: 0px 1px 2px rgba(60, 64, 67, 0.3), 0px 1px 3px 1px rgba(60, 64, 67, 0.15);\n",
              "      fill: #174EA6;\n",
              "    }\n",
              "\n",
              "    [theme=dark] .colab-df-convert {\n",
              "      background-color: #3B4455;\n",
              "      fill: #D2E3FC;\n",
              "    }\n",
              "\n",
              "    [theme=dark] .colab-df-convert:hover {\n",
              "      background-color: #434B5C;\n",
              "      box-shadow: 0px 1px 3px 1px rgba(0, 0, 0, 0.15);\n",
              "      filter: drop-shadow(0px 1px 2px rgba(0, 0, 0, 0.3));\n",
              "      fill: #FFFFFF;\n",
              "    }\n",
              "  </style>\n",
              "\n",
              "      <script>\n",
              "        const buttonEl =\n",
              "          document.querySelector('#df-964bed3f-01ad-48b8-a865-03fcd13ae3da button.colab-df-convert');\n",
              "        buttonEl.style.display =\n",
              "          google.colab.kernel.accessAllowed ? 'block' : 'none';\n",
              "\n",
              "        async function convertToInteractive(key) {\n",
              "          const element = document.querySelector('#df-964bed3f-01ad-48b8-a865-03fcd13ae3da');\n",
              "          const dataTable =\n",
              "            await google.colab.kernel.invokeFunction('convertToInteractive',\n",
              "                                                     [key], {});\n",
              "          if (!dataTable) return;\n",
              "\n",
              "          const docLinkHtml = 'Like what you see? Visit the ' +\n",
              "            '<a target=\"_blank\" href=https://colab.research.google.com/notebooks/data_table.ipynb>data table notebook</a>'\n",
              "            + ' to learn more about interactive tables.';\n",
              "          element.innerHTML = '';\n",
              "          dataTable['output_type'] = 'display_data';\n",
              "          await google.colab.output.renderOutput(dataTable, element);\n",
              "          const docLink = document.createElement('div');\n",
              "          docLink.innerHTML = docLinkHtml;\n",
              "          element.appendChild(docLink);\n",
              "        }\n",
              "      </script>\n",
              "    </div>\n",
              "  </div>\n"
            ]
          },
          "metadata": {},
          "execution_count": 137
        }
      ]
    },
    {
      "cell_type": "code",
      "source": [
        "# data = data[:4000]"
      ],
      "metadata": {
        "id": "PmtwEW1-_kRv"
      },
      "execution_count": 138,
      "outputs": []
    },
    {
      "cell_type": "code",
      "source": [
        "returns = np.diff(data['Adj Close'])\n",
        "returns"
      ],
      "metadata": {
        "colab": {
          "base_uri": "https://localhost:8080/"
        },
        "id": "73fqShMpnDN4",
        "outputId": "b9ec22cc-2076-432b-e399-f05b36195499"
      },
      "execution_count": 139,
      "outputs": [
        {
          "output_type": "execute_result",
          "data": {
            "text/plain": [
              "array([ -0.08636856,  -0.94137764,   0.15546036, ...,  10.62817383,\n",
              "       -10.77783203,   6.08746338])"
            ]
          },
          "metadata": {},
          "execution_count": 139
        }
      ]
    },
    {
      "cell_type": "code",
      "source": [
        "data.shape,returns.shape"
      ],
      "metadata": {
        "colab": {
          "base_uri": "https://localhost:8080/"
        },
        "id": "nmZHg_p26ahP",
        "outputId": "0786fe26-7f18-43d9-e674-e626dd1480a8"
      },
      "execution_count": 140,
      "outputs": [
        {
          "output_type": "execute_result",
          "data": {
            "text/plain": [
              "((4525, 6), (4524,))"
            ]
          },
          "metadata": {},
          "execution_count": 140
        }
      ]
    },
    {
      "cell_type": "code",
      "source": [
        "returns.shape"
      ],
      "metadata": {
        "colab": {
          "base_uri": "https://localhost:8080/"
        },
        "id": "sMgvQUgA6dIw",
        "outputId": "e05ba9af-dd3b-4923-f805-9ebe4e69e72d"
      },
      "execution_count": 141,
      "outputs": [
        {
          "output_type": "execute_result",
          "data": {
            "text/plain": [
              "(4524,)"
            ]
          },
          "metadata": {},
          "execution_count": 141
        }
      ]
    },
    {
      "cell_type": "code",
      "source": [
        "np.sum(returns)"
      ],
      "metadata": {
        "colab": {
          "base_uri": "https://localhost:8080/"
        },
        "id": "BcFGmyFC4COW",
        "outputId": "16d7ba12-71f4-4d6d-eeb2-0bb26532351b"
      },
      "execution_count": 142,
      "outputs": [
        {
          "output_type": "execute_result",
          "data": {
            "text/plain": [
              "831.319034576416"
            ]
          },
          "metadata": {},
          "execution_count": 142
        }
      ]
    },
    {
      "cell_type": "code",
      "source": [
        "data['Adj Close']"
      ],
      "metadata": {
        "colab": {
          "base_uri": "https://localhost:8080/"
        },
        "id": "IwV_2pdNnGx4",
        "outputId": "18120031-3a1d-4e90-d233-646a6678f53c"
      },
      "execution_count": 143,
      "outputs": [
        {
          "output_type": "execute_result",
          "data": {
            "text/plain": [
              "Date\n",
              "2005-01-03     32.853146\n",
              "2005-01-04     32.766777\n",
              "2005-01-05     31.825399\n",
              "2005-01-06     31.980860\n",
              "2005-01-07     32.835873\n",
              "                 ...    \n",
              "2023-04-27    879.590515\n",
              "2023-04-28    858.234375\n",
              "2023-05-02    868.862549\n",
              "2023-05-03    858.084717\n",
              "2023-05-04    864.172180\n",
              "Name: Adj Close, Length: 4525, dtype: float64"
            ]
          },
          "metadata": {},
          "execution_count": 143
        }
      ]
    },
    {
      "cell_type": "code",
      "source": [
        "mean = np.mean(returns)\n",
        "std_dev = np.std(returns)\n",
        "mean,std_dev"
      ],
      "metadata": {
        "id": "k5AvfkJoquFc",
        "colab": {
          "base_uri": "https://localhost:8080/"
        },
        "outputId": "53162434-6e52-4c57-cd68-2643ebfeadb4"
      },
      "execution_count": 144,
      "outputs": [
        {
          "output_type": "execute_result",
          "data": {
            "text/plain": [
              "(0.18375752311591867, 8.991497710511563)"
            ]
          },
          "metadata": {},
          "execution_count": 144
        }
      ]
    },
    {
      "cell_type": "code",
      "source": [
        "pip install KDEpy"
      ],
      "metadata": {
        "colab": {
          "base_uri": "https://localhost:8080/"
        },
        "id": "zpBrcKsHP0bl",
        "outputId": "995d8b2f-b8a3-4062-9c8b-9342f56c50c3"
      },
      "execution_count": 145,
      "outputs": [
        {
          "output_type": "stream",
          "name": "stdout",
          "text": [
            "Requirement already satisfied: KDEpy in /usr/local/lib/python3.10/dist-packages (1.1.4)\n",
            "Requirement already satisfied: numpy>=1.14.2 in /usr/local/lib/python3.10/dist-packages (from KDEpy) (1.22.4)\n",
            "Requirement already satisfied: scipy>=1.0.1 in /usr/local/lib/python3.10/dist-packages (from KDEpy) (1.10.1)\n",
            "Requirement already satisfied: matplotlib>=2.2.2 in /usr/local/lib/python3.10/dist-packages (from KDEpy) (3.7.1)\n",
            "Requirement already satisfied: contourpy>=1.0.1 in /usr/local/lib/python3.10/dist-packages (from matplotlib>=2.2.2->KDEpy) (1.1.0)\n",
            "Requirement already satisfied: cycler>=0.10 in /usr/local/lib/python3.10/dist-packages (from matplotlib>=2.2.2->KDEpy) (0.11.0)\n",
            "Requirement already satisfied: fonttools>=4.22.0 in /usr/local/lib/python3.10/dist-packages (from matplotlib>=2.2.2->KDEpy) (4.40.0)\n",
            "Requirement already satisfied: kiwisolver>=1.0.1 in /usr/local/lib/python3.10/dist-packages (from matplotlib>=2.2.2->KDEpy) (1.4.4)\n",
            "Requirement already satisfied: packaging>=20.0 in /usr/local/lib/python3.10/dist-packages (from matplotlib>=2.2.2->KDEpy) (23.1)\n",
            "Requirement already satisfied: pillow>=6.2.0 in /usr/local/lib/python3.10/dist-packages (from matplotlib>=2.2.2->KDEpy) (8.4.0)\n",
            "Requirement already satisfied: pyparsing>=2.3.1 in /usr/local/lib/python3.10/dist-packages (from matplotlib>=2.2.2->KDEpy) (3.1.0)\n",
            "Requirement already satisfied: python-dateutil>=2.7 in /usr/local/lib/python3.10/dist-packages (from matplotlib>=2.2.2->KDEpy) (2.8.2)\n",
            "Requirement already satisfied: six>=1.5 in /usr/local/lib/python3.10/dist-packages (from python-dateutil>=2.7->matplotlib>=2.2.2->KDEpy) (1.16.0)\n"
          ]
        }
      ]
    },
    {
      "cell_type": "code",
      "source": [
        "import KDEpy"
      ],
      "metadata": {
        "id": "ueQSJmMuP30v"
      },
      "execution_count": 146,
      "outputs": []
    },
    {
      "cell_type": "code",
      "source": [
        "np.array(returns)"
      ],
      "metadata": {
        "colab": {
          "base_uri": "https://localhost:8080/"
        },
        "id": "dcFxz8yIQ9qM",
        "outputId": "9c5eaf53-2227-4d9e-f560-e516ee1f7506"
      },
      "execution_count": 147,
      "outputs": [
        {
          "output_type": "execute_result",
          "data": {
            "text/plain": [
              "array([ -0.08636856,  -0.94137764,   0.15546036, ...,  10.62817383,\n",
              "       -10.77783203,   6.08746338])"
            ]
          },
          "metadata": {},
          "execution_count": 147
        }
      ]
    },
    {
      "cell_type": "code",
      "source": [
        "from KDEpy import FFTKDE\n",
        "import matplotlib.pyplot as plt\n",
        "x, y = FFTKDE(kernel=\"gaussian\",bw = \"silverman\").fit(np.array(returns)).evaluate()\n",
        "plt.plot(x, y)\n",
        "\n"
      ],
      "metadata": {
        "colab": {
          "base_uri": "https://localhost:8080/",
          "height": 447
        },
        "id": "u-N12BT_PqcY",
        "outputId": "64713e20-77d6-4195-82ac-138719d020ad"
      },
      "execution_count": 148,
      "outputs": [
        {
          "output_type": "execute_result",
          "data": {
            "text/plain": [
              "[<matplotlib.lines.Line2D at 0x7d0fb7d23a30>]"
            ]
          },
          "metadata": {},
          "execution_count": 148
        },
        {
          "output_type": "display_data",
          "data": {
            "text/plain": [
              "<Figure size 640x480 with 1 Axes>"
            ],
            "image/png": "[encoded data removed]"
          },
          "metadata": {}
        }
      ]
    },
    {
      "cell_type": "code",
      "source": [
        "np.array(data['Adj Close'])"
      ],
      "metadata": {
        "colab": {
          "base_uri": "https://localhost:8080/"
        },
        "id": "d6auR5jVRVHE",
        "outputId": "d90c1dbd-e79a-4c6b-f983-2187d70dd52b"
      },
      "execution_count": 149,
      "outputs": [
        {
          "output_type": "execute_result",
          "data": {
            "text/plain": [
              "array([ 32.8531456 ,  32.76677704,  31.8253994 , ..., 868.86254883,\n",
              "       858.0847168 , 864.17218018])"
            ]
          },
          "metadata": {},
          "execution_count": 149
        }
      ]
    },
    {
      "cell_type": "code",
      "source": [
        "y\n"
      ],
      "metadata": {
        "colab": {
          "base_uri": "https://localhost:8080/"
        },
        "id": "-gxogX6jSb0e",
        "outputId": "efd64a00-4818-4488-f90a-2932e55b9d49"
      },
      "execution_count": 150,
      "outputs": [
        {
          "output_type": "execute_result",
          "data": {
            "text/plain": [
              "array([2.22044605e-16, 2.22044605e-16, 2.22044605e-16, ...,\n",
              "       2.22044605e-16, 2.22044605e-16, 2.22044605e-16])"
            ]
          },
          "metadata": {},
          "execution_count": 150
        }
      ]
    },
    {
      "cell_type": "code",
      "source": [
        "np.sum(y)"
      ],
      "metadata": {
        "colab": {
          "base_uri": "https://localhost:8080/"
        },
        "id": "BHaFbJW4RWD-",
        "outputId": "fb8ddcfe-e4f9-41fc-c4c2-ad8b6f152edf"
      },
      "execution_count": 151,
      "outputs": [
        {
          "output_type": "execute_result",
          "data": {
            "text/plain": [
              "4.721855769986712"
            ]
          },
          "metadata": {},
          "execution_count": 151
        }
      ]
    },
    {
      "cell_type": "code",
      "source": [
        "np.sort(np.array(returns))"
      ],
      "metadata": {
        "colab": {
          "base_uri": "https://localhost:8080/"
        },
        "id": "It97f7V1RXDk",
        "outputId": "466dc392-fc0d-4ff2-f435-2e5a8519c160"
      },
      "execution_count": 152,
      "outputs": [
        {
          "output_type": "execute_result",
          "data": {
            "text/plain": [
              "array([-119.07342529,  -75.82830811,  -59.98504639, ...,   63.17367554,\n",
              "         74.39697266,   77.87481689])"
            ]
          },
          "metadata": {},
          "execution_count": 152
        }
      ]
    },
    {
      "cell_type": "code",
      "source": [
        "import torch\n",
        "import torch.nn as nn\n"
      ],
      "metadata": {
        "id": "OXFADha_A2lN"
      },
      "execution_count": 153,
      "outputs": []
    },
    {
      "cell_type": "code",
      "source": [
        "class QuantileLoss(nn.Module):\n",
        "    def __init__(self, quantile):\n",
        "        super(QuantileLoss, self).__init__()\n",
        "        self.quantile = quantile\n",
        "\n",
        "    def forward(self, predictions, targets):\n",
        "        errors = targets - predictions\n",
        "        quantile_loss = torch.max((self.quantile - 1) * errors, self.quantile * errors)\n",
        "        return quantile_loss.mean()"
      ],
      "metadata": {
        "id": "XGSJ5sjAo-I-"
      },
      "execution_count": 154,
      "outputs": []
    },
    {
      "cell_type": "code",
      "source": [
        "class NeuralNetwork(nn.Module):\n",
        "    def __init__(self, input_size, hidden_size, output_size):\n",
        "        super(NeuralNetwork, self).__init__()\n",
        "        self.hidden_layer = nn.Linear(input_size, hidden_size,dtype=torch.float64)\n",
        "        self.relu = nn.ReLU()\n",
        "        self.output_layer = nn.Linear(hidden_size, output_size,dtype=torch.float64)\n",
        "\n",
        "    def forward(self, x):\n",
        "        x = self.hidden_layer(x)\n",
        "        x = self.relu(x)\n",
        "        x = self.output_layer(x)\n",
        "        return x"
      ],
      "metadata": {
        "id": "t_B7AEL_pF-j"
      },
      "execution_count": 155,
      "outputs": []
    },
    {
      "cell_type": "code",
      "source": [
        "network = NeuralNetwork(1,5,1)\n",
        "quantile_loss = QuantileLoss(0.95)"
      ],
      "metadata": {
        "id": "THRrWmYtpG0q"
      },
      "execution_count": 156,
      "outputs": []
    },
    {
      "cell_type": "code",
      "source": [
        "optimizer = torch.optim.SGD(network.parameters(),lr=0.001)\n",
        "input = np.array(data['Adj Close'])\n",
        "input=input[0:-1]\n",
        "input=torch.from_numpy(input)\n",
        "input= torch.unsqueeze(input, dim=1)\n",
        "returns=torch.from_numpy(returns)\n",
        "returns=torch.unsqueeze(returns,dim=1)"
      ],
      "metadata": {
        "id": "qvzHdqJxpMMX"
      },
      "execution_count": 157,
      "outputs": []
    },
    {
      "cell_type": "code",
      "source": [
        "for epoch in range(100000):\n",
        "    outputs = network(input)\n",
        "    loss = quantile_loss(outputs, returns)\n",
        "    optimizer.zero_grad()\n",
        "    loss.backward()\n",
        "    optimizer.step()\n",
        "    if (epoch + 1) % 1000== 0:\n",
        "        print(f\"Epoch: {epoch+1}, Loss: {loss.item()}\")"
      ],
      "metadata": {
        "colab": {
          "base_uri": "https://localhost:8080/"
        },
        "id": "uZSLfEiwprMi",
        "outputId": "2948ea6c-5736-4581-ef7f-5e8b0453ec2b"
      },
      "execution_count": 162,
      "outputs": [
        {
          "output_type": "stream",
          "name": "stdout",
          "text": [
            "Epoch: 1000, Loss: 0.932847326553732\n",
            "Epoch: 2000, Loss: 0.9326768327759329\n",
            "Epoch: 3000, Loss: 0.9325081483312716\n",
            "Epoch: 4000, Loss: 0.9323444077693691\n",
            "Epoch: 5000, Loss: 0.9321876050497013\n",
            "Epoch: 6000, Loss: 0.932034555254566\n",
            "Epoch: 7000, Loss: 1.1059766928525894\n",
            "Epoch: 8000, Loss: 0.9822876941169447\n",
            "Epoch: 9000, Loss: 0.9696168722828907\n",
            "Epoch: 10000, Loss: 0.9568468562499405\n",
            "Epoch: 11000, Loss: 0.9552239857608034\n",
            "Epoch: 12000, Loss: 0.9430534558497526\n",
            "Epoch: 13000, Loss: 0.9323191276203676\n",
            "Epoch: 14000, Loss: 0.9321671192646943\n",
            "Epoch: 15000, Loss: 0.9320144412304956\n",
            "Epoch: 16000, Loss: 0.9318607063870021\n",
            "Epoch: 17000, Loss: 0.9317327738841519\n",
            "Epoch: 18000, Loss: 0.9315780189320457\n",
            "Epoch: 19000, Loss: 0.9314439434429528\n",
            "Epoch: 20000, Loss: 0.9313181318636545\n",
            "Epoch: 21000, Loss: 0.9312013567022079\n",
            "Epoch: 22000, Loss: 0.9310936266474875\n",
            "Epoch: 23000, Loss: 0.9309882793650838\n",
            "Epoch: 24000, Loss: 0.9308842765223505\n",
            "Epoch: 25000, Loss: 0.9308455528279762\n",
            "Epoch: 26000, Loss: 0.9307618399881252\n",
            "Epoch: 27000, Loss: 0.930656527644384\n",
            "Epoch: 28000, Loss: 0.9306206025511501\n",
            "Epoch: 29000, Loss: 0.9305827970373468\n",
            "Epoch: 30000, Loss: 0.9304081647838098\n",
            "Epoch: 31000, Loss: 0.9303245323940664\n",
            "Epoch: 32000, Loss: 0.9465762105727206\n",
            "Epoch: 33000, Loss: 0.9456507128713337\n",
            "Epoch: 34000, Loss: 0.9410537625822045\n",
            "Epoch: 35000, Loss: 0.931118679022692\n",
            "Epoch: 36000, Loss: 0.9310920931672649\n",
            "Epoch: 37000, Loss: 0.9315586974881659\n",
            "Epoch: 38000, Loss: 0.931199088220223\n",
            "Epoch: 39000, Loss: 0.931030751816669\n",
            "Epoch: 40000, Loss: 0.9310353008894249\n",
            "Epoch: 41000, Loss: 0.9310206702844278\n",
            "Epoch: 42000, Loss: 0.9310219773556023\n",
            "Epoch: 43000, Loss: 0.9310316776869394\n",
            "Epoch: 44000, Loss: 0.9310672370746204\n",
            "Epoch: 45000, Loss: 0.930919815989752\n",
            "Epoch: 46000, Loss: 0.9309306848935082\n",
            "Epoch: 47000, Loss: 0.9309165190662129\n",
            "Epoch: 48000, Loss: 0.9309755993286379\n",
            "Epoch: 49000, Loss: 0.9309537227248221\n",
            "Epoch: 50000, Loss: 0.9310639633324074\n",
            "Epoch: 51000, Loss: 0.9310440570800943\n",
            "Epoch: 52000, Loss: 0.9308967770635508\n",
            "Epoch: 53000, Loss: 0.9313099971199473\n",
            "Epoch: 54000, Loss: 0.9308663480185286\n",
            "Epoch: 55000, Loss: 0.930880901960359\n",
            "Epoch: 56000, Loss: 0.9309655919994042\n",
            "Epoch: 57000, Loss: 0.9309540883489664\n",
            "Epoch: 58000, Loss: 0.9305503357451679\n",
            "Epoch: 59000, Loss: 0.9304066700809227\n",
            "Epoch: 60000, Loss: 0.9309089386756739\n",
            "Epoch: 61000, Loss: 0.9310272617349866\n",
            "Epoch: 62000, Loss: 0.9305223814233442\n",
            "Epoch: 63000, Loss: 0.9305790141176616\n",
            "Epoch: 64000, Loss: 0.9306389042316713\n",
            "Epoch: 65000, Loss: 0.9305445972844909\n",
            "Epoch: 66000, Loss: 0.9303192399930954\n",
            "Epoch: 67000, Loss: 0.9307690459264596\n",
            "Epoch: 68000, Loss: 0.930436322986586\n",
            "Epoch: 69000, Loss: 0.9303403998852146\n",
            "Epoch: 70000, Loss: 0.9303899712175099\n",
            "Epoch: 71000, Loss: 0.930222507793842\n",
            "Epoch: 72000, Loss: 0.9298094368527847\n",
            "Epoch: 73000, Loss: 0.9298776009784787\n",
            "Epoch: 74000, Loss: 0.9298951670309086\n",
            "Epoch: 75000, Loss: 0.9299070755801548\n",
            "Epoch: 76000, Loss: 0.9299128257827685\n",
            "Epoch: 77000, Loss: 0.9298133100282892\n",
            "Epoch: 78000, Loss: 0.9299848277915368\n",
            "Epoch: 79000, Loss: 0.9300363473257026\n",
            "Epoch: 80000, Loss: 0.9296689839685855\n",
            "Epoch: 81000, Loss: 0.9298828311149233\n",
            "Epoch: 82000, Loss: 0.9298803978433853\n",
            "Epoch: 83000, Loss: 0.929672096607498\n",
            "Epoch: 84000, Loss: 0.929416198635646\n",
            "Epoch: 85000, Loss: 0.9299037786396014\n",
            "Epoch: 86000, Loss: 0.9298701172554935\n",
            "Epoch: 87000, Loss: 0.9297540073064563\n",
            "Epoch: 88000, Loss: 0.9299111720949825\n",
            "Epoch: 89000, Loss: 0.9297371372676153\n",
            "Epoch: 90000, Loss: 0.9297549672301836\n",
            "Epoch: 91000, Loss: 0.9297636401421964\n",
            "Epoch: 92000, Loss: 0.9298945580365114\n",
            "Epoch: 93000, Loss: 0.9300086946684104\n",
            "Epoch: 94000, Loss: 0.9298466360772243\n",
            "Epoch: 95000, Loss: 0.9298046392780221\n",
            "Epoch: 96000, Loss: 0.9299088417947774\n",
            "Epoch: 97000, Loss: 0.929915884429422\n",
            "Epoch: 98000, Loss: 0.9299222669082261\n",
            "Epoch: 99000, Loss: 0.9299249808509218\n",
            "Epoch: 100000, Loss: 0.93002159938374\n"
          ]
        }
      ]
    },
    {
      "cell_type": "code",
      "source": [],
      "metadata": {
        "id": "WCrFcrl4p-qz"
      },
      "execution_count": 158,
      "outputs": []
    }
  ]
}