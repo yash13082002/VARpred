{
  "nbformat": 4,
  "nbformat_minor": 0,
  "metadata": {
    "colab": {
      "provenance": []
    },
    "kernelspec": {
      "name": "python3",
      "display_name": "Python 3"
    },
    "language_info": {
      "name": "python"
    }
  },
  "cells": [
    {
      "cell_type": "code",
      "execution_count": 202,
      "metadata": {
        "id": "lbu9efRrm8rB"
      },
      "outputs": [],
      "source": [
        "import numpy as np\n",
        "import pandas as pd\n",
        "import yfinance as yf\n",
        "import matplotlib.pyplot as plt"
      ]
    },
    {
      "cell_type": "code",
      "source": [
        "import scipy\n",
        "from scipy.stats import norm"
      ],
      "metadata": {
        "id": "_bFybhox26tc"
      },
      "execution_count": 203,
      "outputs": []
    },
    {
      "cell_type": "code",
      "source": [
        "stock='AXISBANK.NS'\n",
        "data = yf.download(stock,'2005-01-01','2023-05-05')"
      ],
      "metadata": {
        "colab": {
          "base_uri": "https://localhost:8080/"
        },
        "id": "sLp6mSkQm9ZS",
        "outputId": "e26b0d5f-cbe0-48e0-c62f-1339957ec6ec"
      },
      "execution_count": 204,
      "outputs": [
        {
          "output_type": "stream",
          "name": "stdout",
          "text": [
            "\r[*********************100%***********************]  1 of 1 completed\n"
          ]
        }
      ]
    },
    {
      "cell_type": "code",
      "source": [
        "data"
      ],
      "metadata": {
        "colab": {
          "base_uri": "https://localhost:8080/",
          "height": 455
        },
        "id": "re200cTwnAnm",
        "outputId": "2b23a7a3-2b2d-48b6-f7d4-67dd601def4d"
      },
      "execution_count": 205,
      "outputs": [
        {
          "output_type": "execute_result",
          "data": {
            "text/plain": [
              "                  Open        High         Low       Close   Adj Close  \\\n",
              "Date                                                                     \n",
              "2005-01-03   37.000000   38.200001   37.000000   38.040001   32.853142   \n",
              "2005-01-04   38.220001   38.400002   37.400002   37.939999   32.766785   \n",
              "2005-01-05   37.990002   37.990002   35.509998   36.849998   31.825407   \n",
              "2005-01-06   36.820000   38.000000   35.400002   37.029999   31.980862   \n",
              "2005-01-07   36.130001   38.380001   36.130001   38.020000   32.835861   \n",
              "...                ...         ...         ...         ...         ...   \n",
              "2023-04-27  888.000000  890.000000  877.500000  881.400024  879.590515   \n",
              "2023-04-28  885.099976  890.049988  853.650024  860.000000  858.234375   \n",
              "2023-05-02  870.000000  876.400024  864.250000  870.650024  868.862549   \n",
              "2023-05-03  863.849976  866.849976  854.049988  859.849976  858.084717   \n",
              "2023-05-04  860.000000  867.150024  857.500000  865.950012  864.172180   \n",
              "\n",
              "              Volume  \n",
              "Date                  \n",
              "2005-01-03   1421010  \n",
              "2005-01-04   1115825  \n",
              "2005-01-05   1163085  \n",
              "2005-01-06   1192610  \n",
              "2005-01-07   1530260  \n",
              "...              ...  \n",
              "2023-04-27  15992383  \n",
              "2023-04-28  23004117  \n",
              "2023-05-02  12947953  \n",
              "2023-05-03  15103015  \n",
              "2023-05-04   9756391  \n",
              "\n",
              "[4525 rows x 6 columns]"
            ],
            "text/html": [
              "\n",
              "\n",
              "  <div id=\"df-5bc5efaa-e2b2-4d31-8eb7-827b2e9cc040\">\n",
              "    <div class=\"colab-df-container\">\n",
              "      <div>\n",
              "<style scoped>\n",
              "    .dataframe tbody tr th:only-of-type {\n",
              "        vertical-align: middle;\n",
              "    }\n",
              "\n",
              "    .dataframe tbody tr th {\n",
              "        vertical-align: top;\n",
              "    }\n",
              "\n",
              "    .dataframe thead th {\n",
              "        text-align: right;\n",
              "    }\n",
              "</style>\n",
              "<table border=\"1\" class=\"dataframe\">\n",
              "  <thead>\n",
              "    <tr style=\"text-align: right;\">\n",
              "      <th></th>\n",
              "      <th>Open</th>\n",
              "      <th>High</th>\n",
              "      <th>Low</th>\n",
              "      <th>Close</th>\n",
              "      <th>Adj Close</th>\n",
              "      <th>Volume</th>\n",
              "    </tr>\n",
              "    <tr>\n",
              "      <th>Date</th>\n",
              "      <th></th>\n",
              "      <th></th>\n",
              "      <th></th>\n",
              "      <th></th>\n",
              "      <th></th>\n",
              "      <th></th>\n",
              "    </tr>\n",
              "  </thead>\n",
              "  <tbody>\n",
              "    <tr>\n",
              "      <th>2005-01-03</th>\n",
              "      <td>37.000000</td>\n",
              "      <td>38.200001</td>\n",
              "      <td>37.000000</td>\n",
              "      <td>38.040001</td>\n",
              "      <td>32.853142</td>\n",
              "      <td>1421010</td>\n",
              "    </tr>\n",
              "    <tr>\n",
              "      <th>2005-01-04</th>\n",
              "      <td>38.220001</td>\n",
              "      <td>38.400002</td>\n",
              "      <td>37.400002</td>\n",
              "      <td>37.939999</td>\n",
              "      <td>32.766785</td>\n",
              "      <td>1115825</td>\n",
              "    </tr>\n",
              "    <tr>\n",
              "      <th>2005-01-05</th>\n",
              "      <td>37.990002</td>\n",
              "      <td>37.990002</td>\n",
              "      <td>35.509998</td>\n",
              "      <td>36.849998</td>\n",
              "      <td>31.825407</td>\n",
              "      <td>1163085</td>\n",
              "    </tr>\n",
              "    <tr>\n",
              "      <th>2005-01-06</th>\n",
              "      <td>36.820000</td>\n",
              "      <td>38.000000</td>\n",
              "      <td>35.400002</td>\n",
              "      <td>37.029999</td>\n",
              "      <td>31.980862</td>\n",
              "      <td>1192610</td>\n",
              "    </tr>\n",
              "    <tr>\n",
              "      <th>2005-01-07</th>\n",
              "      <td>36.130001</td>\n",
              "      <td>38.380001</td>\n",
              "      <td>36.130001</td>\n",
              "      <td>38.020000</td>\n",
              "      <td>32.835861</td>\n",
              "      <td>1530260</td>\n",
              "    </tr>\n",
              "    <tr>\n",
              "      <th>...</th>\n",
              "      <td>...</td>\n",
              "      <td>...</td>\n",
              "      <td>...</td>\n",
              "      <td>...</td>\n",
              "      <td>...</td>\n",
              "      <td>...</td>\n",
              "    </tr>\n",
              "    <tr>\n",
              "      <th>2023-04-27</th>\n",
              "      <td>888.000000</td>\n",
              "      <td>890.000000</td>\n",
              "      <td>877.500000</td>\n",
              "      <td>881.400024</td>\n",
              "      <td>879.590515</td>\n",
              "      <td>15992383</td>\n",
              "    </tr>\n",
              "    <tr>\n",
              "      <th>2023-04-28</th>\n",
              "      <td>885.099976</td>\n",
              "      <td>890.049988</td>\n",
              "      <td>853.650024</td>\n",
              "      <td>860.000000</td>\n",
              "      <td>858.234375</td>\n",
              "      <td>23004117</td>\n",
              "    </tr>\n",
              "    <tr>\n",
              "      <th>2023-05-02</th>\n",
              "      <td>870.000000</td>\n",
              "      <td>876.400024</td>\n",
              "      <td>864.250000</td>\n",
              "      <td>870.650024</td>\n",
              "      <td>868.862549</td>\n",
              "      <td>12947953</td>\n",
              "    </tr>\n",
              "    <tr>\n",
              "      <th>2023-05-03</th>\n",
              "      <td>863.849976</td>\n",
              "      <td>866.849976</td>\n",
              "      <td>854.049988</td>\n",
              "      <td>859.849976</td>\n",
              "      <td>858.084717</td>\n",
              "      <td>15103015</td>\n",
              "    </tr>\n",
              "    <tr>\n",
              "      <th>2023-05-04</th>\n",
              "      <td>860.000000</td>\n",
              "      <td>867.150024</td>\n",
              "      <td>857.500000</td>\n",
              "      <td>865.950012</td>\n",
              "      <td>864.172180</td>\n",
              "      <td>9756391</td>\n",
              "    </tr>\n",
              "  </tbody>\n",
              "</table>\n",
              "<p>4525 rows × 6 columns</p>\n",
              "</div>\n",
              "      <button class=\"colab-df-convert\" onclick=\"convertToInteractive('df-5bc5efaa-e2b2-4d31-8eb7-827b2e9cc040')\"\n",
              "              title=\"Convert this dataframe to an interactive table.\"\n",
              "              style=\"display:none;\">\n",
              "\n",
              "  <svg xmlns=\"http://www.w3.org/2000/svg\" height=\"24px\"viewBox=\"0 0 24 24\"\n",
              "       width=\"24px\">\n",
              "    <path d=\"M0 0h24v24H0V0z\" fill=\"none\"/>\n",
              "    <path d=\"M18.56 5.44l.94 2.06.94-2.06 2.06-.94-2.06-.94-.94-2.06-.94 2.06-2.06.94zm-11 1L8.5 8.5l.94-2.06 2.06-.94-2.06-.94L8.5 2.5l-.94 2.06-2.06.94zm10 10l.94 2.06.94-2.06 2.06-.94-2.06-.94-.94-2.06-.94 2.06-2.06.94z\"/><path d=\"M17.41 7.96l-1.37-1.37c-.4-.4-.92-.59-1.43-.59-.52 0-1.04.2-1.43.59L10.3 9.45l-7.72 7.72c-.78.78-.78 2.05 0 2.83L4 21.41c.39.39.9.59 1.41.59.51 0 1.02-.2 1.41-.59l7.78-7.78 2.81-2.81c.8-.78.8-2.07 0-2.86zM5.41 20L4 18.59l7.72-7.72 1.47 1.35L5.41 20z\"/>\n",
              "  </svg>\n",
              "      </button>\n",
              "\n",
              "\n",
              "\n",
              "    <div id=\"df-8eb805b2-6e39-4f31-ad6f-502eb43d9ba2\">\n",
              "      <button class=\"colab-df-quickchart\" onclick=\"quickchart('df-8eb805b2-6e39-4f31-ad6f-502eb43d9ba2')\"\n",
              "              title=\"Suggest charts.\"\n",
              "              style=\"display:none;\">\n",
              "\n",
              "<svg xmlns=\"http://www.w3.org/2000/svg\" height=\"24px\"viewBox=\"0 0 24 24\"\n",
              "     width=\"24px\">\n",
              "    <g>\n",
              "        <path d=\"M19 3H5c-1.1 0-2 .9-2 2v14c0 1.1.9 2 2 2h14c1.1 0 2-.9 2-2V5c0-1.1-.9-2-2-2zM9 17H7v-7h2v7zm4 0h-2V7h2v10zm4 0h-2v-4h2v4z\"/>\n",
              "    </g>\n",
              "</svg>\n",
              "      </button>\n",
              "    </div>\n",
              "\n",
              "<style>\n",
              "  .colab-df-quickchart {\n",
              "    background-color: #E8F0FE;\n",
              "    border: none;\n",
              "    border-radius: 50%;\n",
              "    cursor: pointer;\n",
              "    display: none;\n",
              "    fill: #1967D2;\n",
              "    height: 32px;\n",
              "    padding: 0 0 0 0;\n",
              "    width: 32px;\n",
              "  }\n",
              "\n",
              "  .colab-df-quickchart:hover {\n",
              "    background-color: #E2EBFA;\n",
              "    box-shadow: 0px 1px 2px rgba(60, 64, 67, 0.3), 0px 1px 3px 1px rgba(60, 64, 67, 0.15);\n",
              "    fill: #174EA6;\n",
              "  }\n",
              "\n",
              "  [theme=dark] .colab-df-quickchart {\n",
              "    background-color: #3B4455;\n",
              "    fill: #D2E3FC;\n",
              "  }\n",
              "\n",
              "  [theme=dark] .colab-df-quickchart:hover {\n",
              "    background-color: #434B5C;\n",
              "    box-shadow: 0px 1px 3px 1px rgba(0, 0, 0, 0.15);\n",
              "    filter: drop-shadow(0px 1px 2px rgba(0, 0, 0, 0.3));\n",
              "    fill: #FFFFFF;\n",
              "  }\n",
              "</style>\n",
              "\n",
              "    <script>\n",
              "      async function quickchart(key) {\n",
              "        const containerElement = document.querySelector('#' + key);\n",
              "        const charts = await google.colab.kernel.invokeFunction(\n",
              "            'suggestCharts', [key], {});\n",
              "      }\n",
              "    </script>\n",
              "\n",
              "      <script>\n",
              "\n",
              "function displayQuickchartButton(domScope) {\n",
              "  let quickchartButtonEl =\n",
              "    domScope.querySelector('#df-8eb805b2-6e39-4f31-ad6f-502eb43d9ba2 button.colab-df-quickchart');\n",
              "  quickchartButtonEl.style.display =\n",
              "    google.colab.kernel.accessAllowed ? 'block' : 'none';\n",
              "}\n",
              "\n",
              "        displayQuickchartButton(document);\n",
              "      </script>\n",
              "      <style>\n",
              "    .colab-df-container {\n",
              "      display:flex;\n",
              "      flex-wrap:wrap;\n",
              "      gap: 12px;\n",
              "    }\n",
              "\n",
              "    .colab-df-convert {\n",
              "      background-color: #E8F0FE;\n",
              "      border: none;\n",
              "      border-radius: 50%;\n",
              "      cursor: pointer;\n",
              "      display: none;\n",
              "      fill: #1967D2;\n",
              "      height: 32px;\n",
              "      padding: 0 0 0 0;\n",
              "      width: 32px;\n",
              "    }\n",
              "\n",
              "    .colab-df-convert:hover {\n",
              "      background-color: #E2EBFA;\n",
              "      box-shadow: 0px 1px 2px rgba(60, 64, 67, 0.3), 0px 1px 3px 1px rgba(60, 64, 67, 0.15);\n",
              "      fill: #174EA6;\n",
              "    }\n",
              "\n",
              "    [theme=dark] .colab-df-convert {\n",
              "      background-color: #3B4455;\n",
              "      fill: #D2E3FC;\n",
              "    }\n",
              "\n",
              "    [theme=dark] .colab-df-convert:hover {\n",
              "      background-color: #434B5C;\n",
              "      box-shadow: 0px 1px 3px 1px rgba(0, 0, 0, 0.15);\n",
              "      filter: drop-shadow(0px 1px 2px rgba(0, 0, 0, 0.3));\n",
              "      fill: #FFFFFF;\n",
              "    }\n",
              "  </style>\n",
              "\n",
              "      <script>\n",
              "        const buttonEl =\n",
              "          document.querySelector('#df-5bc5efaa-e2b2-4d31-8eb7-827b2e9cc040 button.colab-df-convert');\n",
              "        buttonEl.style.display =\n",
              "          google.colab.kernel.accessAllowed ? 'block' : 'none';\n",
              "\n",
              "        async function convertToInteractive(key) {\n",
              "          const element = document.querySelector('#df-5bc5efaa-e2b2-4d31-8eb7-827b2e9cc040');\n",
              "          const dataTable =\n",
              "            await google.colab.kernel.invokeFunction('convertToInteractive',\n",
              "                                                     [key], {});\n",
              "          if (!dataTable) return;\n",
              "\n",
              "          const docLinkHtml = 'Like what you see? Visit the ' +\n",
              "            '<a target=\"_blank\" href=https://colab.research.google.com/notebooks/data_table.ipynb>data table notebook</a>'\n",
              "            + ' to learn more about interactive tables.';\n",
              "          element.innerHTML = '';\n",
              "          dataTable['output_type'] = 'display_data';\n",
              "          await google.colab.output.renderOutput(dataTable, element);\n",
              "          const docLink = document.createElement('div');\n",
              "          docLink.innerHTML = docLinkHtml;\n",
              "          element.appendChild(docLink);\n",
              "        }\n",
              "      </script>\n",
              "    </div>\n",
              "  </div>\n"
            ]
          },
          "metadata": {},
          "execution_count": 205
        }
      ]
    },
    {
      "cell_type": "code",
      "source": [
        "# data = data[:4000]"
      ],
      "metadata": {
        "id": "PmtwEW1-_kRv"
      },
      "execution_count": 206,
      "outputs": []
    },
    {
      "cell_type": "code",
      "source": [
        "returns = np.diff(data['Adj Close'])\n",
        "returns=-returns"
      ],
      "metadata": {
        "id": "73fqShMpnDN4"
      },
      "execution_count": 207,
      "outputs": []
    },
    {
      "cell_type": "code",
      "source": [
        "data.shape,returns.shape"
      ],
      "metadata": {
        "colab": {
          "base_uri": "https://localhost:8080/"
        },
        "id": "nmZHg_p26ahP",
        "outputId": "9b67b18b-cd3d-43ed-e948-8eb65ed5cacd"
      },
      "execution_count": 208,
      "outputs": [
        {
          "output_type": "execute_result",
          "data": {
            "text/plain": [
              "((4525, 6), (4524,))"
            ]
          },
          "metadata": {},
          "execution_count": 208
        }
      ]
    },
    {
      "cell_type": "code",
      "source": [
        "returns.shape"
      ],
      "metadata": {
        "colab": {
          "base_uri": "https://localhost:8080/"
        },
        "id": "sMgvQUgA6dIw",
        "outputId": "aecc5ade-31e5-4342-93a2-a33324878fde"
      },
      "execution_count": 209,
      "outputs": [
        {
          "output_type": "execute_result",
          "data": {
            "text/plain": [
              "(4524,)"
            ]
          },
          "metadata": {},
          "execution_count": 209
        }
      ]
    },
    {
      "cell_type": "code",
      "source": [
        "np.sum(returns)"
      ],
      "metadata": {
        "colab": {
          "base_uri": "https://localhost:8080/"
        },
        "id": "BcFGmyFC4COW",
        "outputId": "6a032d56-47a0-491a-fca3-3fc92db07a8b"
      },
      "execution_count": 210,
      "outputs": [
        {
          "output_type": "execute_result",
          "data": {
            "text/plain": [
              "-831.3190383911133"
            ]
          },
          "metadata": {},
          "execution_count": 210
        }
      ]
    },
    {
      "cell_type": "code",
      "source": [
        "data['Adj Close']"
      ],
      "metadata": {
        "colab": {
          "base_uri": "https://localhost:8080/"
        },
        "id": "IwV_2pdNnGx4",
        "outputId": "1a70ba34-4ae8-457b-ad89-f52b5304d489"
      },
      "execution_count": 211,
      "outputs": [
        {
          "output_type": "execute_result",
          "data": {
            "text/plain": [
              "Date\n",
              "2005-01-03     32.853142\n",
              "2005-01-04     32.766785\n",
              "2005-01-05     31.825407\n",
              "2005-01-06     31.980862\n",
              "2005-01-07     32.835861\n",
              "                 ...    \n",
              "2023-04-27    879.590515\n",
              "2023-04-28    858.234375\n",
              "2023-05-02    868.862549\n",
              "2023-05-03    858.084717\n",
              "2023-05-04    864.172180\n",
              "Name: Adj Close, Length: 4525, dtype: float64"
            ]
          },
          "metadata": {},
          "execution_count": 211
        }
      ]
    },
    {
      "cell_type": "code",
      "source": [
        "mean = np.mean(returns)\n",
        "std_dev = np.std(returns)\n",
        "mean,std_dev"
      ],
      "metadata": {
        "id": "k5AvfkJoquFc",
        "colab": {
          "base_uri": "https://localhost:8080/"
        },
        "outputId": "d16bbd9a-3317-4719-883b-dd6e91120f37"
      },
      "execution_count": 212,
      "outputs": [
        {
          "output_type": "execute_result",
          "data": {
            "text/plain": [
              "(-0.18375752395913203, 8.991497020143704)"
            ]
          },
          "metadata": {},
          "execution_count": 212
        }
      ]
    },
    {
      "cell_type": "code",
      "source": [
        "np.array(returns)"
      ],
      "metadata": {
        "colab": {
          "base_uri": "https://localhost:8080/"
        },
        "id": "dcFxz8yIQ9qM",
        "outputId": "49d6f7de-fc7b-4ebd-8816-548ce9b4932d"
      },
      "execution_count": 213,
      "outputs": [
        {
          "output_type": "execute_result",
          "data": {
            "text/plain": [
              "array([  0.08635712,   0.94137764,  -0.15545464, ..., -10.62817383,\n",
              "        10.77783203,  -6.08746338])"
            ]
          },
          "metadata": {},
          "execution_count": 213
        }
      ]
    },
    {
      "cell_type": "code",
      "source": [
        "np.array(data['Adj Close'])"
      ],
      "metadata": {
        "colab": {
          "base_uri": "https://localhost:8080/"
        },
        "id": "d6auR5jVRVHE",
        "outputId": "ef664535-9e44-4a33-f941-387df40eb36e"
      },
      "execution_count": 214,
      "outputs": [
        {
          "output_type": "execute_result",
          "data": {
            "text/plain": [
              "array([ 32.85314178,  32.76678467,  31.82540703, ..., 868.86254883,\n",
              "       858.0847168 , 864.17218018])"
            ]
          },
          "metadata": {},
          "execution_count": 214
        }
      ]
    },
    {
      "cell_type": "code",
      "source": [
        "np.sort(np.array(returns))"
      ],
      "metadata": {
        "colab": {
          "base_uri": "https://localhost:8080/"
        },
        "id": "It97f7V1RXDk",
        "outputId": "ef9066c7-41dd-4987-c8a7-60f855b51ab7"
      },
      "execution_count": 215,
      "outputs": [
        {
          "output_type": "execute_result",
          "data": {
            "text/plain": [
              "array([-77.87487793, -74.39697266, -63.17367554, ...,  59.98504639,\n",
              "        75.82830811, 119.07342529])"
            ]
          },
          "metadata": {},
          "execution_count": 215
        }
      ]
    },
    {
      "cell_type": "code",
      "source": [
        "import torch\n",
        "import torch.nn as nn\n"
      ],
      "metadata": {
        "id": "OXFADha_A2lN"
      },
      "execution_count": 216,
      "outputs": []
    },
    {
      "cell_type": "code",
      "source": [
        "class QuantileLoss(nn.Module):\n",
        "    def __init__(self, quantile):\n",
        "        super(QuantileLoss, self).__init__()\n",
        "        self.quantile = quantile\n",
        "\n",
        "    def forward(self, predictions, targets):\n",
        "        errors = targets - predictions\n",
        "        quantile_loss = torch.max((self.quantile - 1) * errors, self.quantile * errors)\n",
        "        return quantile_loss.mean()"
      ],
      "metadata": {
        "id": "XGSJ5sjAo-I-"
      },
      "execution_count": 217,
      "outputs": []
    },
    {
      "cell_type": "code",
      "source": [
        "class NeuralNetwork(nn.Module):\n",
        "    def __init__(self, input_size, hidden_size, output_size):\n",
        "        super(NeuralNetwork, self).__init__()\n",
        "        self.hidden_layer = nn.Linear(input_size, hidden_size,dtype=torch.float64)\n",
        "        self.relu = nn.ReLU()\n",
        "        self.output_layer = nn.Linear(hidden_size, output_size,dtype=torch.float64)\n",
        "\n",
        "    def forward(self, x):\n",
        "        x = self.hidden_layer(x)\n",
        "        x = self.relu(x)\n",
        "        x = self.output_layer(x)\n",
        "        return x"
      ],
      "metadata": {
        "id": "t_B7AEL_pF-j"
      },
      "execution_count": 218,
      "outputs": []
    },
    {
      "cell_type": "code",
      "source": [
        "network = NeuralNetwork(1,5,1)\n",
        "quantile_loss = QuantileLoss(0.1)"
      ],
      "metadata": {
        "id": "THRrWmYtpG0q"
      },
      "execution_count": 219,
      "outputs": []
    },
    {
      "cell_type": "code",
      "source": [
        "optimizer = torch.optim.SGD(network.parameters(),lr=0.001)\n",
        "input = np.array(data['Adj Close'])\n",
        "input=input[0:-1]\n",
        "input=torch.from_numpy(input)\n",
        "input= torch.unsqueeze(input, dim=1)\n",
        "returns=torch.from_numpy(returns)\n",
        "returns=torch.unsqueeze(returns,dim=1)"
      ],
      "metadata": {
        "id": "qvzHdqJxpMMX"
      },
      "execution_count": 220,
      "outputs": []
    },
    {
      "cell_type": "code",
      "source": [
        "for epoch in range(100000):\n",
        "    outputs = network(input)\n",
        "    loss = quantile_loss(outputs, returns)\n",
        "    optimizer.zero_grad()\n",
        "    loss.backward()\n",
        "    optimizer.step()\n",
        "    if (epoch + 1) % 1000== 0:\n",
        "        print(f\"Epoch: {epoch+1}, Loss: {loss.item()}\")"
      ],
      "metadata": {
        "colab": {
          "base_uri": "https://localhost:8080/"
        },
        "id": "uZSLfEiwprMi",
        "outputId": "19135941-e07c-4bde-8a28-e84e92f731ea"
      },
      "execution_count": 221,
      "outputs": [
        {
          "output_type": "stream",
          "name": "stdout",
          "text": [
            "Epoch: 1000, Loss: 1.492762538175066\n",
            "Epoch: 2000, Loss: 1.491970528898257\n",
            "Epoch: 3000, Loss: 1.4912095840562707\n",
            "Epoch: 4000, Loss: 1.4904853022036153\n",
            "Epoch: 5000, Loss: 1.4897710423220787\n",
            "Epoch: 6000, Loss: 1.4890661097238\n",
            "Epoch: 7000, Loss: 1.4884130268238756\n",
            "Epoch: 8000, Loss: 1.4877910900463087\n",
            "Epoch: 9000, Loss: 1.487190331405741\n",
            "Epoch: 10000, Loss: 1.4865918916089444\n",
            "Epoch: 11000, Loss: 1.4860049599207117\n",
            "Epoch: 12000, Loss: 1.4854502436063646\n",
            "Epoch: 13000, Loss: 1.484920897332311\n",
            "Epoch: 14000, Loss: 1.4844142737892607\n",
            "Epoch: 15000, Loss: 1.4839229546983987\n",
            "Epoch: 16000, Loss: 1.4834479578114999\n",
            "Epoch: 17000, Loss: 1.4829869479246642\n",
            "Epoch: 18000, Loss: 1.4825555967787178\n",
            "Epoch: 19000, Loss: 1.4821373507006599\n",
            "Epoch: 20000, Loss: 1.4817257064141816\n",
            "Epoch: 21000, Loss: 1.4813190350108314\n",
            "Epoch: 22000, Loss: 1.4809187379182884\n",
            "Epoch: 23000, Loss: 1.480527065254107\n",
            "Epoch: 24000, Loss: 1.4801395772518455\n",
            "Epoch: 25000, Loss: 1.4797614272049222\n",
            "Epoch: 26000, Loss: 1.4793875491274866\n",
            "Epoch: 27000, Loss: 1.4790128028650376\n",
            "Epoch: 28000, Loss: 1.4786389693050843\n",
            "Epoch: 29000, Loss: 1.4782672886630466\n",
            "Epoch: 30000, Loss: 1.4779020069956423\n",
            "Epoch: 31000, Loss: 1.477534711515436\n",
            "Epoch: 32000, Loss: 1.4771788202056284\n",
            "Epoch: 33000, Loss: 1.4768213127748056\n",
            "Epoch: 34000, Loss: 1.4764680651289066\n",
            "Epoch: 35000, Loss: 1.4761303662580976\n",
            "Epoch: 36000, Loss: 1.4758026139311358\n",
            "Epoch: 37000, Loss: 1.4754841969186483\n",
            "Epoch: 38000, Loss: 1.4751878071155093\n",
            "Epoch: 39000, Loss: 1.4748933354184022\n",
            "Epoch: 40000, Loss: 1.4746005502101696\n",
            "Epoch: 41000, Loss: 1.4743146650964027\n",
            "Epoch: 42000, Loss: 1.4740337371915122\n",
            "Epoch: 43000, Loss: 1.4737602875414446\n",
            "Epoch: 44000, Loss: 1.4734994690652519\n",
            "Epoch: 45000, Loss: 1.4732414621021788\n",
            "Epoch: 46000, Loss: 1.4729892495994379\n",
            "Epoch: 47000, Loss: 1.472743551801032\n",
            "Epoch: 48000, Loss: 1.4725090096909623\n",
            "Epoch: 49000, Loss: 1.4722830051261044\n",
            "Epoch: 50000, Loss: 1.4720631253229777\n",
            "Epoch: 51000, Loss: 1.4718501121943843\n",
            "Epoch: 52000, Loss: 1.4716358811786685\n",
            "Epoch: 53000, Loss: 1.47144211472808\n",
            "Epoch: 54000, Loss: 1.4712664804725646\n",
            "Epoch: 55000, Loss: 1.471071421280412\n",
            "Epoch: 56000, Loss: 1.4708974280691112\n",
            "Epoch: 57000, Loss: 1.4707287678418866\n",
            "Epoch: 58000, Loss: 1.4705682289630533\n",
            "Epoch: 59000, Loss: 1.4704136540674377\n",
            "Epoch: 60000, Loss: 1.4702624160191313\n",
            "Epoch: 61000, Loss: 1.4701133474378296\n",
            "Epoch: 62000, Loss: 1.469963840309926\n",
            "Epoch: 63000, Loss: 1.4698244208429256\n",
            "Epoch: 64000, Loss: 1.4696896169741205\n",
            "Epoch: 65000, Loss: 1.469555237065154\n",
            "Epoch: 66000, Loss: 1.4694227025291293\n",
            "Epoch: 67000, Loss: 1.469295671842353\n",
            "Epoch: 68000, Loss: 1.4691713708378782\n",
            "Epoch: 69000, Loss: 1.4690480669212913\n",
            "Epoch: 70000, Loss: 1.4689286730003712\n",
            "Epoch: 71000, Loss: 1.4688132780205596\n",
            "Epoch: 72000, Loss: 1.468700225295453\n",
            "Epoch: 73000, Loss: 1.4685969830739305\n",
            "Epoch: 74000, Loss: 1.4684948012393457\n",
            "Epoch: 75000, Loss: 1.468394208570128\n",
            "Epoch: 76000, Loss: 1.468301391175521\n",
            "Epoch: 77000, Loss: 1.468215339001196\n",
            "Epoch: 78000, Loss: 1.4681337984962002\n",
            "Epoch: 79000, Loss: 1.4680555660859123\n",
            "Epoch: 80000, Loss: 1.4679787323109788\n",
            "Epoch: 81000, Loss: 1.4679013828468772\n",
            "Epoch: 82000, Loss: 1.467824137152151\n",
            "Epoch: 83000, Loss: 1.4677473954012636\n",
            "Epoch: 84000, Loss: 1.467675150208282\n",
            "Epoch: 85000, Loss: 1.4675999169586114\n",
            "Epoch: 86000, Loss: 1.4675339110511398\n",
            "Epoch: 87000, Loss: 1.4674712488907884\n",
            "Epoch: 88000, Loss: 1.4674111375855083\n",
            "Epoch: 89000, Loss: 1.467350779458236\n",
            "Epoch: 90000, Loss: 1.4672901889733836\n",
            "Epoch: 91000, Loss: 1.4672323795101028\n",
            "Epoch: 92000, Loss: 1.4671761832256758\n",
            "Epoch: 93000, Loss: 1.467125704283244\n",
            "Epoch: 94000, Loss: 1.4670751998719138\n",
            "Epoch: 95000, Loss: 1.4670273267587413\n",
            "Epoch: 96000, Loss: 1.4669780938666965\n",
            "Epoch: 97000, Loss: 1.4669289104683716\n",
            "Epoch: 98000, Loss: 1.466882048131291\n",
            "Epoch: 99000, Loss: 1.4668417386485788\n",
            "Epoch: 100000, Loss: 1.4668292444619946\n"
          ]
        }
      ]
    },
    {
      "cell_type": "code",
      "source": [
        "outputs=network(input)\n",
        "ans=outputs.detach().numpy()\n",
        "ans.shape\n",
        "x=np.arange(ans.shape[0])\n",
        "x"
      ],
      "metadata": {
        "colab": {
          "base_uri": "https://localhost:8080/"
        },
        "id": "WCrFcrl4p-qz",
        "outputId": "2dc4bab8-6d17-46c4-e3d6-57309ed8fd0b"
      },
      "execution_count": 222,
      "outputs": [
        {
          "output_type": "execute_result",
          "data": {
            "text/plain": [
              "array([   0,    1,    2, ..., 4521, 4522, 4523])"
            ]
          },
          "metadata": {},
          "execution_count": 222
        }
      ]
    },
    {
      "cell_type": "code",
      "source": [
        "fig,(ax1,ax2)=plt.subplots(1,2,constrained_layout=True,figsize=(12,4))\n",
        "ax1.plot(returns)\n",
        "ax2.plot(ans)"
      ],
      "metadata": {
        "colab": {
          "base_uri": "https://localhost:8080/",
          "height": 445
        },
        "id": "CDAdFZHjxNOB",
        "outputId": "2821a3e3-cb6d-4af2-db1c-4d085c9bc4e5"
      },
      "execution_count": 223,
      "outputs": [
        {
          "output_type": "execute_result",
          "data": {
            "text/plain": [
              "[<matplotlib.lines.Line2D at 0x7d0fb749d690>]"
            ]
          },
          "metadata": {},
          "execution_count": 223
        },
        {
          "output_type": "display_data",
          "data": {
            "text/plain": [
              "<Figure size 1200x400 with 2 Axes>"
            ],
            "image/png": "[encoded data removed]"
          },
          "metadata": {}
        }
      ]
    },
    {
      "cell_type": "code",
      "source": [],
      "metadata": {
        "id": "JZwcIuXCzw-q"
      },
      "execution_count": 223,
      "outputs": []
    }
  ]
}