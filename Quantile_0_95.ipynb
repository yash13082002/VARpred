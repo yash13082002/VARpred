{
  "nbformat": 4,
  "nbformat_minor": 0,
  "metadata": {
    "colab": {
      "provenance": []
    },
    "kernelspec": {
      "name": "python3",
      "display_name": "Python 3"
    },
    "language_info": {
      "name": "python"
    }
  },
  "cells": [
    {
      "cell_type": "code",
      "execution_count": 1,
      "metadata": {
        "id": "lbu9efRrm8rB"
      },
      "outputs": [],
      "source": [
        "import numpy as np\n",
        "import pandas as pd\n",
        "import yfinance as yf\n",
        "import matplotlib.pyplot as plt"
      ]
    },
    {
      "cell_type": "code",
      "source": [
        "import scipy\n",
        "from scipy.stats import norm"
      ],
      "metadata": {
        "id": "_bFybhox26tc"
      },
      "execution_count": 2,
      "outputs": []
    },
    {
      "cell_type": "code",
      "source": [
        "stock='AXISBANK.NS'\n",
        "data = yf.download(stock,'2005-01-01','2023-05-05')"
      ],
      "metadata": {
        "colab": {
          "base_uri": "https://localhost:8080/"
        },
        "id": "sLp6mSkQm9ZS",
        "outputId": "113e9853-4c65-484d-937d-33809fc97a90"
      },
      "execution_count": 3,
      "outputs": [
        {
          "output_type": "stream",
          "name": "stdout",
          "text": [
            "\r[*********************100%***********************]  1 of 1 completed\n"
          ]
        }
      ]
    },
    {
      "cell_type": "code",
      "source": [
        "data"
      ],
      "metadata": {
        "colab": {
          "base_uri": "https://localhost:8080/",
          "height": 455
        },
        "id": "re200cTwnAnm",
        "outputId": "9d45b7b6-10e2-4a29-ebcd-6b2bbd8a5446"
      },
      "execution_count": 4,
      "outputs": [
        {
          "output_type": "execute_result",
          "data": {
            "text/plain": [
              "                  Open        High         Low       Close   Adj Close  \\\n",
              "Date                                                                     \n",
              "2005-01-03   37.000000   38.200001   37.000000   38.040001   32.853142   \n",
              "2005-01-04   38.220001   38.400002   37.400002   37.939999   32.766773   \n",
              "2005-01-05   37.990002   37.990002   35.509998   36.849998   31.825394   \n",
              "2005-01-06   36.820000   38.000000   35.400002   37.029999   31.980856   \n",
              "2005-01-07   36.130001   38.380001   36.130001   38.020000   32.835869   \n",
              "...                ...         ...         ...         ...         ...   \n",
              "2023-04-27  888.000000  890.000000  877.500000  881.400024  879.590454   \n",
              "2023-04-28  885.099976  890.049988  853.650024  860.000000  858.234375   \n",
              "2023-05-02  870.000000  876.400024  864.250000  870.650024  868.862549   \n",
              "2023-05-03  863.849976  866.849976  854.049988  859.849976  858.084717   \n",
              "2023-05-04  860.000000  867.150024  857.500000  865.950012  864.172180   \n",
              "\n",
              "              Volume  \n",
              "Date                  \n",
              "2005-01-03   1421010  \n",
              "2005-01-04   1115825  \n",
              "2005-01-05   1163085  \n",
              "2005-01-06   1192610  \n",
              "2005-01-07   1530260  \n",
              "...              ...  \n",
              "2023-04-27  15992383  \n",
              "2023-04-28  23004117  \n",
              "2023-05-02  12947953  \n",
              "2023-05-03  15103015  \n",
              "2023-05-04   9756391  \n",
              "\n",
              "[4525 rows x 6 columns]"
            ],
            "text/html": [
              "\n",
              "\n",
              "  <div id=\"df-ee38ca08-e872-4ed5-9784-76efe2a7abaf\">\n",
              "    <div class=\"colab-df-container\">\n",
              "      <div>\n",
              "<style scoped>\n",
              "    .dataframe tbody tr th:only-of-type {\n",
              "        vertical-align: middle;\n",
              "    }\n",
              "\n",
              "    .dataframe tbody tr th {\n",
              "        vertical-align: top;\n",
              "    }\n",
              "\n",
              "    .dataframe thead th {\n",
              "        text-align: right;\n",
              "    }\n",
              "</style>\n",
              "<table border=\"1\" class=\"dataframe\">\n",
              "  <thead>\n",
              "    <tr style=\"text-align: right;\">\n",
              "      <th></th>\n",
              "      <th>Open</th>\n",
              "      <th>High</th>\n",
              "      <th>Low</th>\n",
              "      <th>Close</th>\n",
              "      <th>Adj Close</th>\n",
              "      <th>Volume</th>\n",
              "    </tr>\n",
              "    <tr>\n",
              "      <th>Date</th>\n",
              "      <th></th>\n",
              "      <th></th>\n",
              "      <th></th>\n",
              "      <th></th>\n",
              "      <th></th>\n",
              "      <th></th>\n",
              "    </tr>\n",
              "  </thead>\n",
              "  <tbody>\n",
              "    <tr>\n",
              "      <th>2005-01-03</th>\n",
              "      <td>37.000000</td>\n",
              "      <td>38.200001</td>\n",
              "      <td>37.000000</td>\n",
              "      <td>38.040001</td>\n",
              "      <td>32.853142</td>\n",
              "      <td>1421010</td>\n",
              "    </tr>\n",
              "    <tr>\n",
              "      <th>2005-01-04</th>\n",
              "      <td>38.220001</td>\n",
              "      <td>38.400002</td>\n",
              "      <td>37.400002</td>\n",
              "      <td>37.939999</td>\n",
              "      <td>32.766773</td>\n",
              "      <td>1115825</td>\n",
              "    </tr>\n",
              "    <tr>\n",
              "      <th>2005-01-05</th>\n",
              "      <td>37.990002</td>\n",
              "      <td>37.990002</td>\n",
              "      <td>35.509998</td>\n",
              "      <td>36.849998</td>\n",
              "      <td>31.825394</td>\n",
              "      <td>1163085</td>\n",
              "    </tr>\n",
              "    <tr>\n",
              "      <th>2005-01-06</th>\n",
              "      <td>36.820000</td>\n",
              "      <td>38.000000</td>\n",
              "      <td>35.400002</td>\n",
              "      <td>37.029999</td>\n",
              "      <td>31.980856</td>\n",
              "      <td>1192610</td>\n",
              "    </tr>\n",
              "    <tr>\n",
              "      <th>2005-01-07</th>\n",
              "      <td>36.130001</td>\n",
              "      <td>38.380001</td>\n",
              "      <td>36.130001</td>\n",
              "      <td>38.020000</td>\n",
              "      <td>32.835869</td>\n",
              "      <td>1530260</td>\n",
              "    </tr>\n",
              "    <tr>\n",
              "      <th>...</th>\n",
              "      <td>...</td>\n",
              "      <td>...</td>\n",
              "      <td>...</td>\n",
              "      <td>...</td>\n",
              "      <td>...</td>\n",
              "      <td>...</td>\n",
              "    </tr>\n",
              "    <tr>\n",
              "      <th>2023-04-27</th>\n",
              "      <td>888.000000</td>\n",
              "      <td>890.000000</td>\n",
              "      <td>877.500000</td>\n",
              "      <td>881.400024</td>\n",
              "      <td>879.590454</td>\n",
              "      <td>15992383</td>\n",
              "    </tr>\n",
              "    <tr>\n",
              "      <th>2023-04-28</th>\n",
              "      <td>885.099976</td>\n",
              "      <td>890.049988</td>\n",
              "      <td>853.650024</td>\n",
              "      <td>860.000000</td>\n",
              "      <td>858.234375</td>\n",
              "      <td>23004117</td>\n",
              "    </tr>\n",
              "    <tr>\n",
              "      <th>2023-05-02</th>\n",
              "      <td>870.000000</td>\n",
              "      <td>876.400024</td>\n",
              "      <td>864.250000</td>\n",
              "      <td>870.650024</td>\n",
              "      <td>868.862549</td>\n",
              "      <td>12947953</td>\n",
              "    </tr>\n",
              "    <tr>\n",
              "      <th>2023-05-03</th>\n",
              "      <td>863.849976</td>\n",
              "      <td>866.849976</td>\n",
              "      <td>854.049988</td>\n",
              "      <td>859.849976</td>\n",
              "      <td>858.084717</td>\n",
              "      <td>15103015</td>\n",
              "    </tr>\n",
              "    <tr>\n",
              "      <th>2023-05-04</th>\n",
              "      <td>860.000000</td>\n",
              "      <td>867.150024</td>\n",
              "      <td>857.500000</td>\n",
              "      <td>865.950012</td>\n",
              "      <td>864.172180</td>\n",
              "      <td>9756391</td>\n",
              "    </tr>\n",
              "  </tbody>\n",
              "</table>\n",
              "<p>4525 rows × 6 columns</p>\n",
              "</div>\n",
              "      <button class=\"colab-df-convert\" onclick=\"convertToInteractive('df-ee38ca08-e872-4ed5-9784-76efe2a7abaf')\"\n",
              "              title=\"Convert this dataframe to an interactive table.\"\n",
              "              style=\"display:none;\">\n",
              "\n",
              "  <svg xmlns=\"http://www.w3.org/2000/svg\" height=\"24px\"viewBox=\"0 0 24 24\"\n",
              "       width=\"24px\">\n",
              "    <path d=\"M0 0h24v24H0V0z\" fill=\"none\"/>\n",
              "    <path d=\"M18.56 5.44l.94 2.06.94-2.06 2.06-.94-2.06-.94-.94-2.06-.94 2.06-2.06.94zm-11 1L8.5 8.5l.94-2.06 2.06-.94-2.06-.94L8.5 2.5l-.94 2.06-2.06.94zm10 10l.94 2.06.94-2.06 2.06-.94-2.06-.94-.94-2.06-.94 2.06-2.06.94z\"/><path d=\"M17.41 7.96l-1.37-1.37c-.4-.4-.92-.59-1.43-.59-.52 0-1.04.2-1.43.59L10.3 9.45l-7.72 7.72c-.78.78-.78 2.05 0 2.83L4 21.41c.39.39.9.59 1.41.59.51 0 1.02-.2 1.41-.59l7.78-7.78 2.81-2.81c.8-.78.8-2.07 0-2.86zM5.41 20L4 18.59l7.72-7.72 1.47 1.35L5.41 20z\"/>\n",
              "  </svg>\n",
              "      </button>\n",
              "\n",
              "\n",
              "\n",
              "    <div id=\"df-70d3a421-7e85-41f3-b18a-3ed0a81e920f\">\n",
              "      <button class=\"colab-df-quickchart\" onclick=\"quickchart('df-70d3a421-7e85-41f3-b18a-3ed0a81e920f')\"\n",
              "              title=\"Suggest charts.\"\n",
              "              style=\"display:none;\">\n",
              "\n",
              "<svg xmlns=\"http://www.w3.org/2000/svg\" height=\"24px\"viewBox=\"0 0 24 24\"\n",
              "     width=\"24px\">\n",
              "    <g>\n",
              "        <path d=\"M19 3H5c-1.1 0-2 .9-2 2v14c0 1.1.9 2 2 2h14c1.1 0 2-.9 2-2V5c0-1.1-.9-2-2-2zM9 17H7v-7h2v7zm4 0h-2V7h2v10zm4 0h-2v-4h2v4z\"/>\n",
              "    </g>\n",
              "</svg>\n",
              "      </button>\n",
              "    </div>\n",
              "\n",
              "<style>\n",
              "  .colab-df-quickchart {\n",
              "    background-color: #E8F0FE;\n",
              "    border: none;\n",
              "    border-radius: 50%;\n",
              "    cursor: pointer;\n",
              "    display: none;\n",
              "    fill: #1967D2;\n",
              "    height: 32px;\n",
              "    padding: 0 0 0 0;\n",
              "    width: 32px;\n",
              "  }\n",
              "\n",
              "  .colab-df-quickchart:hover {\n",
              "    background-color: #E2EBFA;\n",
              "    box-shadow: 0px 1px 2px rgba(60, 64, 67, 0.3), 0px 1px 3px 1px rgba(60, 64, 67, 0.15);\n",
              "    fill: #174EA6;\n",
              "  }\n",
              "\n",
              "  [theme=dark] .colab-df-quickchart {\n",
              "    background-color: #3B4455;\n",
              "    fill: #D2E3FC;\n",
              "  }\n",
              "\n",
              "  [theme=dark] .colab-df-quickchart:hover {\n",
              "    background-color: #434B5C;\n",
              "    box-shadow: 0px 1px 3px 1px rgba(0, 0, 0, 0.15);\n",
              "    filter: drop-shadow(0px 1px 2px rgba(0, 0, 0, 0.3));\n",
              "    fill: #FFFFFF;\n",
              "  }\n",
              "</style>\n",
              "\n",
              "    <script>\n",
              "      async function quickchart(key) {\n",
              "        const containerElement = document.querySelector('#' + key);\n",
              "        const charts = await google.colab.kernel.invokeFunction(\n",
              "            'suggestCharts', [key], {});\n",
              "      }\n",
              "    </script>\n",
              "\n",
              "      <script>\n",
              "\n",
              "function displayQuickchartButton(domScope) {\n",
              "  let quickchartButtonEl =\n",
              "    domScope.querySelector('#df-70d3a421-7e85-41f3-b18a-3ed0a81e920f button.colab-df-quickchart');\n",
              "  quickchartButtonEl.style.display =\n",
              "    google.colab.kernel.accessAllowed ? 'block' : 'none';\n",
              "}\n",
              "\n",
              "        displayQuickchartButton(document);\n",
              "      </script>\n",
              "      <style>\n",
              "    .colab-df-container {\n",
              "      display:flex;\n",
              "      flex-wrap:wrap;\n",
              "      gap: 12px;\n",
              "    }\n",
              "\n",
              "    .colab-df-convert {\n",
              "      background-color: #E8F0FE;\n",
              "      border: none;\n",
              "      border-radius: 50%;\n",
              "      cursor: pointer;\n",
              "      display: none;\n",
              "      fill: #1967D2;\n",
              "      height: 32px;\n",
              "      padding: 0 0 0 0;\n",
              "      width: 32px;\n",
              "    }\n",
              "\n",
              "    .colab-df-convert:hover {\n",
              "      background-color: #E2EBFA;\n",
              "      box-shadow: 0px 1px 2px rgba(60, 64, 67, 0.3), 0px 1px 3px 1px rgba(60, 64, 67, 0.15);\n",
              "      fill: #174EA6;\n",
              "    }\n",
              "\n",
              "    [theme=dark] .colab-df-convert {\n",
              "      background-color: #3B4455;\n",
              "      fill: #D2E3FC;\n",
              "    }\n",
              "\n",
              "    [theme=dark] .colab-df-convert:hover {\n",
              "      background-color: #434B5C;\n",
              "      box-shadow: 0px 1px 3px 1px rgba(0, 0, 0, 0.15);\n",
              "      filter: drop-shadow(0px 1px 2px rgba(0, 0, 0, 0.3));\n",
              "      fill: #FFFFFF;\n",
              "    }\n",
              "  </style>\n",
              "\n",
              "      <script>\n",
              "        const buttonEl =\n",
              "          document.querySelector('#df-ee38ca08-e872-4ed5-9784-76efe2a7abaf button.colab-df-convert');\n",
              "        buttonEl.style.display =\n",
              "          google.colab.kernel.accessAllowed ? 'block' : 'none';\n",
              "\n",
              "        async function convertToInteractive(key) {\n",
              "          const element = document.querySelector('#df-ee38ca08-e872-4ed5-9784-76efe2a7abaf');\n",
              "          const dataTable =\n",
              "            await google.colab.kernel.invokeFunction('convertToInteractive',\n",
              "                                                     [key], {});\n",
              "          if (!dataTable) return;\n",
              "\n",
              "          const docLinkHtml = 'Like what you see? Visit the ' +\n",
              "            '<a target=\"_blank\" href=https://colab.research.google.com/notebooks/data_table.ipynb>data table notebook</a>'\n",
              "            + ' to learn more about interactive tables.';\n",
              "          element.innerHTML = '';\n",
              "          dataTable['output_type'] = 'display_data';\n",
              "          await google.colab.output.renderOutput(dataTable, element);\n",
              "          const docLink = document.createElement('div');\n",
              "          docLink.innerHTML = docLinkHtml;\n",
              "          element.appendChild(docLink);\n",
              "        }\n",
              "      </script>\n",
              "    </div>\n",
              "  </div>\n"
            ]
          },
          "metadata": {},
          "execution_count": 4
        }
      ]
    },
    {
      "cell_type": "code",
      "source": [
        "# data = data[:4000]"
      ],
      "metadata": {
        "id": "PmtwEW1-_kRv"
      },
      "execution_count": 5,
      "outputs": []
    },
    {
      "cell_type": "code",
      "source": [
        "returns = np.diff(data['Adj Close'])\n",
        "returns=-returns"
      ],
      "metadata": {
        "id": "73fqShMpnDN4"
      },
      "execution_count": 6,
      "outputs": []
    },
    {
      "cell_type": "code",
      "source": [
        "data.shape,returns.shape"
      ],
      "metadata": {
        "colab": {
          "base_uri": "https://localhost:8080/"
        },
        "id": "nmZHg_p26ahP",
        "outputId": "d704764b-f2ab-4a39-904a-838f02278405"
      },
      "execution_count": 7,
      "outputs": [
        {
          "output_type": "execute_result",
          "data": {
            "text/plain": [
              "((4525, 6), (4524,))"
            ]
          },
          "metadata": {},
          "execution_count": 7
        }
      ]
    },
    {
      "cell_type": "code",
      "source": [
        "returns.shape"
      ],
      "metadata": {
        "colab": {
          "base_uri": "https://localhost:8080/"
        },
        "id": "sMgvQUgA6dIw",
        "outputId": "e1388544-4e2d-42a2-aa9c-388c046e8f4d"
      },
      "execution_count": 8,
      "outputs": [
        {
          "output_type": "execute_result",
          "data": {
            "text/plain": [
              "(4524,)"
            ]
          },
          "metadata": {},
          "execution_count": 8
        }
      ]
    },
    {
      "cell_type": "code",
      "source": [
        "np.sum(returns)"
      ],
      "metadata": {
        "colab": {
          "base_uri": "https://localhost:8080/"
        },
        "id": "BcFGmyFC4COW",
        "outputId": "d4e9e30f-d991-4528-e7f9-acdcd907bcd1"
      },
      "execution_count": 9,
      "outputs": [
        {
          "output_type": "execute_result",
          "data": {
            "text/plain": [
              "-831.3190383911133"
            ]
          },
          "metadata": {},
          "execution_count": 9
        }
      ]
    },
    {
      "cell_type": "code",
      "source": [
        "data['Adj Close']"
      ],
      "metadata": {
        "colab": {
          "base_uri": "https://localhost:8080/"
        },
        "id": "IwV_2pdNnGx4",
        "outputId": "370fd112-4a04-4b48-ae3f-d950e16666f0"
      },
      "execution_count": 10,
      "outputs": [
        {
          "output_type": "execute_result",
          "data": {
            "text/plain": [
              "Date\n",
              "2005-01-03     32.853142\n",
              "2005-01-04     32.766773\n",
              "2005-01-05     31.825394\n",
              "2005-01-06     31.980856\n",
              "2005-01-07     32.835869\n",
              "                 ...    \n",
              "2023-04-27    879.590454\n",
              "2023-04-28    858.234375\n",
              "2023-05-02    868.862549\n",
              "2023-05-03    858.084717\n",
              "2023-05-04    864.172180\n",
              "Name: Adj Close, Length: 4525, dtype: float64"
            ]
          },
          "metadata": {},
          "execution_count": 10
        }
      ]
    },
    {
      "cell_type": "code",
      "source": [
        "mean = np.mean(returns)\n",
        "std_dev = np.std(returns)\n",
        "mean,std_dev"
      ],
      "metadata": {
        "id": "k5AvfkJoquFc",
        "colab": {
          "base_uri": "https://localhost:8080/"
        },
        "outputId": "e0d82a7d-cdc0-4251-cd1d-313ea3c1664f"
      },
      "execution_count": 11,
      "outputs": [
        {
          "output_type": "execute_result",
          "data": {
            "text/plain": [
              "(-0.18375752395913203, 8.991496492478406)"
            ]
          },
          "metadata": {},
          "execution_count": 11
        }
      ]
    },
    {
      "cell_type": "code",
      "source": [
        "pip install KDEpy"
      ],
      "metadata": {
        "colab": {
          "base_uri": "https://localhost:8080/"
        },
        "id": "zpBrcKsHP0bl",
        "outputId": "a92ef117-c7fa-4cbc-d005-9e13e5683160"
      },
      "execution_count": 12,
      "outputs": [
        {
          "output_type": "stream",
          "name": "stdout",
          "text": [
            "Collecting KDEpy\n",
            "  Downloading KDEpy-1.1.4-cp310-cp310-manylinux_2_17_x86_64.manylinux2014_x86_64.whl (552 kB)\n",
            "\u001b[?25l     \u001b[90m━━━━━━━━━━━━━━━━━━━━━━━━━━━━━━━━━━━━━━━━\u001b[0m \u001b[32m0.0/552.7 kB\u001b[0m \u001b[31m?\u001b[0m eta \u001b[36m-:--:--\u001b[0m\r\u001b[2K     \u001b[90m━━━━━━━━━━━━━━━━━━━━━━━━━━━━━━━━━━━━━━\u001b[0m \u001b[32m552.7/552.7 kB\u001b[0m \u001b[31m33.2 MB/s\u001b[0m eta \u001b[36m0:00:00\u001b[0m\n",
            "\u001b[?25hRequirement already satisfied: numpy>=1.14.2 in /usr/local/lib/python3.10/dist-packages (from KDEpy) (1.22.4)\n",
            "Requirement already satisfied: scipy>=1.0.1 in /usr/local/lib/python3.10/dist-packages (from KDEpy) (1.10.1)\n",
            "Requirement already satisfied: matplotlib>=2.2.2 in /usr/local/lib/python3.10/dist-packages (from KDEpy) (3.7.1)\n",
            "Requirement already satisfied: contourpy>=1.0.1 in /usr/local/lib/python3.10/dist-packages (from matplotlib>=2.2.2->KDEpy) (1.1.0)\n",
            "Requirement already satisfied: cycler>=0.10 in /usr/local/lib/python3.10/dist-packages (from matplotlib>=2.2.2->KDEpy) (0.11.0)\n",
            "Requirement already satisfied: fonttools>=4.22.0 in /usr/local/lib/python3.10/dist-packages (from matplotlib>=2.2.2->KDEpy) (4.40.0)\n",
            "Requirement already satisfied: kiwisolver>=1.0.1 in /usr/local/lib/python3.10/dist-packages (from matplotlib>=2.2.2->KDEpy) (1.4.4)\n",
            "Requirement already satisfied: packaging>=20.0 in /usr/local/lib/python3.10/dist-packages (from matplotlib>=2.2.2->KDEpy) (23.1)\n",
            "Requirement already satisfied: pillow>=6.2.0 in /usr/local/lib/python3.10/dist-packages (from matplotlib>=2.2.2->KDEpy) (8.4.0)\n",
            "Requirement already satisfied: pyparsing>=2.3.1 in /usr/local/lib/python3.10/dist-packages (from matplotlib>=2.2.2->KDEpy) (3.1.0)\n",
            "Requirement already satisfied: python-dateutil>=2.7 in /usr/local/lib/python3.10/dist-packages (from matplotlib>=2.2.2->KDEpy) (2.8.2)\n",
            "Requirement already satisfied: six>=1.5 in /usr/local/lib/python3.10/dist-packages (from python-dateutil>=2.7->matplotlib>=2.2.2->KDEpy) (1.16.0)\n",
            "Installing collected packages: KDEpy\n",
            "Successfully installed KDEpy-1.1.4\n"
          ]
        }
      ]
    },
    {
      "cell_type": "code",
      "source": [
        "import KDEpy"
      ],
      "metadata": {
        "id": "ueQSJmMuP30v"
      },
      "execution_count": 13,
      "outputs": []
    },
    {
      "cell_type": "code",
      "source": [
        "np.array(returns)"
      ],
      "metadata": {
        "colab": {
          "base_uri": "https://localhost:8080/"
        },
        "id": "dcFxz8yIQ9qM",
        "outputId": "d6182efb-eb79-4de3-819c-e460dfe3f2cf"
      },
      "execution_count": 14,
      "outputs": [
        {
          "output_type": "execute_result",
          "data": {
            "text/plain": [
              "array([  0.08636856,   0.94137955,  -0.15546227, ..., -10.62817383,\n",
              "        10.77783203,  -6.08746338])"
            ]
          },
          "metadata": {},
          "execution_count": 14
        }
      ]
    },
    {
      "cell_type": "code",
      "source": [
        "from KDEpy import FFTKDE\n",
        "import matplotlib.pyplot as plt\n",
        "x, y = FFTKDE(kernel=\"gaussian\",bw = \"silverman\").fit(np.array(returns)).evaluate()\n",
        "plt.plot(x, y)\n",
        "\n"
      ],
      "metadata": {
        "colab": {
          "base_uri": "https://localhost:8080/",
          "height": 447
        },
        "id": "u-N12BT_PqcY",
        "outputId": "bd060099-a82a-42c6-d577-2588f173cd3f"
      },
      "execution_count": 15,
      "outputs": [
        {
          "output_type": "execute_result",
          "data": {
            "text/plain": [
              "[<matplotlib.lines.Line2D at 0x7f6f2a921840>]"
            ]
          },
          "metadata": {},
          "execution_count": 15
        },
        {
          "output_type": "display_data",
          "data": {
            "text/plain": [
              "<Figure size 640x480 with 1 Axes>"
            ],
            "image/png": "[encoded data removed]"
          },
          "metadata": {}
        }
      ]
    },
    {
      "cell_type": "code",
      "source": [
        "np.array(data['Adj Close'])"
      ],
      "metadata": {
        "colab": {
          "base_uri": "https://localhost:8080/"
        },
        "id": "d6auR5jVRVHE",
        "outputId": "de767a22-57d4-4516-effb-3105366f0bf3"
      },
      "execution_count": 16,
      "outputs": [
        {
          "output_type": "execute_result",
          "data": {
            "text/plain": [
              "array([ 32.85314178,  32.76677322,  31.82539368, ..., 868.86254883,\n",
              "       858.0847168 , 864.17218018])"
            ]
          },
          "metadata": {},
          "execution_count": 16
        }
      ]
    },
    {
      "cell_type": "code",
      "source": [
        "y\n"
      ],
      "metadata": {
        "colab": {
          "base_uri": "https://localhost:8080/"
        },
        "id": "-gxogX6jSb0e",
        "outputId": "ea1b8d9c-e64a-497c-9d14-1379ce7369ca"
      },
      "execution_count": 17,
      "outputs": [
        {
          "output_type": "execute_result",
          "data": {
            "text/plain": [
              "array([2.22044605e-16, 2.22044605e-16, 2.22044605e-16, ...,\n",
              "       2.22044605e-16, 2.22044605e-16, 2.22044605e-16])"
            ]
          },
          "metadata": {},
          "execution_count": 17
        }
      ]
    },
    {
      "cell_type": "code",
      "source": [
        "np.sum(y)"
      ],
      "metadata": {
        "colab": {
          "base_uri": "https://localhost:8080/"
        },
        "id": "BHaFbJW4RWD-",
        "outputId": "b886b785-4579-4509-e817-aceca571adf6"
      },
      "execution_count": 18,
      "outputs": [
        {
          "output_type": "execute_result",
          "data": {
            "text/plain": [
              "4.721855746142614"
            ]
          },
          "metadata": {},
          "execution_count": 18
        }
      ]
    },
    {
      "cell_type": "code",
      "source": [
        "np.sort(np.array(returns))"
      ],
      "metadata": {
        "colab": {
          "base_uri": "https://localhost:8080/"
        },
        "id": "It97f7V1RXDk",
        "outputId": "43cc92ed-a378-42f1-b4e8-e1b552db11a5"
      },
      "execution_count": 19,
      "outputs": [
        {
          "output_type": "execute_result",
          "data": {
            "text/plain": [
              "array([-77.87481689, -74.39697266, -63.17364502, ...,  59.9850769 ,\n",
              "        75.82830811, 119.07342529])"
            ]
          },
          "metadata": {},
          "execution_count": 19
        }
      ]
    },
    {
      "cell_type": "code",
      "source": [
        "import torch\n",
        "import torch.nn as nn\n"
      ],
      "metadata": {
        "id": "OXFADha_A2lN"
      },
      "execution_count": 20,
      "outputs": []
    },
    {
      "cell_type": "code",
      "source": [
        "class QuantileLoss(nn.Module):\n",
        "    def __init__(self, quantile):\n",
        "        super(QuantileLoss, self).__init__()\n",
        "        self.quantile = quantile\n",
        "\n",
        "    def forward(self, predictions, targets):\n",
        "        errors = targets - predictions\n",
        "        quantile_loss = torch.max((self.quantile - 1) * errors, self.quantile * errors)\n",
        "        return quantile_loss.mean()"
      ],
      "metadata": {
        "id": "XGSJ5sjAo-I-"
      },
      "execution_count": 21,
      "outputs": []
    },
    {
      "cell_type": "code",
      "source": [
        "class NeuralNetwork(nn.Module):\n",
        "    def __init__(self, input_size, hidden_size, output_size):\n",
        "        super(NeuralNetwork, self).__init__()\n",
        "        self.hidden_layer = nn.Linear(input_size, hidden_size,dtype=torch.float64)\n",
        "        self.relu = nn.ReLU()\n",
        "        self.output_layer = nn.Linear(hidden_size, output_size,dtype=torch.float64)\n",
        "\n",
        "    def forward(self, x):\n",
        "        x = self.hidden_layer(x)\n",
        "        x = self.relu(x)\n",
        "        x = self.output_layer(x)\n",
        "        return x"
      ],
      "metadata": {
        "id": "t_B7AEL_pF-j"
      },
      "execution_count": 22,
      "outputs": []
    },
    {
      "cell_type": "code",
      "source": [
        "network = NeuralNetwork(1,5,1)\n",
        "quantile_loss = QuantileLoss(0.95)"
      ],
      "metadata": {
        "id": "THRrWmYtpG0q"
      },
      "execution_count": 23,
      "outputs": []
    },
    {
      "cell_type": "code",
      "source": [
        "optimizer = torch.optim.SGD(network.parameters(),lr=0.001)\n",
        "input = np.array(data['Adj Close'])\n",
        "input=input[0:-1]\n",
        "input=torch.from_numpy(input)\n",
        "input= torch.unsqueeze(input, dim=1)\n",
        "returns=torch.from_numpy(returns)\n",
        "returns=torch.unsqueeze(returns,dim=1)"
      ],
      "metadata": {
        "id": "qvzHdqJxpMMX"
      },
      "execution_count": 24,
      "outputs": []
    },
    {
      "cell_type": "code",
      "source": [
        "for epoch in range(100000):\n",
        "    outputs = network(input)\n",
        "    loss = quantile_loss(outputs, returns)\n",
        "    optimizer.zero_grad()\n",
        "    loss.backward()\n",
        "    optimizer.step()\n",
        "    if (epoch + 1) % 1000== 0:\n",
        "        print(f\"Epoch: {epoch+1}, Loss: {loss.item()}\")"
      ],
      "metadata": {
        "colab": {
          "base_uri": "https://localhost:8080/"
        },
        "id": "uZSLfEiwprMi",
        "outputId": "ebe5fced-99e1-4de0-d1b0-b0c149503102"
      },
      "execution_count": 25,
      "outputs": [
        {
          "output_type": "stream",
          "name": "stdout",
          "text": [
            "Epoch: 1000, Loss: 0.9340181635607163\n",
            "Epoch: 2000, Loss: 0.9199384700449511\n",
            "Epoch: 3000, Loss: 0.919462369376968\n",
            "Epoch: 4000, Loss: 0.9150929471751733\n",
            "Epoch: 5000, Loss: 0.910768623956318\n",
            "Epoch: 6000, Loss: 0.910359186627802\n",
            "Epoch: 7000, Loss: 0.9099618229935801\n",
            "Epoch: 8000, Loss: 0.9095742530410138\n",
            "Epoch: 9000, Loss: 0.9091907582592587\n",
            "Epoch: 10000, Loss: 0.9088050841359885\n",
            "Epoch: 11000, Loss: 0.9086999763708171\n",
            "Epoch: 12000, Loss: 0.9083566269959923\n",
            "Epoch: 13000, Loss: 0.907990272403388\n",
            "Epoch: 14000, Loss: 0.9075958673745754\n",
            "Epoch: 15000, Loss: 0.9072857251372486\n",
            "Epoch: 16000, Loss: 0.9070111782322983\n",
            "Epoch: 17000, Loss: 0.906679578513776\n",
            "Epoch: 18000, Loss: 0.9064549954134279\n",
            "Epoch: 19000, Loss: 0.9062576977436765\n",
            "Epoch: 20000, Loss: 0.9059209888908797\n",
            "Epoch: 21000, Loss: 0.9055966480375723\n",
            "Epoch: 22000, Loss: 0.9054268682617005\n",
            "Epoch: 23000, Loss: 0.9515404908255287\n",
            "Epoch: 24000, Loss: 0.9268229690195519\n",
            "Epoch: 25000, Loss: 0.9242484527462641\n",
            "Epoch: 26000, Loss: 0.9139973078875374\n",
            "Epoch: 27000, Loss: 0.9047239547792953\n",
            "Epoch: 28000, Loss: 0.9044989268659273\n",
            "Epoch: 29000, Loss: 0.9042713333028156\n",
            "Epoch: 30000, Loss: 0.9040453054213098\n",
            "Epoch: 31000, Loss: 0.9038237029012997\n",
            "Epoch: 32000, Loss: 0.9036079768120906\n",
            "Epoch: 33000, Loss: 0.9034039828496049\n",
            "Epoch: 34000, Loss: 0.9032033676323054\n",
            "Epoch: 35000, Loss: 0.9030097714611105\n",
            "Epoch: 36000, Loss: 0.9028106744826044\n",
            "Epoch: 37000, Loss: 0.9128165345408134\n",
            "Epoch: 38000, Loss: 0.9086052988227585\n",
            "Epoch: 39000, Loss: 0.9091614089129874\n",
            "Epoch: 40000, Loss: 0.9064665598292179\n",
            "Epoch: 41000, Loss: 0.9051866230774092\n",
            "Epoch: 42000, Loss: 0.9051929555756563\n",
            "Epoch: 43000, Loss: 0.9047319569156267\n",
            "Epoch: 44000, Loss: 0.9046116246257808\n",
            "Epoch: 45000, Loss: 0.9046754119085494\n",
            "Epoch: 46000, Loss: 0.9046149934821252\n",
            "Epoch: 47000, Loss: 0.9043607820912609\n",
            "Epoch: 48000, Loss: 0.9041005067969643\n",
            "Epoch: 49000, Loss: 0.9044851927722198\n",
            "Epoch: 50000, Loss: 0.9039630101563589\n",
            "Epoch: 51000, Loss: 0.9039054720658409\n",
            "Epoch: 52000, Loss: 0.9038612998463432\n",
            "Epoch: 53000, Loss: 0.9039413247649943\n",
            "Epoch: 54000, Loss: 0.903878856053931\n",
            "Epoch: 55000, Loss: 0.9025294273530058\n",
            "Epoch: 56000, Loss: 0.902484540111071\n",
            "Epoch: 57000, Loss: 0.9025449776700705\n",
            "Epoch: 58000, Loss: 0.9025787177267658\n",
            "Epoch: 59000, Loss: 0.9018482552179257\n",
            "Epoch: 60000, Loss: 0.9021810315899079\n",
            "Epoch: 61000, Loss: 0.9031713518519182\n",
            "Epoch: 62000, Loss: 0.902688101639797\n",
            "Epoch: 63000, Loss: 0.9026528957106059\n",
            "Epoch: 64000, Loss: 0.9032553739157854\n",
            "Epoch: 65000, Loss: 0.9032643978024215\n",
            "Epoch: 66000, Loss: 0.903154493310584\n",
            "Epoch: 67000, Loss: 0.9013333522404622\n",
            "Epoch: 68000, Loss: 0.9012466299617752\n",
            "Epoch: 69000, Loss: 0.9013209135963496\n",
            "Epoch: 70000, Loss: 0.9013514226373591\n",
            "Epoch: 71000, Loss: 0.901405547089409\n",
            "Epoch: 72000, Loss: 0.9013887834548298\n",
            "Epoch: 73000, Loss: 0.9017504090603112\n",
            "Epoch: 74000, Loss: 0.9014138918399198\n",
            "Epoch: 75000, Loss: 0.9034699854640726\n",
            "Epoch: 76000, Loss: 0.902850798904144\n",
            "Epoch: 77000, Loss: 0.9020706165946896\n",
            "Epoch: 78000, Loss: 0.9021315924660489\n",
            "Epoch: 79000, Loss: 0.9022182111968438\n",
            "Epoch: 80000, Loss: 0.9011143725021047\n",
            "Epoch: 81000, Loss: 0.9010480152599245\n",
            "Epoch: 82000, Loss: 0.9010654732804674\n",
            "Epoch: 83000, Loss: 0.9010311008057412\n",
            "Epoch: 84000, Loss: 0.9010006726432045\n",
            "Epoch: 85000, Loss: 0.9009867450481396\n",
            "Epoch: 86000, Loss: 0.9010464723074662\n",
            "Epoch: 87000, Loss: 0.902696228557093\n",
            "Epoch: 88000, Loss: 0.9027289097637472\n",
            "Epoch: 89000, Loss: 0.9027272678618791\n",
            "Epoch: 90000, Loss: 0.9023389454244661\n",
            "Epoch: 91000, Loss: 0.9022871171596025\n",
            "Epoch: 92000, Loss: 0.9026139236059518\n",
            "Epoch: 93000, Loss: 0.9025252223898899\n",
            "Epoch: 94000, Loss: 0.9000505088558143\n",
            "Epoch: 95000, Loss: 0.8999674073334452\n",
            "Epoch: 96000, Loss: 0.9000075572469466\n",
            "Epoch: 97000, Loss: 0.9000333295232911\n",
            "Epoch: 98000, Loss: 0.9000890590924445\n",
            "Epoch: 99000, Loss: 0.9000178754706493\n",
            "Epoch: 100000, Loss: 0.8999392086991085\n"
          ]
        }
      ]
    },
    {
      "cell_type": "code",
      "source": [
        "outputs=network(input[4071:])\n",
        "compvalue=returns[4071:]\n",
        "ans=outputs.detach().numpy()\n",
        "given=compvalue.detach().numpy()\n",
        "compvalue.shape"
      ],
      "metadata": {
        "colab": {
          "base_uri": "https://localhost:8080/"
        },
        "id": "WCrFcrl4p-qz",
        "outputId": "a0d0ff56-e58a-42b7-a8b9-2a9066ed4ea5"
      },
      "execution_count": 32,
      "outputs": [
        {
          "output_type": "execute_result",
          "data": {
            "text/plain": [
              "torch.Size([453, 1])"
            ]
          },
          "metadata": {},
          "execution_count": 32
        }
      ]
    },
    {
      "cell_type": "code",
      "source": [
        "fig,(ax1,ax2)=plt.subplots(1,2,constrained_layout=True,figsize=(12,4))\n",
        "ax1.plot(returns[4071:])\n",
        "ax2.plot(ans)"
      ],
      "metadata": {
        "id": "CDAdFZHjxNOB",
        "outputId": "6a374b55-0bc7-45ed-ca66-eab9b7d711b7",
        "colab": {
          "base_uri": "https://localhost:8080/",
          "height": 445
        }
      },
      "execution_count": 34,
      "outputs": [
        {
          "output_type": "execute_result",
          "data": {
            "text/plain": [
              "[<matplotlib.lines.Line2D at 0x7f6e8b397070>]"
            ]
          },
          "metadata": {},
          "execution_count": 34
        },
        {
          "output_type": "display_data",
          "data": {
            "text/plain": [
              "<Figure size 1200x400 with 2 Axes>"
            ],
            "image/png": "[encoded data removed]"
          },
          "metadata": {}
        }
      ]
    },
    {
      "cell_type": "code",
      "source": [
        "error=ans-given\n",
        "error\n"
      ],
      "metadata": {
        "id": "JZwcIuXCzw-q",
        "outputId": "d2d8c085-d1da-482d-d10b-26a54971cd65",
        "colab": {
          "base_uri": "https://localhost:8080/"
        }
      },
      "execution_count": 35,
      "outputs": [
        {
          "output_type": "execute_result",
          "data": {
            "text/plain": [
              "array([[ 20.85519009],\n",
              "       [ 27.32681078],\n",
              "       [ 14.44857597],\n",
              "       [ 15.65943016],\n",
              "       [ 28.71781404],\n",
              "       [ 39.75111529],\n",
              "       [ 22.43680926],\n",
              "       [ 27.20043887],\n",
              "       [ 20.23858852],\n",
              "       [  7.25226261],\n",
              "       [ 13.2900317 ],\n",
              "       [ 23.44263223],\n",
              "       [ 31.09283957],\n",
              "       [ 23.60852667],\n",
              "       [ -1.7755762 ],\n",
              "       [ 13.29088004],\n",
              "       [ 16.18732523],\n",
              "       [ 13.34149508],\n",
              "       [ 33.63814348],\n",
              "       [ 39.15667148],\n",
              "       [ 37.39511335],\n",
              "       [ 18.18380703],\n",
              "       [ 14.1240883 ],\n",
              "       [ 36.90901287],\n",
              "       [ 28.74293115],\n",
              "       [ 22.13370516],\n",
              "       [ 19.42281273],\n",
              "       [ 25.30636586],\n",
              "       [ 24.92813141],\n",
              "       [ 17.66226531],\n",
              "       [ 20.40734354],\n",
              "       [  8.58478417],\n",
              "       [ 18.15952668],\n",
              "       [ 32.39398633],\n",
              "       [ 15.18882252],\n",
              "       [ 29.53561534],\n",
              "       [ 28.49112965],\n",
              "       [ 54.1662071 ],\n",
              "       [ 25.94163554],\n",
              "       [ 35.92368485],\n",
              "       [ 27.69555025],\n",
              "       [ 19.33060345],\n",
              "       [ 26.67431695],\n",
              "       [ 11.05772238],\n",
              "       [ 30.4306333 ],\n",
              "       [ 19.25975148],\n",
              "       [ 21.87468062],\n",
              "       [ 29.64727581],\n",
              "       [ 20.79598776],\n",
              "       [ 34.8627014 ],\n",
              "       [ 28.74404884],\n",
              "       [ 12.68284079],\n",
              "       [ 23.32704849],\n",
              "       [ 16.83635812],\n",
              "       [ 47.33386028],\n",
              "       [ 10.22420654],\n",
              "       [ 22.7897658 ],\n",
              "       [ 16.13314638],\n",
              "       [ 16.61733028],\n",
              "       [  7.90380254],\n",
              "       [ 24.61300999],\n",
              "       [ 33.87397061],\n",
              "       [ 26.94850371],\n",
              "       [ 19.82359635],\n",
              "       [ 21.51664692],\n",
              "       [ 28.14174981],\n",
              "       [ 28.6240649 ],\n",
              "       [ 33.55009787],\n",
              "       [ 21.31998683],\n",
              "       [ 31.21427015],\n",
              "       [ 35.20577735],\n",
              "       [ 12.69714657],\n",
              "       [ 27.12354101],\n",
              "       [ 27.06089214],\n",
              "       [ 33.02237674],\n",
              "       [ 52.69777669],\n",
              "       [ 21.99232917],\n",
              "       [-29.11308648],\n",
              "       [ -5.4505829 ],\n",
              "       [  6.50143236],\n",
              "       [ 32.65587868],\n",
              "       [ 26.11538943],\n",
              "       [ 17.49292008],\n",
              "       [ 24.92134624],\n",
              "       [ 20.75110945],\n",
              "       [ 16.61348229],\n",
              "       [ 26.71151086],\n",
              "       [ 11.28562038],\n",
              "       [ 20.24136335],\n",
              "       [ 19.38919253],\n",
              "       [ 15.02751393],\n",
              "       [  8.15587377],\n",
              "       [ 15.54823217],\n",
              "       [  1.48293066],\n",
              "       [ 20.06507807],\n",
              "       [ 20.29375915],\n",
              "       [ 15.54684488],\n",
              "       [  2.54839116],\n",
              "       [  9.52194146],\n",
              "       [ 24.37460189],\n",
              "       [ 43.83059392],\n",
              "       [ 17.13784842],\n",
              "       [ 17.44006798],\n",
              "       [ 10.57898114],\n",
              "       [ 43.98591779],\n",
              "       [ 30.8929334 ],\n",
              "       [ 17.9683067 ],\n",
              "       [ 15.14136649],\n",
              "       [ 36.75099682],\n",
              "       [ 28.17239521],\n",
              "       [ 23.08113629],\n",
              "       [ 18.69115528],\n",
              "       [  0.77646511],\n",
              "       [  6.38334039],\n",
              "       [ 12.01110048],\n",
              "       [ 23.73434312],\n",
              "       [ 29.75951613],\n",
              "       [  9.34367266],\n",
              "       [ 24.92569737],\n",
              "       [ 23.70841734],\n",
              "       [ 15.57885272],\n",
              "       [ 18.73068783],\n",
              "       [ 29.99483895],\n",
              "       [ 38.33282455],\n",
              "       [ 33.84078829],\n",
              "       [ 39.12531163],\n",
              "       [ 25.31524916],\n",
              "       [ 22.3197889 ],\n",
              "       [ 34.18552847],\n",
              "       [ 22.81339504],\n",
              "       [ 25.96451546],\n",
              "       [ 16.34845988],\n",
              "       [  3.37497816],\n",
              "       [ 12.76647617],\n",
              "       [ 34.04031619],\n",
              "       [ 26.26473437],\n",
              "       [ 21.30411995],\n",
              "       [  5.64093071],\n",
              "       [ 13.65911183],\n",
              "       [ 68.74359771],\n",
              "       [ 44.19640767],\n",
              "       [ 14.10227843],\n",
              "       [ 31.28797692],\n",
              "       [ 32.0161088 ],\n",
              "       [ 45.56189974],\n",
              "       [ 19.51861354],\n",
              "       [ 22.93060416],\n",
              "       [ 14.98150766],\n",
              "       [ 32.57121137],\n",
              "       [ 29.18060434],\n",
              "       [ 29.9741961 ],\n",
              "       [ 18.23062665],\n",
              "       [ -6.2972603 ],\n",
              "       [ 46.7216938 ],\n",
              "       [ 23.95510683],\n",
              "       [  9.65909139],\n",
              "       [ 28.04962305],\n",
              "       [ 25.03744913],\n",
              "       [ 13.96719318],\n",
              "       [ 21.4224832 ],\n",
              "       [-23.42068239],\n",
              "       [ 49.67177865],\n",
              "       [  7.19062444],\n",
              "       [ 30.17592188],\n",
              "       [ 10.01504628],\n",
              "       [ -0.34593891],\n",
              "       [-25.68088664],\n",
              "       [ 23.13349409],\n",
              "       [ 24.15847648],\n",
              "       [ 41.15266054],\n",
              "       [ 16.96247058],\n",
              "       [ 40.06647181],\n",
              "       [  9.6060159 ],\n",
              "       [ 46.74415745],\n",
              "       [ 37.18838726],\n",
              "       [  8.96494678],\n",
              "       [ 27.38013139],\n",
              "       [ 17.41781457],\n",
              "       [ 17.43923447],\n",
              "       [ 20.80285557],\n",
              "       [ 36.46917655],\n",
              "       [ 23.97137552],\n",
              "       [ 34.83220149],\n",
              "       [ 33.2372888 ],\n",
              "       [ 36.22224351],\n",
              "       [ 32.75478651],\n",
              "       [ 22.5053893 ],\n",
              "       [ 14.10786919],\n",
              "       [ 41.5498111 ],\n",
              "       [ 26.51197463],\n",
              "       [ 14.98064786],\n",
              "       [ 35.91123799],\n",
              "       [ 18.51604848],\n",
              "       [ 29.52744264],\n",
              "       [ 22.86153114],\n",
              "       [ 20.79002609],\n",
              "       [ 30.86808888],\n",
              "       [  2.86472736],\n",
              "       [ 23.50517966],\n",
              "       [ 17.72845471],\n",
              "       [ 14.18379831],\n",
              "       [ 36.851221  ],\n",
              "       [-27.63384473],\n",
              "       [ 20.72861964],\n",
              "       [  1.86163325],\n",
              "       [ 16.55234868],\n",
              "       [ -7.59512922],\n",
              "       [ 10.78933195],\n",
              "       [ 16.25176308],\n",
              "       [ 32.63400236],\n",
              "       [ -2.19318215],\n",
              "       [  6.14981558],\n",
              "       [ 22.41309139],\n",
              "       [ 35.44934237],\n",
              "       [ 24.43077307],\n",
              "       [ 10.85365098],\n",
              "       [ 42.63431342],\n",
              "       [ 22.68842225],\n",
              "       [  9.24864745],\n",
              "       [ 21.14396393],\n",
              "       [ 38.40827396],\n",
              "       [ 25.75778781],\n",
              "       [ 26.19574386],\n",
              "       [ 12.59227563],\n",
              "       [ 21.62640674],\n",
              "       [ 26.28322542],\n",
              "       [  6.75517374],\n",
              "       [ 15.48017974],\n",
              "       [ 14.09431297],\n",
              "       [ 13.02273423],\n",
              "       [ 22.73772249],\n",
              "       [ 19.52377514],\n",
              "       [  8.39703066],\n",
              "       [ 21.57518836],\n",
              "       [ 19.58213081],\n",
              "       [  4.28002293],\n",
              "       [ 19.69388126],\n",
              "       [ 12.52776216],\n",
              "       [ 27.3839747 ],\n",
              "       [  9.77368786],\n",
              "       [ 21.71274421],\n",
              "       [ 23.87570511],\n",
              "       [ 22.45896557],\n",
              "       [ 24.6868093 ],\n",
              "       [  2.86000836],\n",
              "       [ 30.34734305],\n",
              "       [ 26.57174112],\n",
              "       [ 30.00689427],\n",
              "       [ 14.10114603],\n",
              "       [ 29.1856019 ],\n",
              "       [ 21.22697278],\n",
              "       [ 31.03984019],\n",
              "       [ 31.04376744],\n",
              "       [ 17.01824703],\n",
              "       [ 24.25246498],\n",
              "       [  9.03598365],\n",
              "       [ 14.3033198 ],\n",
              "       [ 42.42834344],\n",
              "       [ 36.85584841],\n",
              "       [ 26.32227256],\n",
              "       [ 31.20310275],\n",
              "       [ 36.81369532],\n",
              "       [ 18.67083639],\n",
              "       [  1.11311547],\n",
              "       [ 33.8683102 ],\n",
              "       [ 28.67433204],\n",
              "       [ 20.78261492],\n",
              "       [ 27.93603318],\n",
              "       [ 21.71603715],\n",
              "       [ 22.10549838],\n",
              "       [ 13.17523527],\n",
              "       [ 28.69752009],\n",
              "       [ 39.01688884],\n",
              "       [ 15.93534492],\n",
              "       [ 42.1006011 ],\n",
              "       [ 24.5350286 ],\n",
              "       [ 26.97709539],\n",
              "       [ 30.43308228],\n",
              "       [ 16.16830623],\n",
              "       [ 15.47499124],\n",
              "       [  7.18342002],\n",
              "       [ 27.55929526],\n",
              "       [ 25.60688531],\n",
              "       [ 15.81264544],\n",
              "       [ 23.95806954],\n",
              "       [  6.28729848],\n",
              "       [ 44.7605021 ],\n",
              "       [ 15.30109315],\n",
              "       [ 28.47084759],\n",
              "       [ 28.48797315],\n",
              "       [ 16.67528088],\n",
              "       [ 27.98349732],\n",
              "       [ 47.04349608],\n",
              "       [ 28.50420079],\n",
              "       [ 39.67213867],\n",
              "       [ 28.54124649],\n",
              "       [ 21.63109772],\n",
              "       [ 11.03385786],\n",
              "       [ 22.99874503],\n",
              "       [ 32.45985574],\n",
              "       [ 38.54052372],\n",
              "       [ 18.13720172],\n",
              "       [  6.83914582],\n",
              "       [  3.11755877],\n",
              "       [ -2.83931327],\n",
              "       [ 17.30110183],\n",
              "       [  1.24321034],\n",
              "       [ 24.21442297],\n",
              "       [ 35.9108797 ],\n",
              "       [ 11.70285597],\n",
              "       [ 41.85214964],\n",
              "       [ 34.67081204],\n",
              "       [ 23.33399134],\n",
              "       [ 43.85828478],\n",
              "       [ 32.01690407],\n",
              "       [ 46.67715344],\n",
              "       [ 17.52653051],\n",
              "       [ 22.53121767],\n",
              "       [ 37.6087024 ],\n",
              "       [ 26.55848784],\n",
              "       [ 37.89599103],\n",
              "       [ 20.80410563],\n",
              "       [ 99.08256827],\n",
              "       [ 35.77220574],\n",
              "       [ 20.40377438],\n",
              "       [ 39.08309326],\n",
              "       [ 15.07220199],\n",
              "       [ 29.75779614],\n",
              "       [ -7.28453548],\n",
              "       [ 17.76778973],\n",
              "       [ 26.22380195],\n",
              "       [ 29.78043052],\n",
              "       [ 30.69042151],\n",
              "       [ 26.73245158],\n",
              "       [ -3.93370252],\n",
              "       [ 32.16333685],\n",
              "       [ 25.67003263],\n",
              "       [ 33.01326371],\n",
              "       [ 22.34647272],\n",
              "       [ 28.29447463],\n",
              "       [ 26.57533863],\n",
              "       [ 36.43267873],\n",
              "       [ 25.9040904 ],\n",
              "       [ 30.54459333],\n",
              "       [ 29.87438389],\n",
              "       [ 35.31950918],\n",
              "       [ 30.3339352 ],\n",
              "       [ 27.34913898],\n",
              "       [ 35.20655459],\n",
              "       [ 29.35881005],\n",
              "       [ 28.13330445],\n",
              "       [ 20.93391562],\n",
              "       [ 32.1464738 ],\n",
              "       [ 36.83742772],\n",
              "       [ 51.78284468],\n",
              "       [ 22.176169  ],\n",
              "       [ 32.59865917],\n",
              "       [ 33.73292349],\n",
              "       [ 25.76383117],\n",
              "       [ 23.65734605],\n",
              "       [ 24.73769292],\n",
              "       [ 38.77464331],\n",
              "       [ 31.54610115],\n",
              "       [ 10.68705786],\n",
              "       [ 14.89630784],\n",
              "       [ 14.34529354],\n",
              "       [ 48.96637981],\n",
              "       [ 31.0136782 ],\n",
              "       [ 20.13286829],\n",
              "       [ 37.24038135],\n",
              "       [ 26.88393122],\n",
              "       [ 35.4940203 ],\n",
              "       [ 48.53403501],\n",
              "       [ 23.60718915],\n",
              "       [ 20.42972376],\n",
              "       [ 18.46560037],\n",
              "       [ 46.64091842],\n",
              "       [ 21.76298537],\n",
              "       [ 25.7723247 ],\n",
              "       [ 13.93028296],\n",
              "       [ 26.31274348],\n",
              "       [  6.71427568],\n",
              "       [ 31.63291074],\n",
              "       [ 33.5047427 ],\n",
              "       [ 32.08180044],\n",
              "       [ 29.36707176],\n",
              "       [ 29.71756965],\n",
              "       [  5.17735423],\n",
              "       [  9.19758122],\n",
              "       [  7.95708364],\n",
              "       [ 24.10991301],\n",
              "       [ 25.70426058],\n",
              "       [ 11.62632471],\n",
              "       [ 36.72822615],\n",
              "       [ 39.98089361],\n",
              "       [ 26.29999241],\n",
              "       [ 22.70865921],\n",
              "       [ 18.81873841],\n",
              "       [ 21.90933025],\n",
              "       [ 25.39015074],\n",
              "       [ 17.69359993],\n",
              "       [ 37.22838224],\n",
              "       [ 23.47838176],\n",
              "       [ 22.31318348],\n",
              "       [ 15.92820989],\n",
              "       [ 17.35313978],\n",
              "       [ 22.56730442],\n",
              "       [ 14.5092899 ],\n",
              "       [ 35.86971022],\n",
              "       [ 32.23124244],\n",
              "       [ 28.33380153],\n",
              "       [ 15.24233323],\n",
              "       [ 46.19554291],\n",
              "       [  6.1094638 ],\n",
              "       [ 32.41116684],\n",
              "       [ 32.26029011],\n",
              "       [ 27.0602726 ],\n",
              "       [ 32.48916182],\n",
              "       [  9.97469287],\n",
              "       [  5.89384806],\n",
              "       [ 25.36374783],\n",
              "       [ 16.09670865],\n",
              "       [ 31.12254702],\n",
              "       [ 31.65116142],\n",
              "       [ 25.15372296],\n",
              "       [ 43.02101806],\n",
              "       [ 19.56805277],\n",
              "       [ 24.49338289],\n",
              "       [ 16.43656205],\n",
              "       [ 18.53636322],\n",
              "       [ 23.99422193],\n",
              "       [ 34.99663318],\n",
              "       [ 41.01478621],\n",
              "       [ 31.67308632],\n",
              "       [ 21.66235354],\n",
              "       [ 17.10834925],\n",
              "       [ 20.81453879],\n",
              "       [ 31.21610789],\n",
              "       [ 23.19690908],\n",
              "       [ 38.65294688],\n",
              "       [ 25.94659861],\n",
              "       [ 24.55489693],\n",
              "       [ 35.74880441],\n",
              "       [ 21.35600097],\n",
              "       [ 21.3276037 ],\n",
              "       [ 43.80562525],\n",
              "       [ 22.29990098],\n",
              "       [ 35.41384758],\n",
              "       [ 20.15210134],\n",
              "       [  4.86090598],\n",
              "       [ 36.25520852],\n",
              "       [ 15.14280034],\n",
              "       [ 31.71036384]])"
            ]
          },
          "metadata": {},
          "execution_count": 35
        }
      ]
    },
    {
      "cell_type": "code",
      "source": [
        "loss=0.0\n",
        "for i in range(error.shape[0]):\n",
        "  if(error[i]>0):\n",
        "    loss=loss+0.95*error[i]\n",
        "  else:\n",
        "    loss=loss+(0.05)*(-1)*error[i]\n",
        "loss=loss/error.shape[0]\n",
        "loss"
      ],
      "metadata": {
        "id": "BzCDWdGu-hcf",
        "outputId": "8e5f1ed5-9cb5-49d1-a0e6-29e3cfee8551",
        "colab": {
          "base_uri": "https://localhost:8080/"
        }
      },
      "execution_count": 38,
      "outputs": [
        {
          "output_type": "execute_result",
          "data": {
            "text/plain": [
              "array([22.74799556])"
            ]
          },
          "metadata": {},
          "execution_count": 38
        }
      ]
    }
  ]
}