{
  "nbformat": 4,
  "nbformat_minor": 0,
  "metadata": {
    "colab": {
      "provenance": []
    },
    "kernelspec": {
      "name": "python3",
      "display_name": "Python 3"
    },
    "language_info": {
      "name": "python"
    }
  },
  "cells": [
    {
      "cell_type": "code",
      "execution_count": 31,
      "metadata": {
        "id": "lbu9efRrm8rB"
      },
      "outputs": [],
      "source": [
        "import numpy as np\n",
        "import pandas as pd\n",
        "import yfinance as yf\n",
        "import matplotlib.pyplot as plt"
      ]
    },
    {
      "cell_type": "code",
      "source": [
        "import scipy\n",
        "from scipy.stats import norm"
      ],
      "metadata": {
        "id": "_bFybhox26tc"
      },
      "execution_count": 32,
      "outputs": []
    },
    {
      "cell_type": "code",
      "source": [
        "stock='AXISBANK.NS'\n",
        "data = yf.download(stock,'2005-01-01','2023-05-05')"
      ],
      "metadata": {
        "colab": {
          "base_uri": "https://localhost:8080/"
        },
        "id": "sLp6mSkQm9ZS",
        "outputId": "825c929d-b91a-42d5-a288-8b5a8a301dea"
      },
      "execution_count": 33,
      "outputs": [
        {
          "output_type": "stream",
          "name": "stdout",
          "text": [
            "\r[*********************100%***********************]  1 of 1 completed\n"
          ]
        }
      ]
    },
    {
      "cell_type": "code",
      "source": [
        "data"
      ],
      "metadata": {
        "colab": {
          "base_uri": "https://localhost:8080/",
          "height": 455
        },
        "id": "re200cTwnAnm",
        "outputId": "b64c1a39-ed87-415c-eabb-2edecf46a6e1"
      },
      "execution_count": 34,
      "outputs": [
        {
          "output_type": "execute_result",
          "data": {
            "text/plain": [
              "                  Open        High         Low       Close   Adj Close  \\\n",
              "Date                                                                     \n",
              "2005-01-03   37.000000   38.200001   37.000000   38.040001   32.853134   \n",
              "2005-01-04   38.220001   38.400002   37.400002   37.939999   32.766777   \n",
              "2005-01-05   37.990002   37.990002   35.509998   36.849998   31.825399   \n",
              "2005-01-06   36.820000   38.000000   35.400002   37.029999   31.980867   \n",
              "2005-01-07   36.130001   38.380001   36.130001   38.020000   32.835869   \n",
              "...                ...         ...         ...         ...         ...   \n",
              "2023-04-27  888.000000  890.000000  877.500000  881.400024  879.590454   \n",
              "2023-04-28  885.099976  890.049988  853.650024  860.000000  858.234375   \n",
              "2023-05-02  870.000000  876.400024  864.250000  870.650024  868.862549   \n",
              "2023-05-03  863.849976  866.849976  854.049988  859.849976  858.084717   \n",
              "2023-05-04  860.000000  867.150024  857.500000  865.950012  864.172180   \n",
              "\n",
              "              Volume  \n",
              "Date                  \n",
              "2005-01-03   1421010  \n",
              "2005-01-04   1115825  \n",
              "2005-01-05   1163085  \n",
              "2005-01-06   1192610  \n",
              "2005-01-07   1530260  \n",
              "...              ...  \n",
              "2023-04-27  15992383  \n",
              "2023-04-28  23004117  \n",
              "2023-05-02  12947953  \n",
              "2023-05-03  15103015  \n",
              "2023-05-04   9756391  \n",
              "\n",
              "[4525 rows x 6 columns]"
            ],
            "text/html": [
              "\n",
              "\n",
              "  <div id=\"df-2ccf5f15-4863-4afd-96a0-7b488707db0b\">\n",
              "    <div class=\"colab-df-container\">\n",
              "      <div>\n",
              "<style scoped>\n",
              "    .dataframe tbody tr th:only-of-type {\n",
              "        vertical-align: middle;\n",
              "    }\n",
              "\n",
              "    .dataframe tbody tr th {\n",
              "        vertical-align: top;\n",
              "    }\n",
              "\n",
              "    .dataframe thead th {\n",
              "        text-align: right;\n",
              "    }\n",
              "</style>\n",
              "<table border=\"1\" class=\"dataframe\">\n",
              "  <thead>\n",
              "    <tr style=\"text-align: right;\">\n",
              "      <th></th>\n",
              "      <th>Open</th>\n",
              "      <th>High</th>\n",
              "      <th>Low</th>\n",
              "      <th>Close</th>\n",
              "      <th>Adj Close</th>\n",
              "      <th>Volume</th>\n",
              "    </tr>\n",
              "    <tr>\n",
              "      <th>Date</th>\n",
              "      <th></th>\n",
              "      <th></th>\n",
              "      <th></th>\n",
              "      <th></th>\n",
              "      <th></th>\n",
              "      <th></th>\n",
              "    </tr>\n",
              "  </thead>\n",
              "  <tbody>\n",
              "    <tr>\n",
              "      <th>2005-01-03</th>\n",
              "      <td>37.000000</td>\n",
              "      <td>38.200001</td>\n",
              "      <td>37.000000</td>\n",
              "      <td>38.040001</td>\n",
              "      <td>32.853134</td>\n",
              "      <td>1421010</td>\n",
              "    </tr>\n",
              "    <tr>\n",
              "      <th>2005-01-04</th>\n",
              "      <td>38.220001</td>\n",
              "      <td>38.400002</td>\n",
              "      <td>37.400002</td>\n",
              "      <td>37.939999</td>\n",
              "      <td>32.766777</td>\n",
              "      <td>1115825</td>\n",
              "    </tr>\n",
              "    <tr>\n",
              "      <th>2005-01-05</th>\n",
              "      <td>37.990002</td>\n",
              "      <td>37.990002</td>\n",
              "      <td>35.509998</td>\n",
              "      <td>36.849998</td>\n",
              "      <td>31.825399</td>\n",
              "      <td>1163085</td>\n",
              "    </tr>\n",
              "    <tr>\n",
              "      <th>2005-01-06</th>\n",
              "      <td>36.820000</td>\n",
              "      <td>38.000000</td>\n",
              "      <td>35.400002</td>\n",
              "      <td>37.029999</td>\n",
              "      <td>31.980867</td>\n",
              "      <td>1192610</td>\n",
              "    </tr>\n",
              "    <tr>\n",
              "      <th>2005-01-07</th>\n",
              "      <td>36.130001</td>\n",
              "      <td>38.380001</td>\n",
              "      <td>36.130001</td>\n",
              "      <td>38.020000</td>\n",
              "      <td>32.835869</td>\n",
              "      <td>1530260</td>\n",
              "    </tr>\n",
              "    <tr>\n",
              "      <th>...</th>\n",
              "      <td>...</td>\n",
              "      <td>...</td>\n",
              "      <td>...</td>\n",
              "      <td>...</td>\n",
              "      <td>...</td>\n",
              "      <td>...</td>\n",
              "    </tr>\n",
              "    <tr>\n",
              "      <th>2023-04-27</th>\n",
              "      <td>888.000000</td>\n",
              "      <td>890.000000</td>\n",
              "      <td>877.500000</td>\n",
              "      <td>881.400024</td>\n",
              "      <td>879.590454</td>\n",
              "      <td>15992383</td>\n",
              "    </tr>\n",
              "    <tr>\n",
              "      <th>2023-04-28</th>\n",
              "      <td>885.099976</td>\n",
              "      <td>890.049988</td>\n",
              "      <td>853.650024</td>\n",
              "      <td>860.000000</td>\n",
              "      <td>858.234375</td>\n",
              "      <td>23004117</td>\n",
              "    </tr>\n",
              "    <tr>\n",
              "      <th>2023-05-02</th>\n",
              "      <td>870.000000</td>\n",
              "      <td>876.400024</td>\n",
              "      <td>864.250000</td>\n",
              "      <td>870.650024</td>\n",
              "      <td>868.862549</td>\n",
              "      <td>12947953</td>\n",
              "    </tr>\n",
              "    <tr>\n",
              "      <th>2023-05-03</th>\n",
              "      <td>863.849976</td>\n",
              "      <td>866.849976</td>\n",
              "      <td>854.049988</td>\n",
              "      <td>859.849976</td>\n",
              "      <td>858.084717</td>\n",
              "      <td>15103015</td>\n",
              "    </tr>\n",
              "    <tr>\n",
              "      <th>2023-05-04</th>\n",
              "      <td>860.000000</td>\n",
              "      <td>867.150024</td>\n",
              "      <td>857.500000</td>\n",
              "      <td>865.950012</td>\n",
              "      <td>864.172180</td>\n",
              "      <td>9756391</td>\n",
              "    </tr>\n",
              "  </tbody>\n",
              "</table>\n",
              "<p>4525 rows × 6 columns</p>\n",
              "</div>\n",
              "      <button class=\"colab-df-convert\" onclick=\"convertToInteractive('df-2ccf5f15-4863-4afd-96a0-7b488707db0b')\"\n",
              "              title=\"Convert this dataframe to an interactive table.\"\n",
              "              style=\"display:none;\">\n",
              "\n",
              "  <svg xmlns=\"http://www.w3.org/2000/svg\" height=\"24px\"viewBox=\"0 0 24 24\"\n",
              "       width=\"24px\">\n",
              "    <path d=\"M0 0h24v24H0V0z\" fill=\"none\"/>\n",
              "    <path d=\"M18.56 5.44l.94 2.06.94-2.06 2.06-.94-2.06-.94-.94-2.06-.94 2.06-2.06.94zm-11 1L8.5 8.5l.94-2.06 2.06-.94-2.06-.94L8.5 2.5l-.94 2.06-2.06.94zm10 10l.94 2.06.94-2.06 2.06-.94-2.06-.94-.94-2.06-.94 2.06-2.06.94z\"/><path d=\"M17.41 7.96l-1.37-1.37c-.4-.4-.92-.59-1.43-.59-.52 0-1.04.2-1.43.59L10.3 9.45l-7.72 7.72c-.78.78-.78 2.05 0 2.83L4 21.41c.39.39.9.59 1.41.59.51 0 1.02-.2 1.41-.59l7.78-7.78 2.81-2.81c.8-.78.8-2.07 0-2.86zM5.41 20L4 18.59l7.72-7.72 1.47 1.35L5.41 20z\"/>\n",
              "  </svg>\n",
              "      </button>\n",
              "\n",
              "\n",
              "\n",
              "    <div id=\"df-4f0fa0b6-f0e0-4728-9058-8e3316c5d069\">\n",
              "      <button class=\"colab-df-quickchart\" onclick=\"quickchart('df-4f0fa0b6-f0e0-4728-9058-8e3316c5d069')\"\n",
              "              title=\"Suggest charts.\"\n",
              "              style=\"display:none;\">\n",
              "\n",
              "<svg xmlns=\"http://www.w3.org/2000/svg\" height=\"24px\"viewBox=\"0 0 24 24\"\n",
              "     width=\"24px\">\n",
              "    <g>\n",
              "        <path d=\"M19 3H5c-1.1 0-2 .9-2 2v14c0 1.1.9 2 2 2h14c1.1 0 2-.9 2-2V5c0-1.1-.9-2-2-2zM9 17H7v-7h2v7zm4 0h-2V7h2v10zm4 0h-2v-4h2v4z\"/>\n",
              "    </g>\n",
              "</svg>\n",
              "      </button>\n",
              "    </div>\n",
              "\n",
              "<style>\n",
              "  .colab-df-quickchart {\n",
              "    background-color: #E8F0FE;\n",
              "    border: none;\n",
              "    border-radius: 50%;\n",
              "    cursor: pointer;\n",
              "    display: none;\n",
              "    fill: #1967D2;\n",
              "    height: 32px;\n",
              "    padding: 0 0 0 0;\n",
              "    width: 32px;\n",
              "  }\n",
              "\n",
              "  .colab-df-quickchart:hover {\n",
              "    background-color: #E2EBFA;\n",
              "    box-shadow: 0px 1px 2px rgba(60, 64, 67, 0.3), 0px 1px 3px 1px rgba(60, 64, 67, 0.15);\n",
              "    fill: #174EA6;\n",
              "  }\n",
              "\n",
              "  [theme=dark] .colab-df-quickchart {\n",
              "    background-color: #3B4455;\n",
              "    fill: #D2E3FC;\n",
              "  }\n",
              "\n",
              "  [theme=dark] .colab-df-quickchart:hover {\n",
              "    background-color: #434B5C;\n",
              "    box-shadow: 0px 1px 3px 1px rgba(0, 0, 0, 0.15);\n",
              "    filter: drop-shadow(0px 1px 2px rgba(0, 0, 0, 0.3));\n",
              "    fill: #FFFFFF;\n",
              "  }\n",
              "</style>\n",
              "\n",
              "    <script>\n",
              "      async function quickchart(key) {\n",
              "        const containerElement = document.querySelector('#' + key);\n",
              "        const charts = await google.colab.kernel.invokeFunction(\n",
              "            'suggestCharts', [key], {});\n",
              "      }\n",
              "    </script>\n",
              "\n",
              "      <script>\n",
              "\n",
              "function displayQuickchartButton(domScope) {\n",
              "  let quickchartButtonEl =\n",
              "    domScope.querySelector('#df-4f0fa0b6-f0e0-4728-9058-8e3316c5d069 button.colab-df-quickchart');\n",
              "  quickchartButtonEl.style.display =\n",
              "    google.colab.kernel.accessAllowed ? 'block' : 'none';\n",
              "}\n",
              "\n",
              "        displayQuickchartButton(document);\n",
              "      </script>\n",
              "      <style>\n",
              "    .colab-df-container {\n",
              "      display:flex;\n",
              "      flex-wrap:wrap;\n",
              "      gap: 12px;\n",
              "    }\n",
              "\n",
              "    .colab-df-convert {\n",
              "      background-color: #E8F0FE;\n",
              "      border: none;\n",
              "      border-radius: 50%;\n",
              "      cursor: pointer;\n",
              "      display: none;\n",
              "      fill: #1967D2;\n",
              "      height: 32px;\n",
              "      padding: 0 0 0 0;\n",
              "      width: 32px;\n",
              "    }\n",
              "\n",
              "    .colab-df-convert:hover {\n",
              "      background-color: #E2EBFA;\n",
              "      box-shadow: 0px 1px 2px rgba(60, 64, 67, 0.3), 0px 1px 3px 1px rgba(60, 64, 67, 0.15);\n",
              "      fill: #174EA6;\n",
              "    }\n",
              "\n",
              "    [theme=dark] .colab-df-convert {\n",
              "      background-color: #3B4455;\n",
              "      fill: #D2E3FC;\n",
              "    }\n",
              "\n",
              "    [theme=dark] .colab-df-convert:hover {\n",
              "      background-color: #434B5C;\n",
              "      box-shadow: 0px 1px 3px 1px rgba(0, 0, 0, 0.15);\n",
              "      filter: drop-shadow(0px 1px 2px rgba(0, 0, 0, 0.3));\n",
              "      fill: #FFFFFF;\n",
              "    }\n",
              "  </style>\n",
              "\n",
              "      <script>\n",
              "        const buttonEl =\n",
              "          document.querySelector('#df-2ccf5f15-4863-4afd-96a0-7b488707db0b button.colab-df-convert');\n",
              "        buttonEl.style.display =\n",
              "          google.colab.kernel.accessAllowed ? 'block' : 'none';\n",
              "\n",
              "        async function convertToInteractive(key) {\n",
              "          const element = document.querySelector('#df-2ccf5f15-4863-4afd-96a0-7b488707db0b');\n",
              "          const dataTable =\n",
              "            await google.colab.kernel.invokeFunction('convertToInteractive',\n",
              "                                                     [key], {});\n",
              "          if (!dataTable) return;\n",
              "\n",
              "          const docLinkHtml = 'Like what you see? Visit the ' +\n",
              "            '<a target=\"_blank\" href=https://colab.research.google.com/notebooks/data_table.ipynb>data table notebook</a>'\n",
              "            + ' to learn more about interactive tables.';\n",
              "          element.innerHTML = '';\n",
              "          dataTable['output_type'] = 'display_data';\n",
              "          await google.colab.output.renderOutput(dataTable, element);\n",
              "          const docLink = document.createElement('div');\n",
              "          docLink.innerHTML = docLinkHtml;\n",
              "          element.appendChild(docLink);\n",
              "        }\n",
              "      </script>\n",
              "    </div>\n",
              "  </div>\n"
            ]
          },
          "metadata": {},
          "execution_count": 34
        }
      ]
    },
    {
      "cell_type": "code",
      "source": [
        "# data = data[:4000]"
      ],
      "metadata": {
        "id": "PmtwEW1-_kRv"
      },
      "execution_count": 35,
      "outputs": []
    },
    {
      "cell_type": "code",
      "source": [
        "returns = np.diff(data['Adj Close'])\n",
        "returns=-returns"
      ],
      "metadata": {
        "id": "73fqShMpnDN4"
      },
      "execution_count": 36,
      "outputs": []
    },
    {
      "cell_type": "code",
      "source": [
        "data.shape,returns.shape"
      ],
      "metadata": {
        "colab": {
          "base_uri": "https://localhost:8080/"
        },
        "id": "nmZHg_p26ahP",
        "outputId": "e68e58fc-046a-42f0-b9e1-59fd01e53de1"
      },
      "execution_count": 37,
      "outputs": [
        {
          "output_type": "execute_result",
          "data": {
            "text/plain": [
              "((4525, 6), (4524,))"
            ]
          },
          "metadata": {},
          "execution_count": 37
        }
      ]
    },
    {
      "cell_type": "code",
      "source": [
        "returns.shape"
      ],
      "metadata": {
        "colab": {
          "base_uri": "https://localhost:8080/"
        },
        "id": "sMgvQUgA6dIw",
        "outputId": "24de7f5e-c980-40ef-ebfe-eec472edeefe"
      },
      "execution_count": 38,
      "outputs": [
        {
          "output_type": "execute_result",
          "data": {
            "text/plain": [
              "(4524,)"
            ]
          },
          "metadata": {},
          "execution_count": 38
        }
      ]
    },
    {
      "cell_type": "code",
      "source": [
        "np.sum(returns)"
      ],
      "metadata": {
        "colab": {
          "base_uri": "https://localhost:8080/"
        },
        "id": "BcFGmyFC4COW",
        "outputId": "8d8ec7c2-9c8c-4106-bc13-fda33fa07118"
      },
      "execution_count": 39,
      "outputs": [
        {
          "output_type": "execute_result",
          "data": {
            "text/plain": [
              "-831.3190460205078"
            ]
          },
          "metadata": {},
          "execution_count": 39
        }
      ]
    },
    {
      "cell_type": "code",
      "source": [
        "data['Adj Close']"
      ],
      "metadata": {
        "colab": {
          "base_uri": "https://localhost:8080/"
        },
        "id": "IwV_2pdNnGx4",
        "outputId": "20162de1-c8b8-4935-fee0-aadb4165febc"
      },
      "execution_count": 40,
      "outputs": [
        {
          "output_type": "execute_result",
          "data": {
            "text/plain": [
              "Date\n",
              "2005-01-03     32.853134\n",
              "2005-01-04     32.766777\n",
              "2005-01-05     31.825399\n",
              "2005-01-06     31.980867\n",
              "2005-01-07     32.835869\n",
              "                 ...    \n",
              "2023-04-27    879.590454\n",
              "2023-04-28    858.234375\n",
              "2023-05-02    868.862549\n",
              "2023-05-03    858.084717\n",
              "2023-05-04    864.172180\n",
              "Name: Adj Close, Length: 4525, dtype: float64"
            ]
          },
          "metadata": {},
          "execution_count": 40
        }
      ]
    },
    {
      "cell_type": "code",
      "source": [
        "mean = np.mean(returns)\n",
        "std_dev = np.std(returns)\n",
        "mean,std_dev"
      ],
      "metadata": {
        "id": "k5AvfkJoquFc",
        "colab": {
          "base_uri": "https://localhost:8080/"
        },
        "outputId": "0e61c499-0263-4a29-a831-eb4d9bc1fa42"
      },
      "execution_count": 41,
      "outputs": [
        {
          "output_type": "execute_result",
          "data": {
            "text/plain": [
              "(-0.18375752564555875, 8.991496068118296)"
            ]
          },
          "metadata": {},
          "execution_count": 41
        }
      ]
    },
    {
      "cell_type": "code",
      "source": [
        "pip install KDEpy"
      ],
      "metadata": {
        "colab": {
          "base_uri": "https://localhost:8080/"
        },
        "id": "zpBrcKsHP0bl",
        "outputId": "ff22c822-c48b-4a74-9c4f-dcdfda5eb917"
      },
      "execution_count": 42,
      "outputs": [
        {
          "output_type": "stream",
          "name": "stdout",
          "text": [
            "Collecting KDEpy\n",
            "  Downloading KDEpy-1.1.4-cp310-cp310-manylinux_2_17_x86_64.manylinux2014_x86_64.whl (552 kB)\n",
            "\u001b[?25l     \u001b[90m━━━━━━━━━━━━━━━━━━━━━━━━━━━━━━━━━━━━━━━━\u001b[0m \u001b[32m0.0/552.7 kB\u001b[0m \u001b[31m?\u001b[0m eta \u001b[36m-:--:--\u001b[0m\r\u001b[2K     \u001b[90m━━━━━━━━━━━━━━━━━━━━━━━━━━━━━━━━━━━━━━\u001b[0m \u001b[32m552.7/552.7 kB\u001b[0m \u001b[31m16.7 MB/s\u001b[0m eta \u001b[36m0:00:00\u001b[0m\n",
            "\u001b[?25hRequirement already satisfied: numpy>=1.14.2 in /usr/local/lib/python3.10/dist-packages (from KDEpy) (1.22.4)\n",
            "Requirement already satisfied: scipy>=1.0.1 in /usr/local/lib/python3.10/dist-packages (from KDEpy) (1.10.1)\n",
            "Requirement already satisfied: matplotlib>=2.2.2 in /usr/local/lib/python3.10/dist-packages (from KDEpy) (3.7.1)\n",
            "Requirement already satisfied: contourpy>=1.0.1 in /usr/local/lib/python3.10/dist-packages (from matplotlib>=2.2.2->KDEpy) (1.1.0)\n",
            "Requirement already satisfied: cycler>=0.10 in /usr/local/lib/python3.10/dist-packages (from matplotlib>=2.2.2->KDEpy) (0.11.0)\n",
            "Requirement already satisfied: fonttools>=4.22.0 in /usr/local/lib/python3.10/dist-packages (from matplotlib>=2.2.2->KDEpy) (4.40.0)\n",
            "Requirement already satisfied: kiwisolver>=1.0.1 in /usr/local/lib/python3.10/dist-packages (from matplotlib>=2.2.2->KDEpy) (1.4.4)\n",
            "Requirement already satisfied: packaging>=20.0 in /usr/local/lib/python3.10/dist-packages (from matplotlib>=2.2.2->KDEpy) (23.1)\n",
            "Requirement already satisfied: pillow>=6.2.0 in /usr/local/lib/python3.10/dist-packages (from matplotlib>=2.2.2->KDEpy) (8.4.0)\n",
            "Requirement already satisfied: pyparsing>=2.3.1 in /usr/local/lib/python3.10/dist-packages (from matplotlib>=2.2.2->KDEpy) (3.1.0)\n",
            "Requirement already satisfied: python-dateutil>=2.7 in /usr/local/lib/python3.10/dist-packages (from matplotlib>=2.2.2->KDEpy) (2.8.2)\n",
            "Requirement already satisfied: six>=1.5 in /usr/local/lib/python3.10/dist-packages (from python-dateutil>=2.7->matplotlib>=2.2.2->KDEpy) (1.16.0)\n",
            "Installing collected packages: KDEpy\n",
            "Successfully installed KDEpy-1.1.4\n"
          ]
        }
      ]
    },
    {
      "cell_type": "code",
      "source": [
        "import KDEpy"
      ],
      "metadata": {
        "id": "ueQSJmMuP30v"
      },
      "execution_count": 43,
      "outputs": []
    },
    {
      "cell_type": "code",
      "source": [
        "np.array(returns)"
      ],
      "metadata": {
        "colab": {
          "base_uri": "https://localhost:8080/"
        },
        "id": "dcFxz8yIQ9qM",
        "outputId": "e83fadc5-442b-4ca1-e24b-dec580ad811a"
      },
      "execution_count": 44,
      "outputs": [
        {
          "output_type": "execute_result",
          "data": {
            "text/plain": [
              "array([  0.08635712,   0.94137764,  -0.15546799, ..., -10.62817383,\n",
              "        10.77783203,  -6.08746338])"
            ]
          },
          "metadata": {},
          "execution_count": 44
        }
      ]
    },
    {
      "cell_type": "code",
      "source": [
        "from KDEpy import FFTKDE\n",
        "import matplotlib.pyplot as plt\n",
        "x, y = FFTKDE(kernel=\"gaussian\",bw = \"silverman\").fit(np.array(returns)).evaluate()\n",
        "plt.plot(x, y)\n",
        "\n"
      ],
      "metadata": {
        "colab": {
          "base_uri": "https://localhost:8080/",
          "height": 447
        },
        "id": "u-N12BT_PqcY",
        "outputId": "a6f6bdd3-cadf-4d6e-a253-d71887223f68"
      },
      "execution_count": 45,
      "outputs": [
        {
          "output_type": "execute_result",
          "data": {
            "text/plain": [
              "[<matplotlib.lines.Line2D at 0x79fa75855e40>]"
            ]
          },
          "metadata": {},
          "execution_count": 45
        },
        {
          "output_type": "display_data",
          "data": {
            "text/plain": [
              "<Figure size 640x480 with 1 Axes>"
            ],
            "image/png": "[encoded data removed]"
          },
          "metadata": {}
        }
      ]
    },
    {
      "cell_type": "code",
      "source": [
        "np.array(data['Adj Close'])"
      ],
      "metadata": {
        "colab": {
          "base_uri": "https://localhost:8080/"
        },
        "id": "d6auR5jVRVHE",
        "outputId": "014c94ab-4d14-41fd-8c90-8aa4d62c7df4"
      },
      "execution_count": 46,
      "outputs": [
        {
          "output_type": "execute_result",
          "data": {
            "text/plain": [
              "array([ 32.85313416,  32.76677704,  31.8253994 , ..., 868.86254883,\n",
              "       858.0847168 , 864.17218018])"
            ]
          },
          "metadata": {},
          "execution_count": 46
        }
      ]
    },
    {
      "cell_type": "code",
      "source": [
        "y\n"
      ],
      "metadata": {
        "colab": {
          "base_uri": "https://localhost:8080/"
        },
        "id": "-gxogX6jSb0e",
        "outputId": "11d16e56-c9a7-4b6c-9232-84ee72d4d6a3"
      },
      "execution_count": 47,
      "outputs": [
        {
          "output_type": "execute_result",
          "data": {
            "text/plain": [
              "array([2.22044605e-16, 2.22044605e-16, 2.22044605e-16, ...,\n",
              "       2.22044605e-16, 2.22044605e-16, 2.22044605e-16])"
            ]
          },
          "metadata": {},
          "execution_count": 47
        }
      ]
    },
    {
      "cell_type": "code",
      "source": [
        "np.sum(y)"
      ],
      "metadata": {
        "colab": {
          "base_uri": "https://localhost:8080/"
        },
        "id": "BHaFbJW4RWD-",
        "outputId": "011be631-e8f2-4357-d49e-a5f0d2128290"
      },
      "execution_count": 48,
      "outputs": [
        {
          "output_type": "execute_result",
          "data": {
            "text/plain": [
              "4.7218572358956825"
            ]
          },
          "metadata": {},
          "execution_count": 48
        }
      ]
    },
    {
      "cell_type": "code",
      "source": [
        "np.sort(np.array(returns))"
      ],
      "metadata": {
        "colab": {
          "base_uri": "https://localhost:8080/"
        },
        "id": "It97f7V1RXDk",
        "outputId": "aaf43816-a65f-45b4-9e56-f7ba71882445"
      },
      "execution_count": 49,
      "outputs": [
        {
          "output_type": "execute_result",
          "data": {
            "text/plain": [
              "array([-77.87475586, -74.39697266, -63.17364502, ...,  59.9850769 ,\n",
              "        75.82830811, 119.07342529])"
            ]
          },
          "metadata": {},
          "execution_count": 49
        }
      ]
    },
    {
      "cell_type": "code",
      "source": [
        "import torch\n",
        "import torch.nn as nn\n"
      ],
      "metadata": {
        "id": "OXFADha_A2lN"
      },
      "execution_count": 50,
      "outputs": []
    },
    {
      "cell_type": "code",
      "source": [
        "class QuantileLoss(nn.Module):\n",
        "    def __init__(self, quantile):\n",
        "        super(QuantileLoss, self).__init__()\n",
        "        self.quantile = quantile\n",
        "\n",
        "    def forward(self, predictions, targets):\n",
        "        errors = targets - predictions\n",
        "        quantile_loss = torch.max((self.quantile - 1) * errors, self.quantile * errors)\n",
        "        return quantile_loss.mean()"
      ],
      "metadata": {
        "id": "XGSJ5sjAo-I-"
      },
      "execution_count": 51,
      "outputs": []
    },
    {
      "cell_type": "code",
      "source": [
        "class NeuralNetwork(nn.Module):\n",
        "    def __init__(self, input_size, hidden_size, output_size):\n",
        "        super(NeuralNetwork, self).__init__()\n",
        "        self.hidden_layer = nn.Linear(input_size, hidden_size,dtype=torch.float64)\n",
        "        self.relu = nn.ReLU()\n",
        "        self.output_layer = nn.Linear(hidden_size, output_size,dtype=torch.float64)\n",
        "\n",
        "    def forward(self, x):\n",
        "        x = self.hidden_layer(x)\n",
        "        x = self.relu(x)\n",
        "        x = self.output_layer(x)\n",
        "        return x"
      ],
      "metadata": {
        "id": "t_B7AEL_pF-j"
      },
      "execution_count": 52,
      "outputs": []
    },
    {
      "cell_type": "code",
      "source": [
        "network = NeuralNetwork(1,5,1)\n",
        "quantile_loss = QuantileLoss(0.95)"
      ],
      "metadata": {
        "id": "THRrWmYtpG0q"
      },
      "execution_count": 53,
      "outputs": []
    },
    {
      "cell_type": "code",
      "source": [
        "optimizer = torch.optim.SGD(network.parameters(),lr=0.001)\n",
        "input = np.array(data['Adj Close'])\n",
        "input=input[0:-1]\n",
        "input=torch.from_numpy(input)\n",
        "input= torch.unsqueeze(input, dim=1)\n",
        "returns=torch.from_numpy(returns)\n",
        "returns=torch.unsqueeze(returns,dim=1)"
      ],
      "metadata": {
        "id": "qvzHdqJxpMMX"
      },
      "execution_count": 54,
      "outputs": []
    },
    {
      "cell_type": "code",
      "source": [
        "for epoch in range(100000):\n",
        "    outputs = network(input)\n",
        "    loss = quantile_loss(outputs, returns)\n",
        "    optimizer.zero_grad()\n",
        "    loss.backward()\n",
        "    optimizer.step()\n",
        "    if (epoch + 1) % 1000== 0:\n",
        "        print(f\"Epoch: {epoch+1}, Loss: {loss.item()}\")"
      ],
      "metadata": {
        "colab": {
          "base_uri": "https://localhost:8080/"
        },
        "id": "uZSLfEiwprMi",
        "outputId": "e8d46ca0-b734-444d-8176-aeb013a43680"
      },
      "execution_count": 55,
      "outputs": [
        {
          "output_type": "stream",
          "name": "stdout",
          "text": [
            "Epoch: 1000, Loss: 0.9235333843478899\n",
            "Epoch: 2000, Loss: 0.9228377156577435\n",
            "Epoch: 3000, Loss: 0.9222505675409902\n",
            "Epoch: 4000, Loss: 0.9216707817154103\n",
            "Epoch: 5000, Loss: 0.9211080481104059\n",
            "Epoch: 6000, Loss: 0.9205453854196867\n",
            "Epoch: 7000, Loss: 0.9199750651275949\n",
            "Epoch: 8000, Loss: 0.9193968189125721\n",
            "Epoch: 9000, Loss: 0.9188107407210165\n",
            "Epoch: 10000, Loss: 0.9182324087311713\n",
            "Epoch: 11000, Loss: 0.9176439038350753\n",
            "Epoch: 12000, Loss: 0.9170614053128571\n",
            "Epoch: 13000, Loss: 0.9165049054135449\n",
            "Epoch: 14000, Loss: 0.9159559689392918\n",
            "Epoch: 15000, Loss: 0.9154246338798865\n",
            "Epoch: 16000, Loss: 0.9148909437558556\n",
            "Epoch: 17000, Loss: 0.9143635045048731\n",
            "Epoch: 18000, Loss: 0.9138450486112174\n",
            "Epoch: 19000, Loss: 0.9133336377592625\n",
            "Epoch: 20000, Loss: 0.9128276831622525\n",
            "Epoch: 21000, Loss: 0.912342134305914\n",
            "Epoch: 22000, Loss: 0.9118645312361184\n",
            "Epoch: 23000, Loss: 0.9114094203144395\n",
            "Epoch: 24000, Loss: 0.9109586494958296\n",
            "Epoch: 25000, Loss: 0.9105042903920573\n",
            "Epoch: 26000, Loss: 0.9100772406156207\n",
            "Epoch: 27000, Loss: 0.9096601895533133\n",
            "Epoch: 28000, Loss: 0.9092486033487112\n",
            "Epoch: 29000, Loss: 0.9088356250928707\n",
            "Epoch: 30000, Loss: 0.9086752180902633\n",
            "Epoch: 31000, Loss: 0.9083133622739039\n",
            "Epoch: 32000, Loss: 0.9079265166945352\n",
            "Epoch: 33000, Loss: 0.9075938634158538\n",
            "Epoch: 34000, Loss: 0.9071769009824637\n",
            "Epoch: 35000, Loss: 0.9068768123385473\n",
            "Epoch: 36000, Loss: 0.9065866420684278\n",
            "Epoch: 37000, Loss: 0.9062303000513567\n",
            "Epoch: 38000, Loss: 0.9059130950327032\n",
            "Epoch: 39000, Loss: 0.9056657767943402\n",
            "Epoch: 40000, Loss: 0.9053345913209221\n",
            "Epoch: 41000, Loss: 0.9050230292439949\n",
            "Epoch: 42000, Loss: 0.9047668242443214\n",
            "Epoch: 43000, Loss: 0.9045064273574477\n",
            "Epoch: 44000, Loss: 0.904254668482792\n",
            "Epoch: 45000, Loss: 0.9040080491260194\n",
            "Epoch: 46000, Loss: 0.9037841977042044\n",
            "Epoch: 47000, Loss: 0.9035223496186334\n",
            "Epoch: 48000, Loss: 0.903306758947712\n",
            "Epoch: 49000, Loss: 0.9305820946310637\n",
            "Epoch: 50000, Loss: 0.9138852955670187\n",
            "Epoch: 51000, Loss: 0.913902930195721\n",
            "Epoch: 52000, Loss: 0.9088308573920375\n",
            "Epoch: 53000, Loss: 0.9054534037469016\n",
            "Epoch: 54000, Loss: 0.9054729488578551\n",
            "Epoch: 55000, Loss: 0.9054406837374006\n",
            "Epoch: 56000, Loss: 0.9053656821188035\n",
            "Epoch: 57000, Loss: 0.9050960435626181\n",
            "Epoch: 58000, Loss: 0.905262975831444\n",
            "Epoch: 59000, Loss: 0.9045960485515491\n",
            "Epoch: 60000, Loss: 0.9049616207688367\n",
            "Epoch: 61000, Loss: 0.9050412776501744\n",
            "Epoch: 62000, Loss: 0.9045401507226667\n",
            "Epoch: 63000, Loss: 0.9044725209242928\n",
            "Epoch: 64000, Loss: 0.9041911252951397\n",
            "Epoch: 65000, Loss: 0.9044499134983324\n",
            "Epoch: 66000, Loss: 0.9042046445198854\n",
            "Epoch: 67000, Loss: 0.9042098894378902\n",
            "Epoch: 68000, Loss: 0.9038196084918151\n",
            "Epoch: 69000, Loss: 0.9039397592879505\n",
            "Epoch: 70000, Loss: 0.9036819666086449\n",
            "Epoch: 71000, Loss: 0.9026975578912879\n",
            "Epoch: 72000, Loss: 0.9030651546570859\n",
            "Epoch: 73000, Loss: 0.9038045672657646\n",
            "Epoch: 74000, Loss: 0.9031574528347401\n",
            "Epoch: 75000, Loss: 0.9018949626032031\n",
            "Epoch: 76000, Loss: 0.901911727019235\n",
            "Epoch: 77000, Loss: 0.9031955674266532\n",
            "Epoch: 78000, Loss: 0.9031429474890874\n",
            "Epoch: 79000, Loss: 0.9032209066548463\n",
            "Epoch: 80000, Loss: 0.9031596775529481\n",
            "Epoch: 81000, Loss: 0.903157398736098\n",
            "Epoch: 82000, Loss: 0.9032433015540752\n",
            "Epoch: 83000, Loss: 0.9013017831676927\n",
            "Epoch: 84000, Loss: 0.9013094150497906\n",
            "Epoch: 85000, Loss: 0.9013719675744114\n",
            "Epoch: 86000, Loss: 0.9013019559165806\n",
            "Epoch: 87000, Loss: 0.9052430694502902\n",
            "Epoch: 88000, Loss: 0.9039006596908428\n",
            "Epoch: 89000, Loss: 0.9029218127365687\n",
            "Epoch: 90000, Loss: 0.9028198196196578\n",
            "Epoch: 91000, Loss: 0.9008618240891519\n",
            "Epoch: 92000, Loss: 0.9004681634682226\n",
            "Epoch: 93000, Loss: 0.9002855626435162\n",
            "Epoch: 94000, Loss: 0.9004001476833742\n",
            "Epoch: 95000, Loss: 0.9003210577609864\n",
            "Epoch: 96000, Loss: 0.9003454735906792\n",
            "Epoch: 97000, Loss: 0.9002965097765276\n",
            "Epoch: 98000, Loss: 0.9010995161361943\n",
            "Epoch: 99000, Loss: 0.9036542872787746\n",
            "Epoch: 100000, Loss: 0.9024745119841375\n"
          ]
        }
      ]
    },
    {
      "cell_type": "code",
      "source": [
        "outputs=network(input[4071:])\n",
        "compvalue=returns[4071:]\n",
        "ans=outputs.detach().numpy()\n",
        "given=compvalue.detach().numpy()\n",
        "compvalue.shape"
      ],
      "metadata": {
        "colab": {
          "base_uri": "https://localhost:8080/"
        },
        "id": "WCrFcrl4p-qz",
        "outputId": "24f400bb-ddb8-47c0-ac2f-7834ea75da26"
      },
      "execution_count": 56,
      "outputs": [
        {
          "output_type": "execute_result",
          "data": {
            "text/plain": [
              "torch.Size([453, 1])"
            ]
          },
          "metadata": {},
          "execution_count": 56
        }
      ]
    },
    {
      "cell_type": "code",
      "source": [
        "fig,(ax1,ax2)=plt.subplots(1,2,constrained_layout=True,figsize=(12,4))\n",
        "ax1.plot(returns[4071:])\n",
        "ax2.plot(ans)"
      ],
      "metadata": {
        "id": "CDAdFZHjxNOB",
        "outputId": "08b19073-c930-40d4-ba5c-b5259a927af1",
        "colab": {
          "base_uri": "https://localhost:8080/",
          "height": 445
        }
      },
      "execution_count": 57,
      "outputs": [
        {
          "output_type": "execute_result",
          "data": {
            "text/plain": [
              "[<matplotlib.lines.Line2D at 0x79fa755a4be0>]"
            ]
          },
          "metadata": {},
          "execution_count": 57
        },
        {
          "output_type": "display_data",
          "data": {
            "text/plain": [
              "<Figure size 1200x400 with 2 Axes>"
            ],
            "image/png": "[encoded data removed]"
          },
          "metadata": {}
        }
      ]
    },
    {
      "cell_type": "code",
      "source": [
        "error=given - ans\n",
        "error\n"
      ],
      "metadata": {
        "id": "JZwcIuXCzw-q",
        "outputId": "9ac45549-cde5-41f3-e9fd-1f2f9e2d4356",
        "colab": {
          "base_uri": "https://localhost:8080/"
        }
      },
      "execution_count": 58,
      "outputs": [
        {
          "output_type": "execute_result",
          "data": {
            "text/plain": [
              "array([[ -22.25879187],\n",
              "       [ -28.72641781],\n",
              "       [ -15.85727118],\n",
              "       [ -17.05114766],\n",
              "       [ -30.09545002],\n",
              "       [ -41.14123469],\n",
              "       [ -23.86118382],\n",
              "       [ -28.62341525],\n",
              "       [ -21.6697542 ],\n",
              "       [  -8.67743611],\n",
              "       [ -14.68334704],\n",
              "       [ -24.81707239],\n",
              "       [ -32.46927717],\n",
              "       [ -25.00224159],\n",
              "       [   0.38006375],\n",
              "       [ -14.63725713],\n",
              "       [ -17.51612548],\n",
              "       [ -14.65901005],\n",
              "       [ -34.93898036],\n",
              "       [ -40.48197627],\n",
              "       [ -38.7552722 ],\n",
              "       [ -19.57432602],\n",
              "       [ -15.50561907],\n",
              "       [ -38.27366589],\n",
              "       [ -30.13684575],\n",
              "       [ -23.53970384],\n",
              "       [ -20.82731327],\n",
              "       [ -26.70397558],\n",
              "       [ -26.33083443],\n",
              "       [ -19.06916274],\n",
              "       [ -21.80375487],\n",
              "       [  -9.97650166],\n",
              "       [ -19.52298131],\n",
              "       [ -33.74915171],\n",
              "       [ -16.56446106],\n",
              "       [ -30.8966732 ],\n",
              "       [ -29.86676819],\n",
              "       [ -55.55392985],\n",
              "       [ -27.39257516],\n",
              "       [ -37.37951798],\n",
              "       [ -29.17615104],\n",
              "       [ -20.81879415],\n",
              "       [ -28.1531201 ],\n",
              "       [ -12.54211801],\n",
              "       [ -31.88916295],\n",
              "       [ -20.73196331],\n",
              "       [ -23.33780428],\n",
              "       [ -31.10680406],\n",
              "       [ -22.26760034],\n",
              "       [ -36.3283218 ],\n",
              "       [ -30.23203975],\n",
              "       [ -14.18031921],\n",
              "       [ -24.80155713],\n",
              "       [ -18.30986817],\n",
              "       [ -48.79338854],\n",
              "       [ -11.73127242],\n",
              "       [ -24.26866866],\n",
              "       [ -17.60985225],\n",
              "       [ -18.07855646],\n",
              "       [  -9.35094721],\n",
              "       [ -26.0289956 ],\n",
              "       [ -35.29315205],\n",
              "       [ -28.38935656],\n",
              "       [ -21.27163965],\n",
              "       [ -22.95739994],\n",
              "       [ -29.57880771],\n",
              "       [ -30.07080998],\n",
              "       [ -35.00722935],\n",
              "       [ -22.79709216],\n",
              "       [ -32.68628195],\n",
              "       [ -36.69266971],\n",
              "       [ -14.20650952],\n",
              "       [ -28.60963456],\n",
              "       [ -28.55327725],\n",
              "       [ -34.52075404],\n",
              "       [ -54.21393062],\n",
              "       [ -23.56520863],\n",
              "       [  27.54659855],\n",
              "       [   3.99275234],\n",
              "       [  -7.90103939],\n",
              "       [ -34.02282876],\n",
              "       [ -27.50301209],\n",
              "       [ -18.88753365],\n",
              "       [ -26.30547358],\n",
              "       [ -22.13993075],\n",
              "       [ -17.99850851],\n",
              "       [ -28.08455284],\n",
              "       [ -12.66725098],\n",
              "       [ -21.60042364],\n",
              "       [ -20.74425808],\n",
              "       [ -16.37698688],\n",
              "       [  -9.49116549],\n",
              "       [ -16.85596   ],\n",
              "       [  -2.77867425],\n",
              "       [ -21.32097414],\n",
              "       [ -21.54815695],\n",
              "       [ -16.80024421],\n",
              "       [  -3.79130426],\n",
              "       [ -10.72860221],\n",
              "       [ -25.55999043],\n",
              "       [ -45.0250705 ],\n",
              "       [ -18.38016214],\n",
              "       [ -18.67539093],\n",
              "       [ -11.80811223],\n",
              "       [ -45.19527481],\n",
              "       [ -32.15002785],\n",
              "       [ -19.24557456],\n",
              "       [ -16.41234266],\n",
              "       [ -38.01018842],\n",
              "       [ -29.46344496],\n",
              "       [ -24.38596805],\n",
              "       [ -19.99918274],\n",
              "       [  -2.07880014],\n",
              "       [  -7.64422968],\n",
              "       [ -13.2429281 ],\n",
              "       [ -24.94919291],\n",
              "       [ -30.9813567 ],\n",
              "       [ -10.58438853],\n",
              "       [ -26.14384294],\n",
              "       [ -24.93585075],\n",
              "       [ -16.81287732],\n",
              "       [ -19.95482558],\n",
              "       [ -31.21568092],\n",
              "       [ -39.57304113],\n",
              "       [ -35.11655801],\n",
              "       [ -40.42664794],\n",
              "       [ -26.65203878],\n",
              "       [ -23.66336975],\n",
              "       [ -35.52970845],\n",
              "       [ -24.18194285],\n",
              "       [ -27.33396215],\n",
              "       [ -17.72509714],\n",
              "       [  -4.73933167],\n",
              "       [ -14.09287952],\n",
              "       [ -35.34864328],\n",
              "       [ -27.59812861],\n",
              "       [ -22.6463025 ],\n",
              "       [  -6.98171508],\n",
              "       [ -14.96713928],\n",
              "       [ -70.03584584],\n",
              "       [ -45.58373095],\n",
              "       [ -15.53284485],\n",
              "       [ -32.70026729],\n",
              "       [ -33.44507724],\n",
              "       [ -47.00854511],\n",
              "       [ -21.00960048],\n",
              "       [ -24.41250317],\n",
              "       [ -16.46140923],\n",
              "       [ -34.03323648],\n",
              "       [ -30.66050591],\n",
              "       [ -31.46468373],\n",
              "       [ -19.7329987 ],\n",
              "       [   4.80687249],\n",
              "       [ -48.1512615 ],\n",
              "       [ -25.4318127 ],\n",
              "       [ -11.13599694],\n",
              "       [ -29.49806594],\n",
              "       [ -26.49508003],\n",
              "       [ -15.42772027],\n",
              "       [ -22.8636358 ],\n",
              "       [  21.9834247 ],\n",
              "       [ -51.01535949],\n",
              "       [  -8.58963234],\n",
              "       [ -31.54367089],\n",
              "       [ -11.39847465],\n",
              "       [  -1.01232258],\n",
              "       [  24.36786572],\n",
              "       [ -24.3517395 ],\n",
              "       [ -25.38241444],\n",
              "       [ -42.38418841],\n",
              "       [ -18.23544407],\n",
              "       [ -41.331256  ],\n",
              "       [ -10.90914973],\n",
              "       [ -48.02352258],\n",
              "       [ -38.51908486],\n",
              "       [ -10.32640398],\n",
              "       [ -28.7149237 ],\n",
              "       [ -18.7635924 ],\n",
              "       [ -18.77572458],\n",
              "       [ -22.13035747],\n",
              "       [ -37.79468101],\n",
              "       [ -25.32634136],\n",
              "       [ -36.19076261],\n",
              "       [ -34.62111676],\n",
              "       [ -37.62744326],\n",
              "       [ -34.18675111],\n",
              "       [ -23.95642875],\n",
              "       [ -15.55691133],\n",
              "       [ -42.98007801],\n",
              "       [ -27.9789932 ],\n",
              "       [ -16.45325903],\n",
              "       [ -37.36617236],\n",
              "       [ -19.99575039],\n",
              "       [ -30.99635869],\n",
              "       [ -24.34203197],\n",
              "       [ -22.26842965],\n",
              "       [ -32.34030071],\n",
              "       [  -4.35112029],\n",
              "       [ -24.94922834],\n",
              "       [ -19.1727033 ],\n",
              "       [ -15.61666167],\n",
              "       [ -38.26590826],\n",
              "       [  26.1913939 ],\n",
              "       [ -22.06880475],\n",
              "       [  -3.19932175],\n",
              "       [ -17.84979007],\n",
              "       [   6.30737513],\n",
              "       [ -12.01926197],\n",
              "       [ -17.46231862],\n",
              "       [ -33.83666824],\n",
              "       [   0.96534928],\n",
              "       [  -7.33230805],\n",
              "       [ -23.56821975],\n",
              "       [ -36.61046279],\n",
              "       [ -25.62385159],\n",
              "       [ -12.05571772],\n",
              "       [ -43.81790431],\n",
              "       [ -23.91775301],\n",
              "       [ -10.48247238],\n",
              "       [ -22.35521843],\n",
              "       [ -39.62142606],\n",
              "       [ -27.00739194],\n",
              "       [ -27.45543475],\n",
              "       [ -13.86265255],\n",
              "       [ -22.87990591],\n",
              "       [ -27.53842227],\n",
              "       [  -8.02135612],\n",
              "       [ -16.71789958],\n",
              "       [ -15.32184609],\n",
              "       [ -14.23758402],\n",
              "       [ -23.9380913 ],\n",
              "       [ -20.729537  ],\n",
              "       [  -9.60159413],\n",
              "       [ -22.75628264],\n",
              "       [ -20.76682025],\n",
              "       [  -5.46421308],\n",
              "       [ -20.84691235],\n",
              "       [ -13.68139251],\n",
              "       [ -28.52382304],\n",
              "       [ -10.92991465],\n",
              "       [ -22.84959663],\n",
              "       [ -25.0176506 ],\n",
              "       [ -23.61019914],\n",
              "       [ -25.84423448],\n",
              "       [  -4.02791989],\n",
              "       [ -31.48169874],\n",
              "       [ -27.72856716],\n",
              "       [ -31.17800162],\n",
              "       [ -15.29302605],\n",
              "       [ -30.36579717],\n",
              "       [ -22.42604337],\n",
              "       [ -32.24131135],\n",
              "       [ -32.26724305],\n",
              "       [ -18.2631271 ],\n",
              "       [ -25.49004363],\n",
              "       [ -10.28096381],\n",
              "       [ -15.52499508],\n",
              "       [ -43.63791617],\n",
              "       [ -38.11003039],\n",
              "       [ -27.60866126],\n",
              "       [ -32.49969359],\n",
              "       [ -38.12999025],\n",
              "       [ -20.0175377 ],\n",
              "       [  -2.45301527],\n",
              "       [ -35.16640138],\n",
              "       [ -29.99742835],\n",
              "       [ -22.11961412],\n",
              "       [ -29.27073201],\n",
              "       [ -23.06283841],\n",
              "       [ -23.45159957],\n",
              "       [ -14.52143642],\n",
              "       [ -30.02591745],\n",
              "       [ -40.35908913],\n",
              "       [ -17.31165233],\n",
              "       [ -43.46380577],\n",
              "       [ -25.93794157],\n",
              "       [ -28.38340898],\n",
              "       [ -31.84759777],\n",
              "       [ -17.59772467],\n",
              "       [ -16.89030676],\n",
              "       [  -8.58363243],\n",
              "       [ -28.92820105],\n",
              "       [ -26.9861934 ],\n",
              "       [ -17.19815481],\n",
              "       [ -25.32997601],\n",
              "       [  -7.66230559],\n",
              "       [ -46.10310259],\n",
              "       [ -16.68930296],\n",
              "       [ -29.84435449],\n",
              "       [ -29.87358247],\n",
              "       [ -18.07269264],\n",
              "       [ -29.36870657],\n",
              "       [ -48.43950759],\n",
              "       [ -29.9489225 ],\n",
              "       [ -41.12706239],\n",
              "       [ -30.02847689],\n",
              "       [ -23.12743012],\n",
              "       [ -12.5251892 ],\n",
              "       [ -24.46397097],\n",
              "       [ -33.92368143],\n",
              "       [ -40.02195292],\n",
              "       [ -19.64793704],\n",
              "       [  -8.33747859],\n",
              "       [  -4.58118429],\n",
              "       [   1.41689626],\n",
              "       [ -18.67150797],\n",
              "       [  -2.60341446],\n",
              "       [ -25.53251835],\n",
              "       [ -37.23407609],\n",
              "       [ -13.05445837],\n",
              "       [ -43.18284761],\n",
              "       [ -36.04161825],\n",
              "       [ -24.72940261],\n",
              "       [ -45.2548964 ],\n",
              "       [ -33.45582445],\n",
              "       [ -48.13347743],\n",
              "       [ -19.02916426],\n",
              "       [ -24.02044856],\n",
              "       [ -39.09493273],\n",
              "       [ -28.0720238 ],\n",
              "       [ -39.4139278 ],\n",
              "       [ -22.34904803],\n",
              "       [-100.61950906],\n",
              "       [ -37.45827759],\n",
              "       [ -22.10795002],\n",
              "       [ -40.77406608],\n",
              "       [ -16.78777999],\n",
              "       [ -31.44916904],\n",
              "       [   5.5872613 ],\n",
              "       [ -19.39654965],\n",
              "       [ -27.83615846],\n",
              "       [ -31.39378709],\n",
              "       [ -32.3118799 ],\n",
              "       [ -28.36361207],\n",
              "       [   2.30104181],\n",
              "       [ -33.73598507],\n",
              "       [ -27.25668381],\n",
              "       [ -34.600515  ],\n",
              "       [ -23.94902729],\n",
              "       [ -29.8905278 ],\n",
              "       [ -28.17699297],\n",
              "       [ -38.03633344],\n",
              "       [ -27.52944957],\n",
              "       [ -32.1699525 ],\n",
              "       [ -31.50904509],\n",
              "       [ -36.961872  ],\n",
              "       [ -31.9947018 ],\n",
              "       [ -29.01780724],\n",
              "       [ -36.87692309],\n",
              "       [ -31.04658227],\n",
              "       [ -29.82627764],\n",
              "       [ -22.62948954],\n",
              "       [ -33.83014521],\n",
              "       [ -38.53200133],\n",
              "       [ -53.4974225 ],\n",
              "       [ -23.94015697],\n",
              "       [ -34.35134486],\n",
              "       [ -35.49551132],\n",
              "       [ -27.53832127],\n",
              "       [ -25.42743533],\n",
              "       [ -26.49928044],\n",
              "       [ -40.53012952],\n",
              "       [ -33.32379209],\n",
              "       [ -12.47185031],\n",
              "       [ -16.64619301],\n",
              "       [ -16.0696733 ],\n",
              "       [ -50.66485421],\n",
              "       [ -32.75636191],\n",
              "       [ -21.8825533 ],\n",
              "       [ -38.97506333],\n",
              "       [ -28.63831716],\n",
              "       [ -37.24680607],\n",
              "       [ -50.30252399],\n",
              "       [ -25.41708668],\n",
              "       [ -22.22991931],\n",
              "       [ -20.24999261],\n",
              "       [ -48.40600677],\n",
              "       [ -23.5657814 ],\n",
              "       [ -27.56191816],\n",
              "       [ -15.71507541],\n",
              "       [ -28.0691298 ],\n",
              "       [  -8.46786159],\n",
              "       [ -33.34448787],\n",
              "       [ -35.22542171],\n",
              "       [ -33.81508203],\n",
              "       [ -31.10975547],\n",
              "       [ -31.46395398],\n",
              "       [  -6.92803955],\n",
              "       [ -10.90325708],\n",
              "       [  -9.62705207],\n",
              "       [ -25.74267379],\n",
              "       [ -27.33322041],\n",
              "       [ -13.25478452],\n",
              "       [ -38.32798008],\n",
              "       [ -41.60305218],\n",
              "       [ -27.95045679],\n",
              "       [ -24.35922367],\n",
              "       [ -20.46220124],\n",
              "       [ -23.53809018],\n",
              "       [ -27.01080909],\n",
              "       [ -19.31335793],\n",
              "       [ -38.83183679],\n",
              "       [ -25.10514131],\n",
              "       [ -23.93504193],\n",
              "       [ -17.54296697],\n",
              "       [ -18.94819277],\n",
              "       [ -24.14605396],\n",
              "       [ -16.08263831],\n",
              "       [ -37.42165416],\n",
              "       [ -33.80519084],\n",
              "       [ -29.92185309],\n",
              "       [ -16.83628584],\n",
              "       [ -47.76899127],\n",
              "       [  -7.72502103],\n",
              "       [ -33.98731589],\n",
              "       [ -33.8508422 ],\n",
              "       [ -28.66452742],\n",
              "       [ -34.09631724],\n",
              "       [ -11.59555114],\n",
              "       [  -7.48289969],\n",
              "       [ -26.91369128],\n",
              "       [ -17.64765229],\n",
              "       [ -32.65588714],\n",
              "       [ -33.19750408],\n",
              "       [ -26.7137686 ],\n",
              "       [ -44.58136381],\n",
              "       [ -21.1645059 ],\n",
              "       [ -26.07793374],\n",
              "       [ -18.01941241],\n",
              "       [ -20.1014099 ],\n",
              "       [ -25.54616588],\n",
              "       [ -36.54677679],\n",
              "       [ -42.58523389],\n",
              "       [ -33.27534077],\n",
              "       [ -23.27681038],\n",
              "       [ -18.71460456],\n",
              "       [ -22.4036905 ],\n",
              "       [ -32.79605765],\n",
              "       [ -24.78876136],\n",
              "       [ -40.24029814],\n",
              "       [ -27.56055529],\n",
              "       [ -26.16925381],\n",
              "       [ -37.36076073],\n",
              "       [ -22.98806156],\n",
              "       [ -22.95036238],\n",
              "       [ -45.41928206],\n",
              "       [ -23.94976525],\n",
              "       [ -37.0558102 ],\n",
              "       [ -21.8126679 ],\n",
              "       [  -6.50896991],\n",
              "       [ -37.86046352],\n",
              "       [ -16.76935985],\n",
              "       [ -33.31531885]])"
            ]
          },
          "metadata": {},
          "execution_count": 58
        }
      ]
    },
    {
      "cell_type": "code",
      "source": [
        "loss=0.0\n",
        "for i in range(error.shape[0]):\n",
        "  if(error[i]>0):\n",
        "    loss=loss+0.95*error[i]\n",
        "  else:\n",
        "    loss=loss+(0.05)*(-1)*error[i]\n",
        "loss=loss/error.shape[0]\n",
        "loss"
      ],
      "metadata": {
        "id": "BzCDWdGu-hcf",
        "outputId": "e2d71004-0016-428e-fb11-3eefda20af10",
        "colab": {
          "base_uri": "https://localhost:8080/"
        }
      },
      "execution_count": 59,
      "outputs": [
        {
          "output_type": "execute_result",
          "data": {
            "text/plain": [
              "array([1.5304881])"
            ]
          },
          "metadata": {},
          "execution_count": 59
        }
      ]
    }
  ]
}
