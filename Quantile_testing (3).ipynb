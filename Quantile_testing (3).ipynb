{
  "nbformat": 4,
  "nbformat_minor": 0,
  "metadata": {
    "colab": {
      "provenance": []
    },
    "kernelspec": {
      "name": "python3",
      "display_name": "Python 3"
    },
    "language_info": {
      "name": "python"
    }
  },
  "cells": [
    {
      "cell_type": "code",
      "execution_count": 173,
      "metadata": {
        "id": "lbu9efRrm8rB"
      },
      "outputs": [],
      "source": [
        "import numpy as np\n",
        "import pandas as pd\n",
        "import yfinance as yf\n",
        "import matplotlib.pyplot as plt"
      ]
    },
    {
      "cell_type": "code",
      "source": [
        "import scipy\n",
        "from scipy.stats import norm"
      ],
      "metadata": {
        "id": "_bFybhox26tc"
      },
      "execution_count": 174,
      "outputs": []
    },
    {
      "cell_type": "code",
      "source": [
        "stock='AXISBANK.NS'\n",
        "data = yf.download(stock,'2005-01-01','2023-05-05')"
      ],
      "metadata": {
        "colab": {
          "base_uri": "https://localhost:8080/"
        },
        "id": "sLp6mSkQm9ZS",
        "outputId": "305a53a5-7488-4654-e2f6-76c33b401bce"
      },
      "execution_count": 175,
      "outputs": [
        {
          "output_type": "stream",
          "name": "stdout",
          "text": [
            "\r[*********************100%***********************]  1 of 1 completed\n"
          ]
        }
      ]
    },
    {
      "cell_type": "code",
      "source": [
        "data"
      ],
      "metadata": {
        "colab": {
          "base_uri": "https://localhost:8080/",
          "height": 455
        },
        "id": "re200cTwnAnm",
        "outputId": "7a22e38a-5429-4f9a-ed44-38111abd53f6"
      },
      "execution_count": 176,
      "outputs": [
        {
          "output_type": "execute_result",
          "data": {
            "text/plain": [
              "                  Open        High         Low       Close   Adj Close  \\\n",
              "Date                                                                     \n",
              "2005-01-03   37.000000   38.200001   37.000000   38.040001   32.853142   \n",
              "2005-01-04   38.220001   38.400002   37.400002   37.939999   32.766773   \n",
              "2005-01-05   37.990002   37.990002   35.509998   36.849998   31.825394   \n",
              "2005-01-06   36.820000   38.000000   35.400002   37.029999   31.980862   \n",
              "2005-01-07   36.130001   38.380001   36.130001   38.020000   32.835880   \n",
              "...                ...         ...         ...         ...         ...   \n",
              "2023-04-27  888.000000  890.000000  877.500000  881.400024  879.590515   \n",
              "2023-04-28  885.099976  890.049988  853.650024  860.000000  858.234375   \n",
              "2023-05-02  870.000000  876.400024  864.250000  870.650024  868.862549   \n",
              "2023-05-03  863.849976  866.849976  854.049988  859.849976  858.084717   \n",
              "2023-05-04  860.000000  867.150024  857.500000  865.950012  864.172180   \n",
              "\n",
              "              Volume  \n",
              "Date                  \n",
              "2005-01-03   1421010  \n",
              "2005-01-04   1115825  \n",
              "2005-01-05   1163085  \n",
              "2005-01-06   1192610  \n",
              "2005-01-07   1530260  \n",
              "...              ...  \n",
              "2023-04-27  15992383  \n",
              "2023-04-28  23004117  \n",
              "2023-05-02  12947953  \n",
              "2023-05-03  15103015  \n",
              "2023-05-04   9756391  \n",
              "\n",
              "[4525 rows x 6 columns]"
            ],
            "text/html": [
              "\n",
              "\n",
              "  <div id=\"df-83b37a48-aa2c-4533-b2a7-c7d2a61fd234\">\n",
              "    <div class=\"colab-df-container\">\n",
              "      <div>\n",
              "<style scoped>\n",
              "    .dataframe tbody tr th:only-of-type {\n",
              "        vertical-align: middle;\n",
              "    }\n",
              "\n",
              "    .dataframe tbody tr th {\n",
              "        vertical-align: top;\n",
              "    }\n",
              "\n",
              "    .dataframe thead th {\n",
              "        text-align: right;\n",
              "    }\n",
              "</style>\n",
              "<table border=\"1\" class=\"dataframe\">\n",
              "  <thead>\n",
              "    <tr style=\"text-align: right;\">\n",
              "      <th></th>\n",
              "      <th>Open</th>\n",
              "      <th>High</th>\n",
              "      <th>Low</th>\n",
              "      <th>Close</th>\n",
              "      <th>Adj Close</th>\n",
              "      <th>Volume</th>\n",
              "    </tr>\n",
              "    <tr>\n",
              "      <th>Date</th>\n",
              "      <th></th>\n",
              "      <th></th>\n",
              "      <th></th>\n",
              "      <th></th>\n",
              "      <th></th>\n",
              "      <th></th>\n",
              "    </tr>\n",
              "  </thead>\n",
              "  <tbody>\n",
              "    <tr>\n",
              "      <th>2005-01-03</th>\n",
              "      <td>37.000000</td>\n",
              "      <td>38.200001</td>\n",
              "      <td>37.000000</td>\n",
              "      <td>38.040001</td>\n",
              "      <td>32.853142</td>\n",
              "      <td>1421010</td>\n",
              "    </tr>\n",
              "    <tr>\n",
              "      <th>2005-01-04</th>\n",
              "      <td>38.220001</td>\n",
              "      <td>38.400002</td>\n",
              "      <td>37.400002</td>\n",
              "      <td>37.939999</td>\n",
              "      <td>32.766773</td>\n",
              "      <td>1115825</td>\n",
              "    </tr>\n",
              "    <tr>\n",
              "      <th>2005-01-05</th>\n",
              "      <td>37.990002</td>\n",
              "      <td>37.990002</td>\n",
              "      <td>35.509998</td>\n",
              "      <td>36.849998</td>\n",
              "      <td>31.825394</td>\n",
              "      <td>1163085</td>\n",
              "    </tr>\n",
              "    <tr>\n",
              "      <th>2005-01-06</th>\n",
              "      <td>36.820000</td>\n",
              "      <td>38.000000</td>\n",
              "      <td>35.400002</td>\n",
              "      <td>37.029999</td>\n",
              "      <td>31.980862</td>\n",
              "      <td>1192610</td>\n",
              "    </tr>\n",
              "    <tr>\n",
              "      <th>2005-01-07</th>\n",
              "      <td>36.130001</td>\n",
              "      <td>38.380001</td>\n",
              "      <td>36.130001</td>\n",
              "      <td>38.020000</td>\n",
              "      <td>32.835880</td>\n",
              "      <td>1530260</td>\n",
              "    </tr>\n",
              "    <tr>\n",
              "      <th>...</th>\n",
              "      <td>...</td>\n",
              "      <td>...</td>\n",
              "      <td>...</td>\n",
              "      <td>...</td>\n",
              "      <td>...</td>\n",
              "      <td>...</td>\n",
              "    </tr>\n",
              "    <tr>\n",
              "      <th>2023-04-27</th>\n",
              "      <td>888.000000</td>\n",
              "      <td>890.000000</td>\n",
              "      <td>877.500000</td>\n",
              "      <td>881.400024</td>\n",
              "      <td>879.590515</td>\n",
              "      <td>15992383</td>\n",
              "    </tr>\n",
              "    <tr>\n",
              "      <th>2023-04-28</th>\n",
              "      <td>885.099976</td>\n",
              "      <td>890.049988</td>\n",
              "      <td>853.650024</td>\n",
              "      <td>860.000000</td>\n",
              "      <td>858.234375</td>\n",
              "      <td>23004117</td>\n",
              "    </tr>\n",
              "    <tr>\n",
              "      <th>2023-05-02</th>\n",
              "      <td>870.000000</td>\n",
              "      <td>876.400024</td>\n",
              "      <td>864.250000</td>\n",
              "      <td>870.650024</td>\n",
              "      <td>868.862549</td>\n",
              "      <td>12947953</td>\n",
              "    </tr>\n",
              "    <tr>\n",
              "      <th>2023-05-03</th>\n",
              "      <td>863.849976</td>\n",
              "      <td>866.849976</td>\n",
              "      <td>854.049988</td>\n",
              "      <td>859.849976</td>\n",
              "      <td>858.084717</td>\n",
              "      <td>15103015</td>\n",
              "    </tr>\n",
              "    <tr>\n",
              "      <th>2023-05-04</th>\n",
              "      <td>860.000000</td>\n",
              "      <td>867.150024</td>\n",
              "      <td>857.500000</td>\n",
              "      <td>865.950012</td>\n",
              "      <td>864.172180</td>\n",
              "      <td>9756391</td>\n",
              "    </tr>\n",
              "  </tbody>\n",
              "</table>\n",
              "<p>4525 rows × 6 columns</p>\n",
              "</div>\n",
              "      <button class=\"colab-df-convert\" onclick=\"convertToInteractive('df-83b37a48-aa2c-4533-b2a7-c7d2a61fd234')\"\n",
              "              title=\"Convert this dataframe to an interactive table.\"\n",
              "              style=\"display:none;\">\n",
              "\n",
              "  <svg xmlns=\"http://www.w3.org/2000/svg\" height=\"24px\"viewBox=\"0 0 24 24\"\n",
              "       width=\"24px\">\n",
              "    <path d=\"M0 0h24v24H0V0z\" fill=\"none\"/>\n",
              "    <path d=\"M18.56 5.44l.94 2.06.94-2.06 2.06-.94-2.06-.94-.94-2.06-.94 2.06-2.06.94zm-11 1L8.5 8.5l.94-2.06 2.06-.94-2.06-.94L8.5 2.5l-.94 2.06-2.06.94zm10 10l.94 2.06.94-2.06 2.06-.94-2.06-.94-.94-2.06-.94 2.06-2.06.94z\"/><path d=\"M17.41 7.96l-1.37-1.37c-.4-.4-.92-.59-1.43-.59-.52 0-1.04.2-1.43.59L10.3 9.45l-7.72 7.72c-.78.78-.78 2.05 0 2.83L4 21.41c.39.39.9.59 1.41.59.51 0 1.02-.2 1.41-.59l7.78-7.78 2.81-2.81c.8-.78.8-2.07 0-2.86zM5.41 20L4 18.59l7.72-7.72 1.47 1.35L5.41 20z\"/>\n",
              "  </svg>\n",
              "      </button>\n",
              "\n",
              "\n",
              "\n",
              "    <div id=\"df-19d7cd0e-d375-46b5-b758-317b3a025ee2\">\n",
              "      <button class=\"colab-df-quickchart\" onclick=\"quickchart('df-19d7cd0e-d375-46b5-b758-317b3a025ee2')\"\n",
              "              title=\"Suggest charts.\"\n",
              "              style=\"display:none;\">\n",
              "\n",
              "<svg xmlns=\"http://www.w3.org/2000/svg\" height=\"24px\"viewBox=\"0 0 24 24\"\n",
              "     width=\"24px\">\n",
              "    <g>\n",
              "        <path d=\"M19 3H5c-1.1 0-2 .9-2 2v14c0 1.1.9 2 2 2h14c1.1 0 2-.9 2-2V5c0-1.1-.9-2-2-2zM9 17H7v-7h2v7zm4 0h-2V7h2v10zm4 0h-2v-4h2v4z\"/>\n",
              "    </g>\n",
              "</svg>\n",
              "      </button>\n",
              "    </div>\n",
              "\n",
              "<style>\n",
              "  .colab-df-quickchart {\n",
              "    background-color: #E8F0FE;\n",
              "    border: none;\n",
              "    border-radius: 50%;\n",
              "    cursor: pointer;\n",
              "    display: none;\n",
              "    fill: #1967D2;\n",
              "    height: 32px;\n",
              "    padding: 0 0 0 0;\n",
              "    width: 32px;\n",
              "  }\n",
              "\n",
              "  .colab-df-quickchart:hover {\n",
              "    background-color: #E2EBFA;\n",
              "    box-shadow: 0px 1px 2px rgba(60, 64, 67, 0.3), 0px 1px 3px 1px rgba(60, 64, 67, 0.15);\n",
              "    fill: #174EA6;\n",
              "  }\n",
              "\n",
              "  [theme=dark] .colab-df-quickchart {\n",
              "    background-color: #3B4455;\n",
              "    fill: #D2E3FC;\n",
              "  }\n",
              "\n",
              "  [theme=dark] .colab-df-quickchart:hover {\n",
              "    background-color: #434B5C;\n",
              "    box-shadow: 0px 1px 3px 1px rgba(0, 0, 0, 0.15);\n",
              "    filter: drop-shadow(0px 1px 2px rgba(0, 0, 0, 0.3));\n",
              "    fill: #FFFFFF;\n",
              "  }\n",
              "</style>\n",
              "\n",
              "    <script>\n",
              "      async function quickchart(key) {\n",
              "        const containerElement = document.querySelector('#' + key);\n",
              "        const charts = await google.colab.kernel.invokeFunction(\n",
              "            'suggestCharts', [key], {});\n",
              "      }\n",
              "    </script>\n",
              "\n",
              "      <script>\n",
              "\n",
              "function displayQuickchartButton(domScope) {\n",
              "  let quickchartButtonEl =\n",
              "    domScope.querySelector('#df-19d7cd0e-d375-46b5-b758-317b3a025ee2 button.colab-df-quickchart');\n",
              "  quickchartButtonEl.style.display =\n",
              "    google.colab.kernel.accessAllowed ? 'block' : 'none';\n",
              "}\n",
              "\n",
              "        displayQuickchartButton(document);\n",
              "      </script>\n",
              "      <style>\n",
              "    .colab-df-container {\n",
              "      display:flex;\n",
              "      flex-wrap:wrap;\n",
              "      gap: 12px;\n",
              "    }\n",
              "\n",
              "    .colab-df-convert {\n",
              "      background-color: #E8F0FE;\n",
              "      border: none;\n",
              "      border-radius: 50%;\n",
              "      cursor: pointer;\n",
              "      display: none;\n",
              "      fill: #1967D2;\n",
              "      height: 32px;\n",
              "      padding: 0 0 0 0;\n",
              "      width: 32px;\n",
              "    }\n",
              "\n",
              "    .colab-df-convert:hover {\n",
              "      background-color: #E2EBFA;\n",
              "      box-shadow: 0px 1px 2px rgba(60, 64, 67, 0.3), 0px 1px 3px 1px rgba(60, 64, 67, 0.15);\n",
              "      fill: #174EA6;\n",
              "    }\n",
              "\n",
              "    [theme=dark] .colab-df-convert {\n",
              "      background-color: #3B4455;\n",
              "      fill: #D2E3FC;\n",
              "    }\n",
              "\n",
              "    [theme=dark] .colab-df-convert:hover {\n",
              "      background-color: #434B5C;\n",
              "      box-shadow: 0px 1px 3px 1px rgba(0, 0, 0, 0.15);\n",
              "      filter: drop-shadow(0px 1px 2px rgba(0, 0, 0, 0.3));\n",
              "      fill: #FFFFFF;\n",
              "    }\n",
              "  </style>\n",
              "\n",
              "      <script>\n",
              "        const buttonEl =\n",
              "          document.querySelector('#df-83b37a48-aa2c-4533-b2a7-c7d2a61fd234 button.colab-df-convert');\n",
              "        buttonEl.style.display =\n",
              "          google.colab.kernel.accessAllowed ? 'block' : 'none';\n",
              "\n",
              "        async function convertToInteractive(key) {\n",
              "          const element = document.querySelector('#df-83b37a48-aa2c-4533-b2a7-c7d2a61fd234');\n",
              "          const dataTable =\n",
              "            await google.colab.kernel.invokeFunction('convertToInteractive',\n",
              "                                                     [key], {});\n",
              "          if (!dataTable) return;\n",
              "\n",
              "          const docLinkHtml = 'Like what you see? Visit the ' +\n",
              "            '<a target=\"_blank\" href=https://colab.research.google.com/notebooks/data_table.ipynb>data table notebook</a>'\n",
              "            + ' to learn more about interactive tables.';\n",
              "          element.innerHTML = '';\n",
              "          dataTable['output_type'] = 'display_data';\n",
              "          await google.colab.output.renderOutput(dataTable, element);\n",
              "          const docLink = document.createElement('div');\n",
              "          docLink.innerHTML = docLinkHtml;\n",
              "          element.appendChild(docLink);\n",
              "        }\n",
              "      </script>\n",
              "    </div>\n",
              "  </div>\n"
            ]
          },
          "metadata": {},
          "execution_count": 176
        }
      ]
    },
    {
      "cell_type": "code",
      "source": [
        "# data = data[:4000]"
      ],
      "metadata": {
        "id": "PmtwEW1-_kRv"
      },
      "execution_count": 177,
      "outputs": []
    },
    {
      "cell_type": "code",
      "source": [
        "returns = np.diff(data['Adj Close'])\n",
        "returns=-returns"
      ],
      "metadata": {
        "id": "73fqShMpnDN4"
      },
      "execution_count": 178,
      "outputs": []
    },
    {
      "cell_type": "code",
      "source": [
        "data.shape,returns.shape"
      ],
      "metadata": {
        "colab": {
          "base_uri": "https://localhost:8080/"
        },
        "id": "nmZHg_p26ahP",
        "outputId": "b2db0a5d-f76e-4fc8-9a7f-3e799bab996d"
      },
      "execution_count": 179,
      "outputs": [
        {
          "output_type": "execute_result",
          "data": {
            "text/plain": [
              "((4525, 6), (4524,))"
            ]
          },
          "metadata": {},
          "execution_count": 179
        }
      ]
    },
    {
      "cell_type": "code",
      "source": [
        "returns.shape"
      ],
      "metadata": {
        "colab": {
          "base_uri": "https://localhost:8080/"
        },
        "id": "sMgvQUgA6dIw",
        "outputId": "63eeb905-872e-40e0-e3ef-32bc3d553938"
      },
      "execution_count": 180,
      "outputs": [
        {
          "output_type": "execute_result",
          "data": {
            "text/plain": [
              "(4524,)"
            ]
          },
          "metadata": {},
          "execution_count": 180
        }
      ]
    },
    {
      "cell_type": "code",
      "source": [
        "np.sum(returns)"
      ],
      "metadata": {
        "colab": {
          "base_uri": "https://localhost:8080/"
        },
        "id": "BcFGmyFC4COW",
        "outputId": "039c0033-9740-4aef-b30c-a8aacd094805"
      },
      "execution_count": 181,
      "outputs": [
        {
          "output_type": "execute_result",
          "data": {
            "text/plain": [
              "-831.3190383911133"
            ]
          },
          "metadata": {},
          "execution_count": 181
        }
      ]
    },
    {
      "cell_type": "code",
      "source": [
        "data['Adj Close']"
      ],
      "metadata": {
        "colab": {
          "base_uri": "https://localhost:8080/"
        },
        "id": "IwV_2pdNnGx4",
        "outputId": "268b00bf-d67b-4f87-bfc4-655c949e0379"
      },
      "execution_count": 182,
      "outputs": [
        {
          "output_type": "execute_result",
          "data": {
            "text/plain": [
              "Date\n",
              "2005-01-03     32.853142\n",
              "2005-01-04     32.766773\n",
              "2005-01-05     31.825394\n",
              "2005-01-06     31.980862\n",
              "2005-01-07     32.835880\n",
              "                 ...    \n",
              "2023-04-27    879.590515\n",
              "2023-04-28    858.234375\n",
              "2023-05-02    868.862549\n",
              "2023-05-03    858.084717\n",
              "2023-05-04    864.172180\n",
              "Name: Adj Close, Length: 4525, dtype: float64"
            ]
          },
          "metadata": {},
          "execution_count": 182
        }
      ]
    },
    {
      "cell_type": "code",
      "source": [
        "mean = np.mean(returns)\n",
        "std_dev = np.std(returns)\n",
        "mean,std_dev"
      ],
      "metadata": {
        "id": "k5AvfkJoquFc",
        "colab": {
          "base_uri": "https://localhost:8080/"
        },
        "outputId": "d3da32ed-2464-43b8-c448-cb000bd28f17"
      },
      "execution_count": 183,
      "outputs": [
        {
          "output_type": "execute_result",
          "data": {
            "text/plain": [
              "(-0.18375752395913203, 8.991497333374573)"
            ]
          },
          "metadata": {},
          "execution_count": 183
        }
      ]
    },
    {
      "cell_type": "code",
      "source": [
        "pip install KDEpy"
      ],
      "metadata": {
        "colab": {
          "base_uri": "https://localhost:8080/"
        },
        "id": "zpBrcKsHP0bl",
        "outputId": "dd4d7277-5b4a-499c-f233-5f698d030e83"
      },
      "execution_count": 184,
      "outputs": [
        {
          "output_type": "stream",
          "name": "stdout",
          "text": [
            "Requirement already satisfied: KDEpy in /usr/local/lib/python3.10/dist-packages (1.1.4)\n",
            "Requirement already satisfied: numpy>=1.14.2 in /usr/local/lib/python3.10/dist-packages (from KDEpy) (1.22.4)\n",
            "Requirement already satisfied: scipy>=1.0.1 in /usr/local/lib/python3.10/dist-packages (from KDEpy) (1.10.1)\n",
            "Requirement already satisfied: matplotlib>=2.2.2 in /usr/local/lib/python3.10/dist-packages (from KDEpy) (3.7.1)\n",
            "Requirement already satisfied: contourpy>=1.0.1 in /usr/local/lib/python3.10/dist-packages (from matplotlib>=2.2.2->KDEpy) (1.1.0)\n",
            "Requirement already satisfied: cycler>=0.10 in /usr/local/lib/python3.10/dist-packages (from matplotlib>=2.2.2->KDEpy) (0.11.0)\n",
            "Requirement already satisfied: fonttools>=4.22.0 in /usr/local/lib/python3.10/dist-packages (from matplotlib>=2.2.2->KDEpy) (4.40.0)\n",
            "Requirement already satisfied: kiwisolver>=1.0.1 in /usr/local/lib/python3.10/dist-packages (from matplotlib>=2.2.2->KDEpy) (1.4.4)\n",
            "Requirement already satisfied: packaging>=20.0 in /usr/local/lib/python3.10/dist-packages (from matplotlib>=2.2.2->KDEpy) (23.1)\n",
            "Requirement already satisfied: pillow>=6.2.0 in /usr/local/lib/python3.10/dist-packages (from matplotlib>=2.2.2->KDEpy) (8.4.0)\n",
            "Requirement already satisfied: pyparsing>=2.3.1 in /usr/local/lib/python3.10/dist-packages (from matplotlib>=2.2.2->KDEpy) (3.1.0)\n",
            "Requirement already satisfied: python-dateutil>=2.7 in /usr/local/lib/python3.10/dist-packages (from matplotlib>=2.2.2->KDEpy) (2.8.2)\n",
            "Requirement already satisfied: six>=1.5 in /usr/local/lib/python3.10/dist-packages (from python-dateutil>=2.7->matplotlib>=2.2.2->KDEpy) (1.16.0)\n"
          ]
        }
      ]
    },
    {
      "cell_type": "code",
      "source": [
        "import KDEpy"
      ],
      "metadata": {
        "id": "ueQSJmMuP30v"
      },
      "execution_count": 185,
      "outputs": []
    },
    {
      "cell_type": "code",
      "source": [
        "np.array(returns)"
      ],
      "metadata": {
        "colab": {
          "base_uri": "https://localhost:8080/"
        },
        "id": "dcFxz8yIQ9qM",
        "outputId": "b5875587-9089-4a1b-a6a3-857f124c32ea"
      },
      "execution_count": 186,
      "outputs": [
        {
          "output_type": "execute_result",
          "data": {
            "text/plain": [
              "array([  0.08636856,   0.94137955,  -0.15546799, ..., -10.62817383,\n",
              "        10.77783203,  -6.08746338])"
            ]
          },
          "metadata": {},
          "execution_count": 186
        }
      ]
    },
    {
      "cell_type": "code",
      "source": [
        "from KDEpy import FFTKDE\n",
        "import matplotlib.pyplot as plt\n",
        "x, y = FFTKDE(kernel=\"gaussian\",bw = \"silverman\").fit(np.array(returns)).evaluate()\n",
        "plt.plot(x, y)\n",
        "\n"
      ],
      "metadata": {
        "colab": {
          "base_uri": "https://localhost:8080/",
          "height": 447
        },
        "id": "u-N12BT_PqcY",
        "outputId": "c23bf59b-0791-4f23-9eb3-5bafcdf8ca41"
      },
      "execution_count": 187,
      "outputs": [
        {
          "output_type": "execute_result",
          "data": {
            "text/plain": [
              "[<matplotlib.lines.Line2D at 0x7d0fb79c18a0>]"
            ]
          },
          "metadata": {},
          "execution_count": 187
        },
        {
          "output_type": "display_data",
          "data": {
            "text/plain": [
              "<Figure size 640x480 with 1 Axes>"
            ],
            "image/png": "[encoded data removed]"
          },
          "metadata": {}
        }
      ]
    },
    {
      "cell_type": "code",
      "source": [
        "np.array(data['Adj Close'])"
      ],
      "metadata": {
        "colab": {
          "base_uri": "https://localhost:8080/"
        },
        "id": "d6auR5jVRVHE",
        "outputId": "3eeec3bc-059c-44b4-e437-8fdeee3321e0"
      },
      "execution_count": 188,
      "outputs": [
        {
          "output_type": "execute_result",
          "data": {
            "text/plain": [
              "array([ 32.85314178,  32.76677322,  31.82539368, ..., 868.86254883,\n",
              "       858.0847168 , 864.17218018])"
            ]
          },
          "metadata": {},
          "execution_count": 188
        }
      ]
    },
    {
      "cell_type": "code",
      "source": [
        "y\n"
      ],
      "metadata": {
        "colab": {
          "base_uri": "https://localhost:8080/"
        },
        "id": "-gxogX6jSb0e",
        "outputId": "235adeaf-258a-4223-9e7e-2a6a9ef7ab4e"
      },
      "execution_count": 189,
      "outputs": [
        {
          "output_type": "execute_result",
          "data": {
            "text/plain": [
              "array([2.22044605e-16, 2.22044605e-16, 2.22044605e-16, ...,\n",
              "       2.22044605e-16, 2.22044605e-16, 2.22044605e-16])"
            ]
          },
          "metadata": {},
          "execution_count": 189
        }
      ]
    },
    {
      "cell_type": "code",
      "source": [
        "np.sum(y)"
      ],
      "metadata": {
        "colab": {
          "base_uri": "https://localhost:8080/"
        },
        "id": "BHaFbJW4RWD-",
        "outputId": "85dad467-b552-41ba-a2a4-41f4243ab4b8"
      },
      "execution_count": 190,
      "outputs": [
        {
          "output_type": "execute_result",
          "data": {
            "text/plain": [
              "4.721854291239661"
            ]
          },
          "metadata": {},
          "execution_count": 190
        }
      ]
    },
    {
      "cell_type": "code",
      "source": [
        "np.sort(np.array(returns))"
      ],
      "metadata": {
        "colab": {
          "base_uri": "https://localhost:8080/"
        },
        "id": "It97f7V1RXDk",
        "outputId": "675b8e05-d53d-4f5b-e3c9-d4803ef7f797"
      },
      "execution_count": 191,
      "outputs": [
        {
          "output_type": "execute_result",
          "data": {
            "text/plain": [
              "array([-77.87487793, -74.39697266, -63.17367554, ...,  59.98510742,\n",
              "        75.82830811, 119.07342529])"
            ]
          },
          "metadata": {},
          "execution_count": 191
        }
      ]
    },
    {
      "cell_type": "code",
      "source": [
        "import torch\n",
        "import torch.nn as nn\n"
      ],
      "metadata": {
        "id": "OXFADha_A2lN"
      },
      "execution_count": 192,
      "outputs": []
    },
    {
      "cell_type": "code",
      "source": [
        "class QuantileLoss(nn.Module):\n",
        "    def __init__(self, quantile):\n",
        "        super(QuantileLoss, self).__init__()\n",
        "        self.quantile = quantile\n",
        "\n",
        "    def forward(self, predictions, targets):\n",
        "        errors = targets - predictions\n",
        "        quantile_loss = torch.max((self.quantile - 1) * errors, self.quantile * errors)\n",
        "        return quantile_loss.mean()"
      ],
      "metadata": {
        "id": "XGSJ5sjAo-I-"
      },
      "execution_count": 193,
      "outputs": []
    },
    {
      "cell_type": "code",
      "source": [
        "class NeuralNetwork(nn.Module):\n",
        "    def __init__(self, input_size, hidden_size, output_size):\n",
        "        super(NeuralNetwork, self).__init__()\n",
        "        self.hidden_layer = nn.Linear(input_size, hidden_size,dtype=torch.float64)\n",
        "        self.relu = nn.ReLU()\n",
        "        self.output_layer = nn.Linear(hidden_size, output_size,dtype=torch.float64)\n",
        "\n",
        "    def forward(self, x):\n",
        "        x = self.hidden_layer(x)\n",
        "        x = self.relu(x)\n",
        "        x = self.output_layer(x)\n",
        "        return x"
      ],
      "metadata": {
        "id": "t_B7AEL_pF-j"
      },
      "execution_count": 194,
      "outputs": []
    },
    {
      "cell_type": "code",
      "source": [
        "network = NeuralNetwork(1,5,1)\n",
        "quantile_loss = QuantileLoss(0.95)"
      ],
      "metadata": {
        "id": "THRrWmYtpG0q"
      },
      "execution_count": 195,
      "outputs": []
    },
    {
      "cell_type": "code",
      "source": [
        "optimizer = torch.optim.SGD(network.parameters(),lr=0.001)\n",
        "input = np.array(data['Adj Close'])\n",
        "input=input[0:-1]\n",
        "input=torch.from_numpy(input)\n",
        "input= torch.unsqueeze(input, dim=1)\n",
        "returns=torch.from_numpy(returns)\n",
        "returns=torch.unsqueeze(returns,dim=1)"
      ],
      "metadata": {
        "id": "qvzHdqJxpMMX"
      },
      "execution_count": 196,
      "outputs": []
    },
    {
      "cell_type": "code",
      "source": [
        "for epoch in range(100000):\n",
        "    outputs = network(input)\n",
        "    loss = quantile_loss(outputs, returns)\n",
        "    optimizer.zero_grad()\n",
        "    loss.backward()\n",
        "    optimizer.step()\n",
        "    if (epoch + 1) % 1000== 0:\n",
        "        print(f\"Epoch: {epoch+1}, Loss: {loss.item()}\")"
      ],
      "metadata": {
        "colab": {
          "base_uri": "https://localhost:8080/"
        },
        "id": "uZSLfEiwprMi",
        "outputId": "bf93a3f3-3513-489d-971f-88a45451d131"
      },
      "execution_count": 197,
      "outputs": [
        {
          "output_type": "stream",
          "name": "stdout",
          "text": [
            "Epoch: 1000, Loss: 0.9997848991430102\n",
            "Epoch: 2000, Loss: 0.9522898365424473\n",
            "Epoch: 3000, Loss: 0.9405332232672735\n",
            "Epoch: 4000, Loss: 0.925930541554031\n",
            "Epoch: 5000, Loss: 0.924274119605489\n",
            "Epoch: 6000, Loss: 0.9234677246247699\n",
            "Epoch: 7000, Loss: 0.9220448460490047\n",
            "Epoch: 8000, Loss: 0.9173951372063675\n",
            "Epoch: 9000, Loss: 0.9161868976420952\n",
            "Epoch: 10000, Loss: 0.915070478343809\n",
            "Epoch: 11000, Loss: 0.914011036892818\n",
            "Epoch: 12000, Loss: 0.9130036261515488\n",
            "Epoch: 13000, Loss: 0.9120801517505396\n",
            "Epoch: 14000, Loss: 0.9112111296510907\n",
            "Epoch: 15000, Loss: 0.9104013368875429\n",
            "Epoch: 16000, Loss: 0.909652588605899\n",
            "Epoch: 17000, Loss: 0.9089349013857141\n",
            "Epoch: 18000, Loss: 0.908381398176165\n",
            "Epoch: 19000, Loss: 0.9077740150333774\n",
            "Epoch: 20000, Loss: 0.9072464305261069\n",
            "Epoch: 21000, Loss: 0.9067556078410445\n",
            "Epoch: 22000, Loss: 0.9062826446597306\n",
            "Epoch: 23000, Loss: 0.9058171569060898\n",
            "Epoch: 24000, Loss: 0.9054051069960178\n",
            "Epoch: 25000, Loss: 0.904841980520804\n",
            "Epoch: 26000, Loss: 0.9044586958588198\n",
            "Epoch: 27000, Loss: 0.904084762996903\n",
            "Epoch: 28000, Loss: 0.9037404619836724\n",
            "Epoch: 29000, Loss: 0.9033750276208815\n",
            "Epoch: 30000, Loss: 0.9302419719295856\n",
            "Epoch: 31000, Loss: 0.9158282175255809\n",
            "Epoch: 32000, Loss: 0.9100628399080858\n",
            "Epoch: 33000, Loss: 0.9083669090905869\n",
            "Epoch: 34000, Loss: 0.9090315906548544\n",
            "Epoch: 35000, Loss: 0.9065691518771417\n",
            "Epoch: 36000, Loss: 0.9046981847939903\n",
            "Epoch: 37000, Loss: 0.9051902055909299\n",
            "Epoch: 38000, Loss: 0.9046153898569564\n",
            "Epoch: 39000, Loss: 0.9043666528926448\n",
            "Epoch: 40000, Loss: 0.9041661267795711\n",
            "Epoch: 41000, Loss: 0.9043217780488428\n",
            "Epoch: 42000, Loss: 0.9042280593853538\n",
            "Epoch: 43000, Loss: 0.9040966202478414\n",
            "Epoch: 44000, Loss: 0.9039363160741178\n",
            "Epoch: 45000, Loss: 0.9050638401318357\n",
            "Epoch: 46000, Loss: 0.9033114410408486\n",
            "Epoch: 47000, Loss: 0.9041766325703177\n",
            "Epoch: 48000, Loss: 0.9031571553547452\n",
            "Epoch: 49000, Loss: 0.9044328992189222\n",
            "Epoch: 50000, Loss: 0.9044471520116047\n",
            "Epoch: 51000, Loss: 0.9027908321769881\n",
            "Epoch: 52000, Loss: 0.9030918449086202\n",
            "Epoch: 53000, Loss: 0.901416889627063\n",
            "Epoch: 54000, Loss: 0.9012124240963365\n",
            "Epoch: 55000, Loss: 0.9012634181032418\n",
            "Epoch: 56000, Loss: 0.9013588586579742\n",
            "Epoch: 57000, Loss: 0.9027114051805702\n",
            "Epoch: 58000, Loss: 0.902577216069317\n",
            "Epoch: 59000, Loss: 0.9022910949095484\n",
            "Epoch: 60000, Loss: 0.900309382818638\n",
            "Epoch: 61000, Loss: 0.9002183965576964\n",
            "Epoch: 62000, Loss: 0.9003419849806493\n",
            "Epoch: 63000, Loss: 0.9003564406247438\n",
            "Epoch: 64000, Loss: 0.9003766602408896\n",
            "Epoch: 65000, Loss: 0.9003500119525302\n",
            "Epoch: 66000, Loss: 0.9003394118109163\n",
            "Epoch: 67000, Loss: 0.900244066496165\n",
            "Epoch: 68000, Loss: 0.9038171301886108\n",
            "Epoch: 69000, Loss: 0.9030549258010804\n",
            "Epoch: 70000, Loss: 0.9028824260248417\n",
            "Epoch: 71000, Loss: 0.9027204926937812\n",
            "Epoch: 72000, Loss: 0.9025796586820475\n",
            "Epoch: 73000, Loss: 0.9022874253193138\n",
            "Epoch: 74000, Loss: 0.9026823684647228\n",
            "Epoch: 75000, Loss: 0.9022356707455991\n",
            "Epoch: 76000, Loss: 0.9020397926749175\n",
            "Epoch: 77000, Loss: 0.901867176715866\n",
            "Epoch: 78000, Loss: 0.9021700314524554\n",
            "Epoch: 79000, Loss: 0.9019079357421971\n",
            "Epoch: 80000, Loss: 0.9019944811603805\n",
            "Epoch: 81000, Loss: 0.8996908219630754\n",
            "Epoch: 82000, Loss: 0.8997356913954558\n",
            "Epoch: 83000, Loss: 0.8998487327654359\n",
            "Epoch: 84000, Loss: 0.8998343592056642\n",
            "Epoch: 85000, Loss: 0.8998491057085606\n",
            "Epoch: 86000, Loss: 0.8998841472698597\n",
            "Epoch: 87000, Loss: 0.8997701950254484\n",
            "Epoch: 88000, Loss: 0.8999607791036464\n",
            "Epoch: 89000, Loss: 0.8997334291283698\n",
            "Epoch: 90000, Loss: 0.8999123335793936\n",
            "Epoch: 91000, Loss: 0.8999298552781757\n",
            "Epoch: 92000, Loss: 0.8998543084009111\n",
            "Epoch: 93000, Loss: 0.8999167976819783\n",
            "Epoch: 94000, Loss: 0.8998896658762565\n",
            "Epoch: 95000, Loss: 0.8996516014245782\n",
            "Epoch: 96000, Loss: 0.8997448548345467\n",
            "Epoch: 97000, Loss: 0.8996482577686665\n",
            "Epoch: 98000, Loss: 0.899655619429533\n",
            "Epoch: 99000, Loss: 0.899632993057158\n",
            "Epoch: 100000, Loss: 0.8996065120230128\n"
          ]
        }
      ]
    },
    {
      "cell_type": "code",
      "source": [
        "outputs=network(input)\n",
        "ans=outputs.detach().numpy()\n",
        "ans.shape\n",
        "x=np.arange(ans.shape[0])\n",
        "x"
      ],
      "metadata": {
        "colab": {
          "base_uri": "https://localhost:8080/"
        },
        "id": "WCrFcrl4p-qz",
        "outputId": "7161d977-9f01-4416-d2aa-4ab289848d9e"
      },
      "execution_count": 198,
      "outputs": [
        {
          "output_type": "execute_result",
          "data": {
            "text/plain": [
              "array([   0,    1,    2, ..., 4521, 4522, 4523])"
            ]
          },
          "metadata": {},
          "execution_count": 198
        }
      ]
    },
    {
      "cell_type": "code",
      "source": [
        "fig,(ax1,ax2)=plt.subplots(1,2,constrained_layout=True,figsize=(12,4))\n",
        "ax1.plot(returns)\n",
        "ax2.plot(ans)"
      ],
      "metadata": {
        "id": "CDAdFZHjxNOB",
        "outputId": "2b8f9577-63f9-4350-a227-64ae2c53c195",
        "colab": {
          "base_uri": "https://localhost:8080/",
          "height": 445
        }
      },
      "execution_count": 199,
      "outputs": [
        {
          "output_type": "execute_result",
          "data": {
            "text/plain": [
              "[<matplotlib.lines.Line2D at 0x7d0fb7656ce0>]"
            ]
          },
          "metadata": {},
          "execution_count": 199
        },
        {
          "output_type": "display_data",
          "data": {
            "text/plain": [
              "<Figure size 1200x400 with 2 Axes>"
            ],
            "image/png": "[encoded data removed]"
          },
          "metadata": {}
        }
      ]
    },
    {
      "cell_type": "code",
      "source": [],
      "metadata": {
        "id": "JZwcIuXCzw-q"
      },
      "execution_count": 199,
      "outputs": []
    }
  ]
}